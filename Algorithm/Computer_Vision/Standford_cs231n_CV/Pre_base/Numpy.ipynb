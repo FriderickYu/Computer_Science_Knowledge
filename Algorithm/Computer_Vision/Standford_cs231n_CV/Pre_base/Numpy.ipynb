{
 "cells": [
  {
   "cell_type": "markdown",
   "source": [
    "# Numpy基础用法\n",
    "一个`Numpy`数组是一个由值组成的网格, 所有值都是相同的数据类型, 其维数就是`rank`, 数组的维度是一个由整数组成的元组, 代表了数组每个维度的大小"
   ],
   "metadata": {
    "collapsed": false
   }
  },
  {
   "cell_type": "code",
   "execution_count": 14,
   "outputs": [
    {
     "name": "stdout",
     "output_type": "stream",
     "text": [
      "a的数据类型:  <class 'numpy.ndarray'>\n",
      "a第一维度的长度:  3\n",
      "a的维度:  (3,)\n",
      "1 2 3\n",
      "改变后的a数组:  [5 2 3]\n",
      "b的维度:  (2, 3)\n",
      "b第一维度的长度:  2\n",
      "1 2 4\n"
     ]
    }
   ],
   "source": [
    "import numpy as np\n",
    "# 创造一个一维数组\n",
    "a = np.array([1, 2, 3])\n",
    "print(\"a的数据类型: \", type(a))\n",
    "# 如果是一维数组, shape[0]直接代表元素的个数, 没有shape[1]\n",
    "# 如果是二维数组, shape[0]代表了数组的行数, shape[1]代表了数组的列数, shape[-1]代表最后一个维度, 就是数组的列数\n",
    "print(\"a第一维度的长度: \", a.shape[0])\n",
    "print(\"a的维度: \", a.shape)\n",
    "print(a[0], a[1], a[2])\n",
    "a[0] = 5\n",
    "print(\"改变后的a数组: \", a)\n",
    "\n",
    "b = np.array([[1, 2, 3], [4, 5, 6]])\n",
    "print(\"b的维度: \", b.shape)\n",
    "print(\"b第一维度的长度: \" , b.shape[0])\n",
    "print(b[0, 0], b[0, 1], b[1, 0])"
   ],
   "metadata": {
    "collapsed": false,
    "ExecuteTime": {
     "end_time": "2023-12-04T13:27:24.927563900Z",
     "start_time": "2023-12-04T13:27:24.919387800Z"
    }
   }
  },
  {
   "cell_type": "code",
   "execution_count": 26,
   "outputs": [
    {
     "name": "stdout",
     "output_type": "stream",
     "text": [
      "[[0. 0.]\n",
      " [0. 0.]]\n",
      "[[0. 0.]]\n",
      "[[7 7]\n",
      " [7 7]]\n",
      "[[1. 0.]\n",
      " [0. 1.]]\n",
      "[[0.76915092 0.0421865 ]\n",
      " [0.15463751 0.36003397]]\n"
     ]
    }
   ],
   "source": [
    "# 创造一个全为0的矩阵\n",
    "a = np.zeros((2, 2))\n",
    "print(a)\n",
    "\n",
    "b = np.zeros((1, 2))\n",
    "print(b)\n",
    "\n",
    "# 创建一个只有一种元素的数组\n",
    "c = np.full((2, 2), 7)\n",
    "print(c)\n",
    "\n",
    "# 创建一个特定大小的单位矩阵\n",
    "d = np.eye(2)\n",
    "print(d)\n",
    "\n",
    "# 创建一个由随机数组成的数组\n",
    "e = np.random.random((2, 2))\n",
    "print(e)"
   ],
   "metadata": {
    "collapsed": false,
    "ExecuteTime": {
     "end_time": "2023-12-04T13:34:40.114184300Z",
     "start_time": "2023-12-04T13:34:40.104069300Z"
    }
   }
  },
  {
   "cell_type": "markdown",
   "source": [
    "## 数组索引"
   ],
   "metadata": {
    "collapsed": false
   }
  },
  {
   "cell_type": "code",
   "execution_count": 34,
   "outputs": [
    {
     "name": "stdout",
     "output_type": "stream",
     "text": [
      "[[2 3]\n",
      " [6 7]]\n",
      "a数组中第0行第3列的元素是:  3\n",
      "[[77  3]\n",
      " [ 6  7]]\n"
     ]
    }
   ],
   "source": [
    "a = np.array([[1,2,3,4], [5,6,7,8], [9,10,11,12]])\n",
    "# b取a的第0行到第1行, 第1列到第2列\n",
    "b = a[:2, 1:3]\n",
    "print(b)\n",
    "\n",
    "print(\"a数组中第0行第3列的元素是: \", a[0, 2])\n",
    "b[0, 0] = 77\n",
    "print(b)"
   ],
   "metadata": {
    "collapsed": false,
    "ExecuteTime": {
     "end_time": "2023-12-04T13:39:52.006768200Z",
     "start_time": "2023-12-04T13:39:51.976509600Z"
    }
   }
  },
  {
   "cell_type": "code",
   "execution_count": 40,
   "outputs": [
    {
     "name": "stdout",
     "output_type": "stream",
     "text": [
      "a数组中索引为1的行数中的所有元素:  [5 6 7 8]\n",
      "[[5 6 7 8]]\n",
      "[5 6 7 8] (4,)\n",
      "[[5 6 7 8]] (1, 4)\n",
      "[[ 1 77  3  4]\n",
      " [ 5  6  7  8]\n",
      " [ 9 10 11 12]]\n",
      "[77  6 10]\n",
      "[[77]\n",
      " [ 6]\n",
      " [10]]\n"
     ]
    }
   ],
   "source": [
    "# 索引和切片混用\n",
    "row_r1 = a[1, :]\n",
    "print(\"a数组中索引为1的行数中的所有元素: \", row_r1)\n",
    "row_r2 = a[1:2, :]\n",
    "print(row_r2)\n",
    "print(row_r1, row_r1.shape)  # Prints \"[5 6 7 8] (4,)\"\n",
    "print(row_r2, row_r2.shape)  # Prints \"[[5 6 7 8]] (1, 4)\"\n",
    "print(a)\n",
    "col_r1 = a[:, 1]\n",
    "col_r2 = a[:, 1:2]\n",
    "print(col_r1)\n",
    "print(col_r2)"
   ],
   "metadata": {
    "collapsed": false,
    "ExecuteTime": {
     "end_time": "2023-12-04T13:45:26.498027Z",
     "start_time": "2023-12-04T13:45:26.477062900Z"
    }
   }
  }
 ],
 "metadata": {
  "kernelspec": {
   "display_name": "Python 3",
   "language": "python",
   "name": "python3"
  },
  "language_info": {
   "codemirror_mode": {
    "name": "ipython",
    "version": 2
   },
   "file_extension": ".py",
   "mimetype": "text/x-python",
   "name": "python",
   "nbconvert_exporter": "python",
   "pygments_lexer": "ipython2",
   "version": "2.7.6"
  }
 },
 "nbformat": 4,
 "nbformat_minor": 0
}
