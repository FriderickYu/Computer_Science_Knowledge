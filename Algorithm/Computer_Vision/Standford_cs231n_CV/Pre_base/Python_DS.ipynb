{
 "cells": [
  {
   "cell_type": "markdown",
   "source": [
    "# Python基本用法"
   ],
   "metadata": {
    "collapsed": false
   }
  },
  {
   "cell_type": "markdown",
   "source": [
    "## 列表\n",
    "特点: 可变, 可以容纳多种数据类型的元素"
   ],
   "metadata": {
    "collapsed": false
   }
  },
  {
   "cell_type": "code",
   "execution_count": 6,
   "outputs": [
    {
     "name": "stdout",
     "output_type": "stream",
     "text": [
      "打印xs:  [3, 1, 2] 2\n",
      "倒数第一个元素是:  2\n",
      "第二次打印xs:  [3, 1, 'foo']\n",
      "添加元素后的列表:  [3, 1, 'foo', 'bar']\n",
      "被弹出的元素是:  bar\n",
      "删除元素后的列表是这样的:  [3, 1, 'foo']\n"
     ]
    }
   ],
   "source": [
    "# 创建列表\n",
    "xs = [3, 1, 2]\n",
    "print(\"打印xs: \", xs, xs[2])\n",
    "# 输出最后一个元素, 负数代表从后往前, -1代表最后一个元素, -2就是倒数第二个\n",
    "print(\"倒数第一个元素是: \", xs[-1])\n",
    "# 列表可以容纳多种不同数据类型的元素\n",
    "xs[2] = 'foo'\n",
    "print(\"第二次打印xs: \", xs)\n",
    "# 列表末尾添加元素\n",
    "xs.append('bar')\n",
    "print(\"添加元素后的列表: \", xs)\n",
    "# 弹出列表最后一个元素, 并返回被删除的元素\n",
    "x = xs.pop()\n",
    "print(\"被弹出的元素是: \", x)\n",
    "print(\"删除元素后的列表是这样的: \", xs)"
   ],
   "metadata": {
    "collapsed": false,
    "ExecuteTime": {
     "end_time": "2023-12-04T12:00:57.054892500Z",
     "start_time": "2023-12-04T12:00:57.041204600Z"
    }
   }
  },
  {
   "cell_type": "markdown",
   "source": [
    "## 索引\n",
    "快速访问部分/全部列表的元素"
   ],
   "metadata": {
    "collapsed": false
   }
  },
  {
   "cell_type": "markdown",
   "source": [
    "nums = list(range(5))\n",
    "print(\"nums列表为: \", nums)\n",
    "print(\"索引2到索引3的元素为: \", nums[2:4])\n",
    "print(\"索引2到最后一个的元素为: \", nums[2:])\n",
    "print(\"第一个元素到索引2的元素为: \", nums[:2])\n",
    "print(\"输出整个列表: \", nums[:])\n",
    "print(\"第一个元素到倒数第二个元素: \", nums[:-1])\n",
    "# 给索引切片给予新的元素\n",
    "nums[2:4] = [8, 9]\n",
    "print(\"变化后的列表: \", nums)"
   ],
   "metadata": {
    "collapsed": false
   }
  },
  {
   "cell_type": "code",
   "execution_count": 22,
   "outputs": [
    {
     "name": "stdout",
     "output_type": "stream",
     "text": [
      "cat\n",
      "dog\n",
      "monkey\n",
      "#1: cat\n",
      "#2: dog\n",
      "#3: monkey\n"
     ]
    }
   ],
   "source": [
    "# 循环\n",
    "animals = ['cat', 'dog', 'monkey']\n",
    "for animal in animals:\n",
    "    print(animal)\n",
    "#\n",
    "for idx, animal in enumerate(animals):\n",
    "    print('#%d: %s' % (idx + 1, animal))"
   ],
   "metadata": {
    "collapsed": false,
    "ExecuteTime": {
     "end_time": "2023-12-04T12:52:29.014384900Z",
     "start_time": "2023-12-04T12:52:28.995309800Z"
    }
   }
  },
  {
   "cell_type": "markdown",
   "source": [
    "## 字典"
   ],
   "metadata": {
    "collapsed": false
   }
  },
  {
   "cell_type": "code",
   "execution_count": 30,
   "outputs": [
    {
     "name": "stdout",
     "output_type": "stream",
     "text": [
      "key cat的value是:  cute\n",
      "key cat是否在此字典中存在:  True\n",
      "更改后的字典为:  {'cat': 'cute', 'dog': 'fury', 'fish': 'wet'}\n"
     ]
    }
   ],
   "source": [
    "# 创建字典\n",
    "d = {'cat': 'cute', 'dog': 'fury'}\n",
    "# 通过key访问value\n",
    "print(\"key cat的value是: \", d['cat'])\n",
    "print(\"key cat是否在此字典中存在: \", 'cat' in d)\n",
    "d['fish'] = 'wet'\n",
    "print(\"更改后的字典为: \", d)"
   ],
   "metadata": {
    "collapsed": false,
    "ExecuteTime": {
     "end_time": "2023-12-04T12:57:34.426512300Z",
     "start_time": "2023-12-04T12:57:34.416930600Z"
    }
   }
  },
  {
   "cell_type": "code",
   "execution_count": 35,
   "outputs": [
    {
     "name": "stdout",
     "output_type": "stream",
     "text": [
      "A person has 2 legs\n",
      "A cat has 4 legs\n",
      "A spider has 8 legs\n",
      "A person has 2 legs\n",
      "A cat has 4 legs\n",
      "A spider has 8 legs\n"
     ]
    }
   ],
   "source": [
    "# 通过迭代key来访问字典\n",
    "d = {'person': 2, 'cat': 4, 'spider': 8}\n",
    "for animal in d:\n",
    "    legs = d[animal]\n",
    "    print('A %s has %d legs' % (animal, legs))\n",
    "\n",
    "# 迭代, 通过key获得对应value\n",
    "# 字典items()函数以列表返回可遍历的(键, 值)元组数组\n",
    "for animal, legs in d.items():\n",
    "    print('A %s has %d legs' % (animal, legs))"
   ],
   "metadata": {
    "collapsed": false,
    "ExecuteTime": {
     "end_time": "2023-12-04T13:04:12.438031700Z",
     "start_time": "2023-12-04T13:04:12.425709300Z"
    }
   }
  },
  {
   "cell_type": "markdown",
   "source": [
    "## 集合\n",
    "无序, 不可重复"
   ],
   "metadata": {
    "collapsed": false
   }
  },
  {
   "cell_type": "code",
   "execution_count": 41,
   "outputs": [
    {
     "name": "stdout",
     "output_type": "stream",
     "text": [
      "cat是否在集合中:  True\n",
      "fish是否在集合中:  False\n",
      "fish是否在集合中:  True\n",
      "集合当中有多少个元素:  3\n"
     ]
    }
   ],
   "source": [
    "animals = {'cat', 'dog'}\n",
    "print(\"cat是否在集合中: \", 'cat' in animals)\n",
    "print(\"fish是否在集合中: \", 'fish' in animals)\n",
    "animals.add('fish')\n",
    "print(\"fish是否在集合中: \", 'fish' in animals)\n",
    "print(\"集合当中有多少个元素: \", len(animals))\n"
   ],
   "metadata": {
    "collapsed": false,
    "ExecuteTime": {
     "end_time": "2023-12-04T13:07:14.812290500Z",
     "start_time": "2023-12-04T13:07:14.787627200Z"
    }
   }
  },
  {
   "cell_type": "markdown",
   "source": [
    "## 元组\n",
    "不可变的"
   ],
   "metadata": {
    "collapsed": false
   }
  },
  {
   "cell_type": "code",
   "execution_count": 46,
   "outputs": [
    {
     "name": "stdout",
     "output_type": "stream",
     "text": [
      "{(0, 1): 0, (1, 2): 1, (2, 3): 2, (3, 4): 3, (4, 5): 4, (5, 6): 5, (6, 7): 6, (7, 8): 7, (8, 9): 8, (9, 10): 9}\n",
      "t的数据类型是 <class 'tuple'>\n",
      "5\n"
     ]
    }
   ],
   "source": [
    "d = {(x, x + 1): x for x in range(10)}\n",
    "print(d)\n",
    "t = (5, 6)\n",
    "print(\"t的数据类型是\", type(t))\n",
    "print(d[t])"
   ],
   "metadata": {
    "collapsed": false,
    "ExecuteTime": {
     "end_time": "2023-12-04T13:09:22.701729500Z",
     "start_time": "2023-12-04T13:09:22.689127300Z"
    }
   }
  },
  {
   "cell_type": "code",
   "execution_count": null,
   "outputs": [],
   "source": [],
   "metadata": {
    "collapsed": false
   }
  }
 ],
 "metadata": {
  "kernelspec": {
   "display_name": "Python 3",
   "language": "python",
   "name": "python3"
  },
  "language_info": {
   "codemirror_mode": {
    "name": "ipython",
    "version": 2
   },
   "file_extension": ".py",
   "mimetype": "text/x-python",
   "name": "python",
   "nbconvert_exporter": "python",
   "pygments_lexer": "ipython2",
   "version": "2.7.6"
  }
 },
 "nbformat": 4,
 "nbformat_minor": 0
}
