{
 "cells": [
  {
   "cell_type": "markdown",
   "source": [
    "# 什么是NumPy"
   ],
   "metadata": {
    "collapsed": false
   }
  },
  {
   "cell_type": "markdown",
   "source": [
    "Numpy提供了多为数组对象, 用于数组快速操作的各种API. NumPy包的核心是`ndarry`对象. 封装了Python原生的同数据类型的n维数组, 为了保证其性能, 其中有许多操作都是代码在本地进行编译后执行的.\n",
    "NumPy数组和原生Python Array之间的几个重要区别:\n",
    "1. NumPy数组在创建时具有固定的大小, 而Python Array是可以动态增长的. 更改ndarray的大小将创建一个新数组并删除原来的数组\n",
    "2. NumPy数组中的元素都需具有相同的数据类型, 因此在内存中大小相同"
   ],
   "metadata": {
    "collapsed": false
   }
  },
  {
   "cell_type": "markdown",
   "source": [
    "## 基础知识"
   ],
   "metadata": {
    "collapsed": false
   }
  },
  {
   "cell_type": "markdown",
   "source": [
    "1. `ndarray.ndim`: 数组的轴的个数, 其实就是**rank**\n",
    "2. `ndarray.shape`: 数组的维度, 对于n行m列的数组, 维度就是(n, m)\n",
    "3. `ndarray.size`: 数组元素的总数, shape元组的乘积\n",
    "4. `ndarray.dtype`: 描述数组中元素类型的对象. NumPy提供的类型不用于Python, 例如由`numpy.int32`, `numpy.int16`, `numpy.float64`\n",
    "5. `ndarray.itemsize`: 数组中每个元素的字节大小, 例如`float64`类型的数组为8, 而`complex32`类型的数组为4"
   ],
   "metadata": {
    "collapsed": false
   }
  },
  {
   "cell_type": "code",
   "execution_count": 10,
   "outputs": [
    {
     "name": "stdout",
     "output_type": "stream",
     "text": [
      "数组a的维度是:  (3, 5)\n",
      "数组a的rank是:  2\n",
      "数组a内的元素类型是:  int32\n",
      "数组a内的元素字节大小:  4\n",
      "数组a内元素的个数:  15\n"
     ]
    },
    {
     "data": {
      "text/plain": "array([[ 0,  1,  2,  3,  4],\n       [ 5,  6,  7,  8,  9],\n       [10, 11, 12, 13, 14]])"
     },
     "execution_count": 10,
     "metadata": {},
     "output_type": "execute_result"
    }
   ],
   "source": [
    "import numpy as np\n",
    "# 创建包含0-14, 维度为(3, 5)的数组\n",
    "a = np.arange(15).reshape(3, 5)\n",
    "print(\"数组a的维度是: \", a.shape)\n",
    "print(\"数组a的rank是: \", a.ndim)\n",
    "print(\"数组a内的元素类型是: \", a.dtype.name)\n",
    "print(\"数组a内的元素字节大小: \", a.itemsize)\n",
    "print(\"数组a内元素的个数: \", a.size)\n",
    "a"
   ],
   "metadata": {
    "collapsed": false,
    "ExecuteTime": {
     "end_time": "2023-08-21T06:49:52.599227600Z",
     "start_time": "2023-08-21T06:49:52.586212400Z"
    }
   }
  },
  {
   "cell_type": "markdown",
   "source": [
    "### 数组创建"
   ],
   "metadata": {
    "collapsed": false
   }
  },
  {
   "cell_type": "markdown",
   "source": [
    "可以使用array函数从Python*列表*或*元组*中创建数组. 得到的数组的类型是从Python列表中元素的类型推导出来的"
   ],
   "metadata": {
    "collapsed": false
   }
  },
  {
   "cell_type": "code",
   "execution_count": 17,
   "outputs": [
    {
     "name": "stdout",
     "output_type": "stream",
     "text": [
      "int32\n",
      "[[1 2 3]\n",
      " [4 5 6]]\n"
     ]
    },
    {
     "data": {
      "text/plain": "array([[1.+0.j, 2.+0.j],\n       [3.+0.j, 4.+0.j]])"
     },
     "execution_count": 17,
     "metadata": {},
     "output_type": "execute_result"
    }
   ],
   "source": [
    "# 通过array创建数组, 传输的应该是个可迭代对象, 比如元组或列表, 不能是一堆数字\n",
    "b = np.array([1, 2, 3, 4])\n",
    "print(b.dtype)\n",
    "# 还可以将序列的序列转换成二维数组, 或是将序列的序列的序列转换成三维数组......\n",
    "c = np.array([[1, 2, 3], [4, 5, 6]])\n",
    "print(c)\n",
    "# 也可以在创建时显式指定数组的类型\n",
    "d = np.array([[1, 2], [3, 4]], dtype=complex)\n",
    "d"
   ],
   "metadata": {
    "collapsed": false,
    "ExecuteTime": {
     "end_time": "2023-08-21T06:59:20.155265200Z",
     "start_time": "2023-08-21T06:59:20.135296100Z"
    }
   }
  },
  {
   "cell_type": "code",
   "execution_count": 25,
   "outputs": [
    {
     "data": {
      "text/plain": "array([[1.39069238e-309, 1.39069238e-309, 1.39069238e-309],\n       [1.39069238e-309, 1.39069238e-309, 1.39069238e-309]])"
     },
     "execution_count": 25,
     "metadata": {},
     "output_type": "execute_result"
    }
   ],
   "source": [
    "# zeros, 创建一个完全由0组成的数组\n",
    "np.zeros((3, 4))\n",
    "# ones, 创建一个完全由1组成的数组\n",
    "np.ones((2, 3, 4), dtype=np.int16)\n",
    "# empty, 创建一个数组, 不过初始内容完全随机\n",
    "np.empty((2, 3))"
   ],
   "metadata": {
    "collapsed": false,
    "ExecuteTime": {
     "end_time": "2023-08-21T07:10:14.648821900Z",
     "start_time": "2023-08-21T07:10:14.637808800Z"
    }
   }
  },
  {
   "cell_type": "markdown",
   "source": [
    "也可以通过迭代的方式创建数组, 比如`arange`或者`linspace`\n",
    "如果创建的数组元素都是整数, 那就用`arange`\n",
    "如果创建的数组元素是浮点数, 那就用`linspace`"
   ],
   "metadata": {
    "collapsed": false
   }
  },
  {
   "cell_type": "code",
   "execution_count": 29,
   "outputs": [
    {
     "data": {
      "text/plain": "array([0. , 0.3, 0.6, 0.9, 1.2, 1.5, 1.8])"
     },
     "execution_count": 29,
     "metadata": {},
     "output_type": "execute_result"
    }
   ],
   "source": [
    "# start, end, step\n",
    "np.arange(10, 30, 5)\n",
    "np.arange(0, 2, 0.3)"
   ],
   "metadata": {
    "collapsed": false,
    "ExecuteTime": {
     "end_time": "2023-08-21T07:14:22.826505200Z",
     "start_time": "2023-08-21T07:14:22.817011600Z"
    }
   }
  },
  {
   "cell_type": "code",
   "execution_count": 31,
   "outputs": [
    {
     "name": "stdout",
     "output_type": "stream",
     "text": [
      "[0.   0.25 0.5  0.75 1.   1.25 1.5  1.75 2.  ]\n",
      "[ 0.00000000e+00  6.34239197e-02  1.26592454e-01  1.89251244e-01\n",
      "  2.51147987e-01  3.12033446e-01  3.71662456e-01  4.29794912e-01\n",
      "  4.86196736e-01  5.40640817e-01  5.92907929e-01  6.42787610e-01\n",
      "  6.90079011e-01  7.34591709e-01  7.76146464e-01  8.14575952e-01\n",
      "  8.49725430e-01  8.81453363e-01  9.09631995e-01  9.34147860e-01\n",
      "  9.54902241e-01  9.71811568e-01  9.84807753e-01  9.93838464e-01\n",
      "  9.98867339e-01  9.99874128e-01  9.96854776e-01  9.89821442e-01\n",
      "  9.78802446e-01  9.63842159e-01  9.45000819e-01  9.22354294e-01\n",
      "  8.95993774e-01  8.66025404e-01  8.32569855e-01  7.95761841e-01\n",
      "  7.55749574e-01  7.12694171e-01  6.66769001e-01  6.18158986e-01\n",
      "  5.67059864e-01  5.13677392e-01  4.58226522e-01  4.00930535e-01\n",
      "  3.42020143e-01  2.81732557e-01  2.20310533e-01  1.58001396e-01\n",
      "  9.50560433e-02  3.17279335e-02 -3.17279335e-02 -9.50560433e-02\n",
      " -1.58001396e-01 -2.20310533e-01 -2.81732557e-01 -3.42020143e-01\n",
      " -4.00930535e-01 -4.58226522e-01 -5.13677392e-01 -5.67059864e-01\n",
      " -6.18158986e-01 -6.66769001e-01 -7.12694171e-01 -7.55749574e-01\n",
      " -7.95761841e-01 -8.32569855e-01 -8.66025404e-01 -8.95993774e-01\n",
      " -9.22354294e-01 -9.45000819e-01 -9.63842159e-01 -9.78802446e-01\n",
      " -9.89821442e-01 -9.96854776e-01 -9.99874128e-01 -9.98867339e-01\n",
      " -9.93838464e-01 -9.84807753e-01 -9.71811568e-01 -9.54902241e-01\n",
      " -9.34147860e-01 -9.09631995e-01 -8.81453363e-01 -8.49725430e-01\n",
      " -8.14575952e-01 -7.76146464e-01 -7.34591709e-01 -6.90079011e-01\n",
      " -6.42787610e-01 -5.92907929e-01 -5.40640817e-01 -4.86196736e-01\n",
      " -4.29794912e-01 -3.71662456e-01 -3.12033446e-01 -2.51147987e-01\n",
      " -1.89251244e-01 -1.26592454e-01 -6.34239197e-02 -2.44929360e-16]\n"
     ]
    }
   ],
   "source": [
    "from numpy import pi\n",
    "# generate 9 numbers, from 0 to 2\n",
    "print(np.linspace(0, 2, 9))\n",
    "x = np.linspace(0, 2 * pi, 100)\n",
    "print(np.sin(x))"
   ],
   "metadata": {
    "collapsed": false,
    "ExecuteTime": {
     "end_time": "2023-08-21T07:16:02.025695500Z",
     "start_time": "2023-08-21T07:16:02.007998700Z"
    }
   }
  },
  {
   "cell_type": "markdown",
   "source": [
    "### 基本操作"
   ],
   "metadata": {
    "collapsed": false
   }
  },
  {
   "cell_type": "code",
   "execution_count": 36,
   "outputs": [
    {
     "name": "stdout",
     "output_type": "stream",
     "text": [
      "[20 29 38 47]\n",
      "[0 1 4 9]\n"
     ]
    }
   ],
   "source": [
    "a = np.array([20, 30, 40, 50])\n",
    "b = np.arange(0, 4, 1)\n",
    "print(a - b)\n",
    "print(b ** 2)"
   ],
   "metadata": {
    "collapsed": false,
    "ExecuteTime": {
     "end_time": "2023-08-21T07:24:38.157557200Z",
     "start_time": "2023-08-21T07:24:38.145099Z"
    }
   }
  },
  {
   "cell_type": "code",
   "execution_count": 38,
   "outputs": [
    {
     "name": "stdout",
     "output_type": "stream",
     "text": [
      "[[2 0]\n",
      " [0 4]]\n",
      "[[5 4]\n",
      " [3 4]]\n",
      "[[5 4]\n",
      " [3 4]]\n"
     ]
    }
   ],
   "source": [
    "# 普通乘法与点乘\n",
    "A = np.array([[1, 1], [0, 1]])\n",
    "B = np.array([[2, 0], [3, 4]])\n",
    "print(A * B)\n",
    "print(A @ B)\n",
    "print(A.dot(B))"
   ],
   "metadata": {
    "collapsed": false,
    "ExecuteTime": {
     "end_time": "2023-08-21T07:29:39.607015200Z",
     "start_time": "2023-08-21T07:29:39.589889300Z"
    }
   }
  },
  {
   "cell_type": "markdown",
   "source": [
    "### 索引, 切片和迭代"
   ],
   "metadata": {
    "collapsed": false
   }
  },
  {
   "cell_type": "code",
   "execution_count": 45,
   "outputs": [
    {
     "name": "stdout",
     "output_type": "stream",
     "text": [
      "[  0   1   8  27  64 125 216 343 512 729]\n",
      "索引2的元素是:  8\n",
      "索引2到索引4的元素都有:  [ 8 27 64]\n",
      "[-1000     1 -1000    27 -1000   125   216   343   512   729]\n",
      "[  729   512   343   216   125 -1000    27 -1000     1 -1000]\n"
     ]
    }
   ],
   "source": [
    "# ndarry当然可以像Python可迭代对象一样进行索引, 切片和迭代操作\n",
    "a = np.arange(10) ** 3\n",
    "print(a)\n",
    "print(\"索引2的元素是: \", a[2])\n",
    "print(\"索引2到索引4的元素都有: \", a[2:5])\n",
    "# 等同于a[0:6:2]\n",
    "a[0:6:2] = -1000\n",
    "print(a)\n",
    "# 数组逆置\n",
    "print(a[::-1])"
   ],
   "metadata": {
    "collapsed": false,
    "ExecuteTime": {
     "end_time": "2023-08-21T07:40:43.793602700Z",
     "start_time": "2023-08-21T07:40:43.788489200Z"
    }
   }
  }
 ],
 "metadata": {
  "kernelspec": {
   "display_name": "Python 3",
   "language": "python",
   "name": "python3"
  },
  "language_info": {
   "codemirror_mode": {
    "name": "ipython",
    "version": 2
   },
   "file_extension": ".py",
   "mimetype": "text/x-python",
   "name": "python",
   "nbconvert_exporter": "python",
   "pygments_lexer": "ipython2",
   "version": "2.7.6"
  }
 },
 "nbformat": 4,
 "nbformat_minor": 0
}
