{
 "cells": [
  {
   "cell_type": "markdown",
   "source": [
    "# 拷贝和视图"
   ],
   "metadata": {
    "collapsed": false
   }
  },
  {
   "cell_type": "markdown",
   "source": [
    "## 完全不复制"
   ],
   "metadata": {
    "collapsed": false
   }
  },
  {
   "cell_type": "markdown",
   "source": [
    "简单的通过变量指向数组并不会复制数组对象和里面的数据"
   ],
   "metadata": {
    "collapsed": false
   }
  },
  {
   "cell_type": "code",
   "execution_count": 12,
   "outputs": [],
   "source": [
    "import numpy as np\n",
    "a = np.arange(12)\n",
    "b = a\n",
    "# a和b同时指向一个内存地址, 这个地址指向了一个ndarray数组"
   ],
   "metadata": {
    "collapsed": false,
    "ExecuteTime": {
     "end_time": "2023-08-21T08:56:55.731653300Z",
     "start_time": "2023-08-21T08:56:55.727572400Z"
    }
   }
  },
  {
   "cell_type": "markdown",
   "source": [
    "## 深拷贝vs浅拷贝"
   ],
   "metadata": {
    "collapsed": false
   }
  },
  {
   "cell_type": "markdown",
   "source": [
    "**浅拷贝**: 重新分配一块内存, 创建一个新的对象, 里面的元素是原对象中**子对象**的引用"
   ],
   "metadata": {
    "collapsed": false
   }
  },
  {
   "cell_type": "code",
   "execution_count": 24,
   "outputs": [
    {
     "name": "stdout",
     "output_type": "stream",
     "text": [
      "[1, 2, 3, 4, ['a', 'b']]\n",
      "[1, 2, 3, 4, ['a', 'b']]\n",
      "False\n",
      "2701606781056\n",
      "2701606793984\n"
     ]
    }
   ],
   "source": [
    "import copy\n",
    "a = [1, 2, 3, 4, [\"a\", \"b\"]]\n",
    "b = copy.copy(a)\n",
    "print(a)\n",
    "print(b)\n",
    "print(a is b)\n",
    "print(id(a))\n",
    "print(id(b))"
   ],
   "metadata": {
    "collapsed": false,
    "ExecuteTime": {
     "end_time": "2023-08-21T09:40:33.513806100Z",
     "start_time": "2023-08-21T09:40:33.500518100Z"
    }
   }
  },
  {
   "cell_type": "markdown",
   "source": [
    "子对象的引用是怎么回事?"
   ],
   "metadata": {
    "collapsed": false
   }
  },
  {
   "cell_type": "code",
   "execution_count": 25,
   "outputs": [
    {
     "name": "stdout",
     "output_type": "stream",
     "text": [
      "[1, 2, 3, 4, ['a', 'b'], 5]\n",
      "[1, 2, 3, 4, ['a', 'b']]\n"
     ]
    }
   ],
   "source": [
    "# 给a增加一个元素, 是不会影响到b的\n",
    "a.append(5)\n",
    "print(a)\n",
    "print(b)"
   ],
   "metadata": {
    "collapsed": false,
    "ExecuteTime": {
     "end_time": "2023-08-21T09:42:31.654283400Z",
     "start_time": "2023-08-21T09:42:31.641108400Z"
    }
   }
  },
  {
   "cell_type": "markdown",
   "source": [
    "但是, 如果修改去修改a中子对象[\"a\", \"b\"], 再去增加一个\"c\", 就会发生变化"
   ],
   "metadata": {
    "collapsed": false
   }
  },
  {
   "cell_type": "code",
   "execution_count": 26,
   "outputs": [
    {
     "name": "stdout",
     "output_type": "stream",
     "text": [
      "[1, 2, 3, 4, ['a', 'b', 'c'], 5]\n",
      "[1, 2, 3, 4, ['a', 'b', 'c']]\n"
     ]
    }
   ],
   "source": [
    "a[4].append(\"c\")\n",
    "print(a)\n",
    "print(b)"
   ],
   "metadata": {
    "collapsed": false,
    "ExecuteTime": {
     "end_time": "2023-08-21T09:45:23.244490900Z",
     "start_time": "2023-08-21T09:45:23.227273200Z"
    }
   }
  },
  {
   "cell_type": "markdown",
   "source": [
    "能够看到b受到了影响\n",
    "![copy](image/copy.jpg)"
   ],
   "metadata": {
    "collapsed": false
   }
  },
  {
   "cell_type": "markdown",
   "source": [
    "深拷贝的作用就是为了浅拷贝存在的问题. 实现真正的全面拷贝\n",
    "深拷贝: 是指重新分配一块内存, 创建一个新的对象, 并将原对象中元素, 以递归的方式, 通过创建新的子对象拷贝到新对象中"
   ],
   "metadata": {
    "collapsed": false
   }
  },
  {
   "cell_type": "code",
   "execution_count": 28,
   "outputs": [
    {
     "name": "stdout",
     "output_type": "stream",
     "text": [
      "[1, 2, 3, 4, ['a', 'b']]\n",
      "[1, 2, 3, 4, ['a', 'b']]\n",
      "[1, 2, 3, 4, ['a', 'b', 'c']]\n",
      "[1, 2, 3, 4, ['a', 'b']]\n"
     ]
    }
   ],
   "source": [
    "import copy\n",
    "a = [1, 2, 3, 4, [\"a\", \"b\"]]\n",
    "# 深拷贝\n",
    "b = copy.deepcopy(a)\n",
    "print(a)\n",
    "print(b)\n",
    "a[4].append(\"c\")\n",
    "print(a)\n",
    "print(b)"
   ],
   "metadata": {
    "collapsed": false,
    "ExecuteTime": {
     "end_time": "2023-08-21T10:00:50.185666600Z",
     "start_time": "2023-08-21T10:00:50.174069600Z"
    }
   }
  },
  {
   "cell_type": "code",
   "execution_count": null,
   "outputs": [],
   "source": [],
   "metadata": {
    "collapsed": false
   }
  }
 ],
 "metadata": {
  "kernelspec": {
   "display_name": "Python 3",
   "language": "python",
   "name": "python3"
  },
  "language_info": {
   "codemirror_mode": {
    "name": "ipython",
    "version": 2
   },
   "file_extension": ".py",
   "mimetype": "text/x-python",
   "name": "python",
   "nbconvert_exporter": "python",
   "pygments_lexer": "ipython2",
   "version": "2.7.6"
  }
 },
 "nbformat": 4,
 "nbformat_minor": 0
}
