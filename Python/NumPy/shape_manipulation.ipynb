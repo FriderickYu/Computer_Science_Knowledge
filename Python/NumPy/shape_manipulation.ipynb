{
 "cells": [
  {
   "cell_type": "markdown",
   "source": [
    "# 数组的形状操纵"
   ],
   "metadata": {
    "collapsed": false
   }
  },
  {
   "cell_type": "markdown",
   "source": [
    "## 改变数组的形状"
   ],
   "metadata": {
    "collapsed": false
   }
  },
  {
   "cell_type": "code",
   "execution_count": 3,
   "outputs": [
    {
     "name": "stdout",
     "output_type": "stream",
     "text": [
      "[[5. 5. 0. 9.]\n",
      " [3. 6. 7. 3.]\n",
      " [2. 8. 9. 5.]]\n"
     ]
    }
   ],
   "source": [
    "import numpy as np\n",
    "# 随机生成(3, 4)的数组\n",
    "a = np.floor(10*np.random.random((3,4)))\n",
    "print(a)"
   ],
   "metadata": {
    "collapsed": false,
    "ExecuteTime": {
     "end_time": "2023-08-21T07:49:21.440061900Z",
     "start_time": "2023-08-21T07:49:21.435127900Z"
    }
   }
  },
  {
   "cell_type": "code",
   "execution_count": 9,
   "outputs": [
    {
     "name": "stdout",
     "output_type": "stream",
     "text": [
      "[5. 5. 0. 9. 3. 6. 7. 3. 2. 8. 9. 5.]\n",
      "[[5. 5.]\n",
      " [0. 9.]\n",
      " [3. 6.]\n",
      " [7. 3.]\n",
      " [2. 8.]\n",
      " [9. 5.]]\n",
      "[[5. 3. 2.]\n",
      " [5. 6. 8.]\n",
      " [0. 7. 9.]\n",
      " [9. 3. 5.]]\n",
      "(4, 3)\n"
     ]
    }
   ],
   "source": [
    "# 以下的三个方法并不会实际改变内存中的数组对象\n",
    "# 只是将新修改的数组对象加以返回\n",
    "# 将多维数组压缩成一个一维数组, 并返回\n",
    "print(a.ravel())\n",
    "# 返回一个新修订的数组\n",
    "print(a.reshape(6, 2))\n",
    "# 转置矩阵\n",
    "print(a.T)\n",
    "print(a.T.shape)"
   ],
   "metadata": {
    "collapsed": false,
    "ExecuteTime": {
     "end_time": "2023-08-21T07:54:20.921566600Z",
     "start_time": "2023-08-21T07:54:20.910889100Z"
    }
   }
  },
  {
   "cell_type": "code",
   "execution_count": 12,
   "outputs": [
    {
     "name": "stdout",
     "output_type": "stream",
     "text": [
      "[[5. 5. 0. 9. 3. 6.]\n",
      " [7. 3. 2. 8. 9. 5.]]\n"
     ]
    }
   ],
   "source": [
    "# ndarray.resize方法会修改数组本身\n",
    "a.resize((2, 6))\n",
    "print(a)"
   ],
   "metadata": {
    "collapsed": false,
    "ExecuteTime": {
     "end_time": "2023-08-21T07:58:20.216214100Z",
     "start_time": "2023-08-21T07:58:20.207115500Z"
    }
   }
  },
  {
   "cell_type": "markdown",
   "source": [
    "## 将不同数组堆叠在一起"
   ],
   "metadata": {
    "collapsed": false
   }
  },
  {
   "cell_type": "code",
   "execution_count": 20,
   "outputs": [
    {
     "name": "stdout",
     "output_type": "stream",
     "text": [
      "把数组a和b纵向放置后:  [[2. 9.]\n",
      " [1. 2.]\n",
      " [0. 2.]\n",
      " [1. 1.]]\n",
      "把数组a和b横向放置后:  [[2. 9. 0. 2.]\n",
      " [1. 2. 1. 1.]]\n"
     ]
    }
   ],
   "source": [
    "a = np.floor(10*np.random.random((2,2)))\n",
    "b = np.floor(10*np.random.random((2,2)))\n",
    "# 纵向合并\n",
    "print(\"把数组a和b纵向放置后: \", np.vstack((a, b)))\n",
    "# 横向合并\n",
    "print(\"把数组a和b横向放置后: \", np.hstack((a, b)))"
   ],
   "metadata": {
    "collapsed": false,
    "ExecuteTime": {
     "end_time": "2023-08-21T08:07:52.021258400Z",
     "start_time": "2023-08-21T08:07:52.005338500Z"
    }
   }
  },
  {
   "cell_type": "markdown",
   "source": [
    "## 将一个数组拆分成几个较小的数组"
   ],
   "metadata": {
    "collapsed": false
   }
  },
  {
   "cell_type": "code",
   "execution_count": 18,
   "outputs": [
    {
     "name": "stdout",
     "output_type": "stream",
     "text": [
      "[[1. 9. 9. 7. 5. 0. 5. 0. 1. 2. 6. 4.]\n",
      " [1. 2. 5. 1. 6. 9. 2. 1. 7. 5. 7. 1.]]\n",
      "[array([[1., 9., 9., 7.],\n",
      "       [1., 2., 5., 1.]]), array([[5., 0., 5., 0.],\n",
      "       [6., 9., 2., 1.]]), array([[1., 2., 6., 4.],\n",
      "       [7., 5., 7., 1.]])]\n",
      "[array([[1., 9., 9.],\n",
      "       [1., 2., 5.]]), array([[7.],\n",
      "       [1.]]), array([[5., 0., 5., 0., 1., 2., 6., 4.],\n",
      "       [6., 9., 2., 1., 7., 5., 7., 1.]])]\n"
     ]
    }
   ],
   "source": [
    "a = np.floor(10*np.random.random((2,12)))\n",
    "print(a)\n",
    "# 使用hsplit, 可以沿数组的水平轴拆分数组\n",
    "print(np.hsplit(a, 3))\n",
    "print(np.hsplit(a, (3, 4)))"
   ],
   "metadata": {
    "collapsed": false,
    "ExecuteTime": {
     "end_time": "2023-08-21T08:06:23.527564300Z",
     "start_time": "2023-08-21T08:06:23.515840900Z"
    }
   }
  }
 ],
 "metadata": {
  "kernelspec": {
   "display_name": "Python 3",
   "language": "python",
   "name": "python3"
  },
  "language_info": {
   "codemirror_mode": {
    "name": "ipython",
    "version": 2
   },
   "file_extension": ".py",
   "mimetype": "text/x-python",
   "name": "python",
   "nbconvert_exporter": "python",
   "pygments_lexer": "ipython2",
   "version": "2.7.6"
  }
 },
 "nbformat": 4,
 "nbformat_minor": 0
}
