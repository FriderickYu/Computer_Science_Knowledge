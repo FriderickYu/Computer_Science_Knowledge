{
 "cells": [
  {
   "cell_type": "markdown",
   "source": [
    "# 文件读写"
   ],
   "metadata": {
    "collapsed": false
   }
  },
  {
   "cell_type": "markdown",
   "source": [
    "Python对文件的操作大致就是三种, 打开文件, 操作文件, 关闭文件.\n",
    "`open()`方法的返回值就是一个file对象, 可以赋值给变量, `f = open(filename, mode)`\n",
    "\n",
    "所有具有`read`和`write`方法的对象, 都是file类型. 而所有file类型对象都可以使用`open`打开, `close`方法结束和被`with`上下文管理器管理"
   ],
   "metadata": {
    "collapsed": false
   }
  },
  {
   "cell_type": "code",
   "execution_count": 1,
   "outputs": [],
   "source": [
    "# 打开一个文件\n",
    "f = open(\"./test.txt\", \"w\")\n",
    "# 向文件写入内容, 操作文件\n",
    "f.write(\"Hello World\")\n",
    "# 关闭文件\n",
    "f.close()"
   ],
   "metadata": {
    "collapsed": false,
    "ExecuteTime": {
     "end_time": "2023-08-10T02:21:35.851594200Z",
     "start_time": "2023-08-10T02:21:35.837100400Z"
    }
   }
  },
  {
   "cell_type": "markdown",
   "source": [
    "## 打开模式"
   ],
   "metadata": {
    "collapsed": false
   }
  },
  {
   "cell_type": "markdown",
   "source": [
    "* r: **只读**, 默认模式, 如果文件不存在就报错, 存在就正常读取\n",
    "* w: **只写**, 如果文件不存在, 新建文件然后写入, 如果存在, 先清空文件内容, 再写入\n",
    "* a: **追加**, 如果文件不存在, 新建文件, 然后写入, 如果存在, 在文件的最后追加写入\n",
    "* x: **新建**, 如果文件存在则报错, 如果不存在就新建文件, 然后写入内容, 比w更安全\n",
    "* b: **二进制模式**, 比如rb, wb, ab, 以byte类型操作数据\n",
    "* +: **读写模式**, 比如r+, w+, a+"
   ],
   "metadata": {
    "collapsed": false
   }
  },
  {
   "cell_type": "markdown",
   "source": [
    "### b模式"
   ],
   "metadata": {
    "collapsed": false
   }
  },
  {
   "cell_type": "markdown",
   "source": [
    "二进制模式, 通常用来读取图片, 视频等内容. 在读写过程中需要自己指定编码格式"
   ],
   "metadata": {
    "collapsed": false
   }
  },
  {
   "cell_type": "code",
   "execution_count": 3,
   "outputs": [
    {
     "ename": "TypeError",
     "evalue": "a bytes-like object is required, not 'str'",
     "output_type": "error",
     "traceback": [
      "\u001B[1;31m---------------------------------------------------------------------------\u001B[0m",
      "\u001B[1;31mTypeError\u001B[0m                                 Traceback (most recent call last)",
      "Cell \u001B[1;32mIn[3], line 14\u001B[0m\n\u001B[0;32m     11\u001B[0m b \u001B[38;5;241m=\u001B[39m \u001B[38;5;28mbytes\u001B[39m(s,encoding\u001B[38;5;241m=\u001B[39m\u001B[38;5;124m'\u001B[39m\u001B[38;5;124mutf-8\u001B[39m\u001B[38;5;124m'\u001B[39m)\n\u001B[0;32m     13\u001B[0m f \u001B[38;5;241m=\u001B[39m \u001B[38;5;28mopen\u001B[39m(\u001B[38;5;124m'\u001B[39m\u001B[38;5;124mtest.txt\u001B[39m\u001B[38;5;124m'\u001B[39m,\u001B[38;5;124m'\u001B[39m\u001B[38;5;124mwb\u001B[39m\u001B[38;5;124m'\u001B[39m)    \u001B[38;5;66;03m##注意多了个b\u001B[39;00m\n\u001B[1;32m---> 14\u001B[0m \u001B[43mf\u001B[49m\u001B[38;5;241;43m.\u001B[39;49m\u001B[43mwrite\u001B[49m\u001B[43m(\u001B[49m\u001B[43ms\u001B[49m\u001B[43m)\u001B[49m\n\u001B[0;32m     16\u001B[0m \u001B[38;5;66;03m##报错\u001B[39;00m\n\u001B[0;32m     17\u001B[0m \u001B[38;5;66;03m# TypeError: a bytes-like object is required, not 'str'\u001B[39;00m\n\u001B[0;32m     18\u001B[0m \u001B[38;5;66;03m##意思是它需要一个bytes类型数据，你却给了个字符串\u001B[39;00m\n\u001B[0;32m     19\u001B[0m \n\u001B[0;32m     20\u001B[0m \u001B[38;5;66;03m##---------------------------------------------------\u001B[39;00m\n\u001B[0;32m     21\u001B[0m s \u001B[38;5;241m=\u001B[39m \u001B[38;5;124m'\u001B[39m\u001B[38;5;124mthis is a test\u001B[39m\u001B[38;5;124m'\u001B[39m\n",
      "\u001B[1;31mTypeError\u001B[0m: a bytes-like object is required, not 'str'"
     ]
    }
   ],
   "source": [
    "s = 'this is a test'\n",
    "b = bytes(s,encoding='utf-8')\n",
    "\n",
    "f = open('test.txt','w')\n",
    "f.write(s)\n",
    "\n",
    "##这样没问题，正常写入了文件。\n",
    "\n",
    "##-------------------------------------------------\n",
    "s = 'this is a test'\n",
    "b = bytes(s,encoding='utf-8')\n",
    "\n",
    "f = open('test.txt','wb')    ##注意多了个b\n",
    "f.write(s)\n",
    "\n",
    "##报错\n",
    "# TypeError: a bytes-like object is required, not 'str'\n",
    "##意思是它需要一个bytes类型数据，你却给了个字符串\n",
    "\n",
    "##---------------------------------------------------\n",
    "s = 'this is a test'\n",
    "b = bytes(s,encoding='utf-8')\n",
    "\n",
    "f = open('test.txt','wb')    ##注意多了个b\n",
    "f.write(b)                        ##将变量b传给它，b是个bytes类型"
   ],
   "metadata": {
    "collapsed": false,
    "ExecuteTime": {
     "end_time": "2023-08-10T02:39:48.936659Z",
     "start_time": "2023-08-10T02:39:48.902954800Z"
    }
   }
  },
  {
   "cell_type": "markdown",
   "source": [
    "### +模式"
   ],
   "metadata": {
    "collapsed": false
   }
  },
  {
   "cell_type": "markdown",
   "source": [
    "* w+, 在读写前清空原文件内容, 不推荐使用\n",
    "* a+, 只能在文件末尾写入, 不推荐使用\n",
    "* r+, 读写模式, 可以结合`seek()`和`tell()`使用"
   ],
   "metadata": {
    "collapsed": false
   }
  },
  {
   "cell_type": "markdown",
   "source": [
    "### 编码问题"
   ],
   "metadata": {
    "collapsed": false
   }
  },
  {
   "cell_type": "markdown",
   "source": [
    "要读取非`UTF-8`编码的文件, 需要给`open()`函数传入encoding参数, 例如读取GBK编码的文件\n",
    "```\n",
    "f = open(\"gbk.txt\", \"r\", encoding=\"gbk\")\n",
    "f.read()\n",
    "```\n",
    "遇到有些编码不规范的文件, 可能会抛出`UnicodeDecodeError`异常, 文件中可能夹杂了一些非法编码的字符. 这种情况下可以提供errors参数\n",
    "```\n",
    "f = open(\"gbk.txt\", \"r\", encoding=\"gbk\", errors=\"igonre\")\n",
    "```"
   ],
   "metadata": {
    "collapsed": false
   }
  },
  {
   "cell_type": "markdown",
   "source": [
    "### 文件对象操作"
   ],
   "metadata": {
    "collapsed": false
   }
  },
  {
   "cell_type": "markdown",
   "source": [
    "#### f.read(size)"
   ],
   "metadata": {
    "collapsed": false
   }
  },
  {
   "cell_type": "markdown",
   "source": [
    "读取一定大小的数据, 然后作为字符串或字节对象返回. size是一个可选的数字类型的参数, 用于指定读取的数据量. 当size被忽略, 那么文件的所有内容都将被读取\n",
    "```\n",
    "f = open(\"1.txt\", \"r\")\n",
    "str = f.read()\n",
    "print(str)\n",
    "f.close()\n",
    "```\n",
    "如果文件体积过大, 不要使用`read()`一次性全部读入"
   ],
   "metadata": {
    "collapsed": false
   }
  },
  {
   "cell_type": "markdown",
   "source": [
    "#### f.readline()"
   ],
   "metadata": {
    "collapsed": false
   }
  },
  {
   "cell_type": "markdown",
   "source": [
    "从文件中读取一行内容, 换行符为`\\n`. 如果返回了一个空字符串, 说明已经读取到最后一行. 这种方法通常是读一行处理一行, 并且无法回溯\n",
    "```\n",
    "f = open(\"1.txt\", \"r\")\n",
    "str = f.readline()\n",
    "print(str)\n",
    "f.close()\n",
    "```"
   ],
   "metadata": {
    "collapsed": false
   }
  },
  {
   "cell_type": "markdown",
   "source": [
    "#### f.readlines()"
   ],
   "metadata": {
    "collapsed": false
   }
  },
  {
   "cell_type": "markdown",
   "source": [
    "将文件中所有的行, 一行一行全部读入一个列表中, 按顺序一个个作为列表元素返回这个列表. `readlines`方法会一次性将文件全部读入内存\n",
    "```\n",
    "f = open(\"1.txt\", \"r\")\n",
    "a = f.readlines()\n",
    "print(a)\n",
    "f.close()\n",
    "```"
   ],
   "metadata": {
    "collapsed": false
   }
  },
  {
   "cell_type": "markdown",
   "source": [
    "#### 遍历文件"
   ],
   "metadata": {
    "collapsed": false
   }
  },
  {
   "cell_type": "markdown",
   "source": [
    "将文件对象作为一个迭代器来使用:\n",
    "```\n",
    "f = open(\"1.txt\", \"r\")\n",
    "for line in f:\n",
    "    print(line, end=\"\")\n",
    "f.close()\n",
    "```"
   ],
   "metadata": {
    "collapsed": false
   }
  },
  {
   "cell_type": "markdown",
   "source": [
    "### f.write()"
   ],
   "metadata": {
    "collapsed": false
   }
  },
  {
   "cell_type": "markdown",
   "source": [
    "将字符串或bytes类型的数据写入文件内. `write()`可以多次重复进行, 其实都是内存内的操作, 但并不会立刻写回硬盘, 直到`close()`执行, 才会把所有的写入操作写入到硬盘中\n",
    "```\n",
    "# 打开一个文件\n",
    "f = open(\"./test.txt\", \"w\")\n",
    "# 向文件写入内容, 操作文件\n",
    "f.write(\"Hello World\")\n",
    "# 关闭文件\n",
    "f.close()\n",
    "```"
   ],
   "metadata": {
    "collapsed": false
   }
  },
  {
   "cell_type": "markdown",
   "source": [
    "### f.tell()"
   ],
   "metadata": {
    "collapsed": false
   }
  },
  {
   "cell_type": "markdown",
   "source": [
    "返回文件读写指针当前所指的位置, 从文件开头开始算起的**字节数**"
   ],
   "metadata": {
    "collapsed": false
   }
  },
  {
   "cell_type": "markdown",
   "source": [
    "### f.seek()"
   ],
   "metadata": {
    "collapsed": false
   }
  },
  {
   "cell_type": "markdown",
   "source": [
    "如果要改变文职指针的位置, 可以使用`f.seek(offset, from_what)`, `seek()`经常和`tell()`配合使用. from_what的取值, 如果是0表示从文件开头计算, 如果是1表示从文件读写指针的当前位置开始计算, 2表示从文件的结尾开始计算"
   ],
   "metadata": {
    "collapsed": false
   }
  },
  {
   "cell_type": "markdown",
   "source": [
    "### with关键字"
   ],
   "metadata": {
    "collapsed": false
   }
  },
  {
   "cell_type": "markdown",
   "source": [
    "with关键字用于Python的上下文管理器机制. 为了防止诸如open这一类文件打开方法在操作过程中出现异常或错误等问题, with关键字这种机制会保证文件会被正常关闭\n",
    "\n",
    "```\n",
    "with open(\"test.txt\", \"w\") as f:\n",
    "    f.write(\"Hello World\")\n",
    "```\n",
    "\n",
    "with也支持同时打开多个文件\n",
    "```\n",
    "with open(\"log1\") as obj1, open(\"log2\", \"w\") as obj2:\n",
    "    s = obj1.read()\n",
    "    obj2.write(s)\n",
    "```"
   ],
   "metadata": {
    "collapsed": false
   }
  },
  {
   "cell_type": "code",
   "execution_count": null,
   "outputs": [],
   "source": [],
   "metadata": {
    "collapsed": false
   }
  }
 ],
 "metadata": {
  "kernelspec": {
   "display_name": "Python 3",
   "language": "python",
   "name": "python3"
  },
  "language_info": {
   "codemirror_mode": {
    "name": "ipython",
    "version": 2
   },
   "file_extension": ".py",
   "mimetype": "text/x-python",
   "name": "python",
   "nbconvert_exporter": "python",
   "pygments_lexer": "ipython2",
   "version": "2.7.6"
  }
 },
 "nbformat": 4,
 "nbformat_minor": 0
}
