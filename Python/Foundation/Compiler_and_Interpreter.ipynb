{
 "cells": [
  {
   "cell_type": "markdown",
   "source": [
    "# Python 基础一:　编译器与解释器的区别"
   ],
   "metadata": {
    "collapsed": false
   }
  },
  {
   "cell_type": "markdown",
   "source": [
    "## 汇编语言"
   ],
   "metadata": {
    "collapsed": false
   }
  },
  {
   "cell_type": "markdown",
   "source": [
    "汇编语言是一种可编程器件的低级语言. 在汇编语言中，用助记符代替机器指令的操作码，用地址符号或标号代替指令或操作数的地址. 在不同的设备中，汇编语言对应着不同的机器语言指令集, 因此汇编语言是不具有可移植性的"
   ],
   "metadata": {
    "collapsed": false
   }
  },
  {
   "cell_type": "markdown",
   "source": [
    "## C语言"
   ],
   "metadata": {
    "collapsed": false
   }
  },
  {
   "cell_type": "markdown",
   "source": [
    "C语言的特点是可以直接操作硬件, 但与汇编语言和机器码相比, C语言肯定是更快的; 但是写出一个汇编程序肯定要比写出一个C语言的程序更慢. C语言通过编译器将代码翻译成机器码"
   ],
   "metadata": {
    "collapsed": false
   }
  },
  {
   "cell_type": "markdown",
   "source": [
    "## Python语言"
   ],
   "metadata": {
    "collapsed": false
   }
  },
  {
   "cell_type": "markdown",
   "source": [
    "Python是一种动态解释性语言, 所以在写程序的过程中不需要关注数据类型的定义等"
   ],
   "metadata": {
    "collapsed": false
   }
  },
  {
   "cell_type": "markdown",
   "source": [
    "## 编译器与解释器"
   ],
   "metadata": {
    "collapsed": false
   }
  },
  {
   "cell_type": "markdown",
   "source": [
    "解释器/编译器: 将代码翻译成机器码, 但运行原理和翻译过程有所不同"
   ],
   "metadata": {
    "collapsed": false
   }
  },
  {
   "cell_type": "markdown",
   "source": [
    "编译器: 先整体编译在执行, 运行速度快, 但任何的改动都将导致整体重新编译, 可以脱离编译环境运行\n",
    "解释器: 边解释边执行, 运行速度慢, 但部分的改动不需要整体重新编译, 不可以脱离解释环境运行"
   ],
   "metadata": {
    "collapsed": false
   }
  },
  {
   "cell_type": "code",
   "execution_count": null,
   "outputs": [],
   "source": [],
   "metadata": {
    "collapsed": false
   }
  }
 ],
 "metadata": {
  "kernelspec": {
   "display_name": "Python 3",
   "language": "python",
   "name": "python3"
  },
  "language_info": {
   "codemirror_mode": {
    "name": "ipython",
    "version": 2
   },
   "file_extension": ".py",
   "mimetype": "text/x-python",
   "name": "python",
   "nbconvert_exporter": "python",
   "pygments_lexer": "ipython2",
   "version": "2.7.6"
  }
 },
 "nbformat": 4,
 "nbformat_minor": 0
}
