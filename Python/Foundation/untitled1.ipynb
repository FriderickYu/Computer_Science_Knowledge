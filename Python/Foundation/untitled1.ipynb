{
 "cells": [
  {
   "cell_type": "markdown",
   "source": [
    "函数和方法名通常用小写和下划线, 例如: `get`, `set`, `count_apple`, `total_number`\n",
    "类名通常采用大写驼峰, 例如: `ThreadMixTn`, `BrokenBarrierError`"
   ],
   "metadata": {
    "collapsed": false
   }
  },
  {
   "cell_type": "markdown",
   "source": [
    "## 变量"
   ],
   "metadata": {
    "collapsed": false
   }
  },
  {
   "cell_type": "markdown",
   "source": [
    "Python中的变量不需要**声明类型**, 因为Python是动态解释的;\n",
    "\n",
    "新的变量通过赋值, 创建并开辟**内存空间**, Python中一切事物都是对象, 变量引用的要么是对象, 要么是对象在内存中的地址; 因此实际上Python中变量本身没有数据类型这么一说, 所谓的*变量类型*是变量所引用的对象类型, 或者说变量的值的类型"
   ],
   "metadata": {
    "collapsed": false
   }
  },
  {
   "cell_type": "code",
   "execution_count": 12,
   "outputs": [],
   "source": [
    "a = 100"
   ],
   "metadata": {
    "collapsed": false,
    "ExecuteTime": {
     "end_time": "2023-07-21T10:04:39.924722400Z",
     "start_time": "2023-07-21T10:04:39.879622100Z"
    }
   }
  },
  {
   "cell_type": "markdown",
   "source": [
    "* 执行 `a = 'Jack'` , 解释器创建字符串Jack和变量a, 并将变量a指向Jack字符串对象\n",
    "* 执行 `b = a`, 解释器创建变量b, 将变量b指向变量a指向的对象, 即将变量b指向Jack字符串对象\n",
    "* 执行 `a = 'Tom'`, 解释器创建字符串Tom, 并将变量a指向Tom字符串对象"
   ],
   "metadata": {
    "collapsed": false
   }
  },
  {
   "cell_type": "markdown",
   "source": [
    "![variable_object.png](image/variable_object.png)"
   ],
   "metadata": {
    "collapsed": false
   }
  },
  {
   "cell_type": "code",
   "execution_count": 13,
   "outputs": [
    {
     "name": "stdout",
     "output_type": "stream",
     "text": [
      "Tom\n",
      "Jack\n"
     ]
    }
   ],
   "source": [
    "a = 'Jack'\n",
    "b = a\n",
    "a = 'Tom'\n",
    "print(a)\n",
    "print(b)"
   ],
   "metadata": {
    "collapsed": false,
    "ExecuteTime": {
     "end_time": "2023-07-21T10:04:39.924722400Z",
     "start_time": "2023-07-21T10:04:39.908845100Z"
    }
   }
  },
  {
   "cell_type": "markdown",
   "source": [
    "## 常量"
   ],
   "metadata": {
    "collapsed": false
   }
  },
  {
   "cell_type": "markdown",
   "source": [
    "Python一般使用全大写来表达常量, 但实际上Python没有任何机制保证常量不会被改变, 使用全大写来表达常量完全是一种习惯上的用法\n",
    "\n",
    "常量通常放在最上面,作为全局使用"
   ],
   "metadata": {
    "collapsed": false
   }
  },
  {
   "cell_type": "code",
   "execution_count": 16,
   "outputs": [
    {
     "name": "stdout",
     "output_type": "stream",
     "text": [
      "3.1415926\n"
     ]
    }
   ],
   "source": [
    "PI = 3.1415926\n",
    "print(PI)"
   ],
   "metadata": {
    "collapsed": false,
    "ExecuteTime": {
     "end_time": "2023-07-21T10:05:08.635099200Z",
     "start_time": "2023-07-21T10:05:08.606050900Z"
    }
   }
  },
  {
   "cell_type": "code",
   "execution_count": 17,
   "outputs": [
    {
     "name": "stdout",
     "output_type": "stream",
     "text": [
      "3\n"
     ]
    }
   ],
   "source": [
    "PI = 3\n",
    "print(PI)"
   ],
   "metadata": {
    "collapsed": false,
    "ExecuteTime": {
     "end_time": "2023-07-21T10:05:08.939490100Z",
     "start_time": "2023-07-21T10:05:08.919655500Z"
    }
   }
  },
  {
   "cell_type": "code",
   "execution_count": 20,
   "outputs": [
    {
     "data": {
      "text/plain": "3.0"
     },
     "execution_count": 20,
     "metadata": {},
     "output_type": "execute_result"
    }
   ],
   "source": [
    "10.0 // 3"
   ],
   "metadata": {
    "collapsed": false,
    "ExecuteTime": {
     "end_time": "2023-07-21T10:09:04.175028200Z",
     "start_time": "2023-07-21T10:09:04.164343500Z"
    }
   }
  },
  {
   "cell_type": "markdown",
   "source": [
    "## 运算"
   ],
   "metadata": {
    "collapsed": false
   }
  },
  {
   "cell_type": "code",
   "execution_count": 21,
   "outputs": [
    {
     "name": "stdout",
     "output_type": "stream",
     "text": [
      "3.3333333333333335\n",
      "3.0\n"
     ]
    }
   ],
   "source": [
    "#　除法1 计算结果是浮点数, 即使能够正好相除\n",
    "print(10 / 3)\n",
    "print(9 / 3)"
   ],
   "metadata": {
    "collapsed": false,
    "ExecuteTime": {
     "end_time": "2023-07-21T10:58:00.514029Z",
     "start_time": "2023-07-21T10:58:00.499254900Z"
    }
   }
  },
  {
   "cell_type": "code",
   "execution_count": 22,
   "outputs": [
    {
     "name": "stdout",
     "output_type": "stream",
     "text": [
      "3\n",
      "3.0\n"
     ]
    }
   ],
   "source": [
    "# 除法2 地板除, 只取整数部分\n",
    "print(10 // 3)\n",
    "print(10 // 3.0)"
   ],
   "metadata": {
    "collapsed": false,
    "ExecuteTime": {
     "end_time": "2023-07-21T10:58:41.764053600Z",
     "start_time": "2023-07-21T10:58:41.754822500Z"
    }
   }
  },
  {
   "cell_type": "code",
   "execution_count": 26,
   "outputs": [
    {
     "data": {
      "text/plain": "1.0"
     },
     "execution_count": 26,
     "metadata": {},
     "output_type": "execute_result"
    }
   ],
   "source": [
    "#　余数运算\n",
    "10 % 3"
   ],
   "metadata": {
    "collapsed": false,
    "ExecuteTime": {
     "end_time": "2023-07-21T11:00:27.247958600Z",
     "start_time": "2023-07-21T11:00:27.232003Z"
    }
   }
  },
  {
   "cell_type": "code",
   "execution_count": 25,
   "outputs": [
    {
     "name": "stdout",
     "output_type": "stream",
     "text": [
      "(3.0, 1.0)\n"
     ]
    }
   ],
   "source": [
    "# 同时得到商和余数 return (x // y, x % y)\n",
    "result = divmod(10, 3)\n",
    "print(result)"
   ],
   "metadata": {
    "collapsed": false,
    "ExecuteTime": {
     "end_time": "2023-07-21T11:00:21.228754100Z",
     "start_time": "2023-07-21T11:00:21.208018700Z"
    }
   }
  },
  {
   "cell_type": "markdown",
   "source": [
    "浮点数并不是连续的, 例如0.3333, 所以在计算中会出现精度问题, 例如"
   ],
   "metadata": {
    "collapsed": false
   }
  },
  {
   "cell_type": "code",
   "execution_count": 27,
   "outputs": [
    {
     "data": {
      "text/plain": "5.551115123125783e-17"
     },
     "execution_count": 27,
     "metadata": {},
     "output_type": "execute_result"
    }
   ],
   "source": [
    "0.1 + 0.1 + 0.1 - 0.3"
   ],
   "metadata": {
    "collapsed": false,
    "ExecuteTime": {
     "end_time": "2023-07-21T11:01:21.402525800Z",
     "start_time": "2023-07-21T11:01:21.386578900Z"
    }
   }
  },
  {
   "cell_type": "code",
   "execution_count": 30,
   "outputs": [
    {
     "name": "stdout",
     "output_type": "stream",
     "text": [
      "0.0\n",
      "0.3333333333333333333333333333\n"
     ]
    }
   ],
   "source": [
    "# 浮点数的精确计算可以使用decimal模块\n",
    "from decimal import Decimal\n",
    "number = Decimal('0.1') + Decimal('0.1') + Decimal('0.1') - Decimal('0.3')\n",
    "print(number)\n",
    "print(Decimal('0.1') / Decimal('0.3'))"
   ],
   "metadata": {
    "collapsed": false,
    "ExecuteTime": {
     "end_time": "2023-07-21T11:12:13.209762100Z",
     "start_time": "2023-07-21T11:12:13.197534700Z"
    }
   }
  },
  {
   "cell_type": "code",
   "execution_count": 35,
   "outputs": [
    {
     "name": "stdout",
     "output_type": "stream",
     "text": [
      "0.3333\n"
     ]
    }
   ],
   "source": [
    "# 设置全局精度\n",
    "from decimal import getcontext\n",
    "getcontext().prec = 4\n",
    "print(Decimal('0.1') / Decimal('0.3'))"
   ],
   "metadata": {
    "collapsed": false,
    "ExecuteTime": {
     "end_time": "2023-07-21T11:13:39.122189200Z",
     "start_time": "2023-07-21T11:13:39.111944800Z"
    }
   }
  },
  {
   "cell_type": "markdown",
   "source": [
    "## 位运算符"
   ],
   "metadata": {
    "collapsed": false
   }
  },
  {
   "cell_type": "markdown",
   "source": [
    "a = 0011 1100\n",
    "b = 0000 1101\n",
    "\n",
    "--------------\n",
    "a&b = 0000 1100\n",
    "a|b = 0011 1101\n",
    "a^b = 0011 0001\n",
    " ~a = 1100 0011"
   ],
   "metadata": {
    "collapsed": false
   }
  },
  {
   "cell_type": "markdown",
   "source": [
    "* &: 与运算, 参加运算的两个值如果都是1, 则返回1, 否则返回0\n",
    "* |: 或运算, 参加运算的两个值只要有1个1, 则返回0, 都不为1则返回0\n",
    "* ^: 异或运算, 参加运算的两个值只要不一样, 则返回1, 一样的话返回0\n",
    "* ~: 取反运算, 把1变成0, 把0变成1\n",
    "* <<: 左移动运算符: 运算数的各个二进位全部左移若干位, 高位丢弃,低位补0; 例如 a = 4, a << 2, a = 100 -> a = 10000"
   ],
   "metadata": {
    "collapsed": false
   }
  },
  {
   "cell_type": "code",
   "execution_count": null,
   "outputs": [],
   "source": [],
   "metadata": {
    "collapsed": false
   }
  }
 ],
 "metadata": {
  "kernelspec": {
   "display_name": "Python 3",
   "language": "python",
   "name": "python3"
  },
  "language_info": {
   "codemirror_mode": {
    "name": "ipython",
    "version": 2
   },
   "file_extension": ".py",
   "mimetype": "text/x-python",
   "name": "python",
   "nbconvert_exporter": "python",
   "pygments_lexer": "ipython2",
   "version": "2.7.6"
  }
 },
 "nbformat": 4,
 "nbformat_minor": 0
}
