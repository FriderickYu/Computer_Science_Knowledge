{
 "cells": [
  {
   "cell_type": "markdown",
   "source": [
    "# 基本知识"
   ],
   "metadata": {
    "collapsed": false
   }
  },
  {
   "cell_type": "markdown",
   "source": [
    "函数和方法名通常用小写和下划线, 例如: `get`, `set`, `count_apple`, `total_number`\n",
    "类名通常采用大写驼峰, 例如: `ThreadMixTn`, `BrokenBarrierError`"
   ],
   "metadata": {
    "collapsed": false
   }
  },
  {
   "cell_type": "markdown",
   "source": [
    "## 变量"
   ],
   "metadata": {
    "collapsed": false
   }
  },
  {
   "cell_type": "markdown",
   "source": [
    "Python中的变量不需要**声明类型**, 因为Python是动态解释的;\n",
    "\n",
    "新的变量通过赋值, 创建并开辟**内存空间**, Python中一切事物都是对象, 变量引用的要么是对象, 要么是对象在内存中的地址; 因此实际上Python中变量本身没有数据类型这么一说, 所谓的*变量类型*是变量所引用的对象类型, 或者说变量的值的类型"
   ],
   "metadata": {
    "collapsed": false
   }
  },
  {
   "cell_type": "code",
   "execution_count": 29,
   "outputs": [],
   "source": [
    "a = 100"
   ],
   "metadata": {
    "collapsed": false,
    "ExecuteTime": {
     "end_time": "2023-07-22T03:26:46.207984100Z",
     "start_time": "2023-07-22T03:26:46.146782500Z"
    }
   }
  },
  {
   "cell_type": "markdown",
   "source": [
    "* 执行 `a = 'Jack'` , 解释器创建字符串Jack和变量a, 并将变量a指向Jack字符串对象\n",
    "* 执行 `b = a`, 解释器创建变量b, 将变量b指向变量a指向的对象, 即将变量b指向Jack字符串对象\n",
    "* 执行 `a = 'Tom'`, 解释器创建字符串Tom, 并将变量a指向Tom字符串对象"
   ],
   "metadata": {
    "collapsed": false
   }
  },
  {
   "cell_type": "markdown",
   "source": [
    "![variable_object.png](image/variable_object.png)"
   ],
   "metadata": {
    "collapsed": false
   }
  },
  {
   "cell_type": "code",
   "execution_count": 30,
   "outputs": [
    {
     "name": "stdout",
     "output_type": "stream",
     "text": [
      "Tom\n",
      "Jack\n"
     ]
    }
   ],
   "source": [
    "a = 'Jack'\n",
    "b = a\n",
    "a = 'Tom'\n",
    "print(a)\n",
    "print(b)"
   ],
   "metadata": {
    "collapsed": false,
    "ExecuteTime": {
     "end_time": "2023-07-22T03:26:46.264295Z",
     "start_time": "2023-07-22T03:26:46.155204600Z"
    }
   }
  },
  {
   "cell_type": "markdown",
   "source": [
    "## 常量"
   ],
   "metadata": {
    "collapsed": false
   }
  },
  {
   "cell_type": "markdown",
   "source": [
    "Python一般使用全大写来表达常量, 但实际上Python没有任何机制保证常量不会被改变, 使用全大写来表达常量完全是一种习惯上的用法\n",
    "\n",
    "常量通常放在最上面,作为全局使用"
   ],
   "metadata": {
    "collapsed": false
   }
  },
  {
   "cell_type": "code",
   "execution_count": 31,
   "outputs": [
    {
     "name": "stdout",
     "output_type": "stream",
     "text": [
      "3.1415926\n"
     ]
    }
   ],
   "source": [
    "PI = 3.1415926\n",
    "print(PI)"
   ],
   "metadata": {
    "collapsed": false,
    "ExecuteTime": {
     "end_time": "2023-07-22T03:26:46.264295Z",
     "start_time": "2023-07-22T03:26:46.171618Z"
    }
   }
  },
  {
   "cell_type": "code",
   "execution_count": 32,
   "outputs": [
    {
     "name": "stdout",
     "output_type": "stream",
     "text": [
      "3\n"
     ]
    }
   ],
   "source": [
    "PI = 3\n",
    "print(PI)"
   ],
   "metadata": {
    "collapsed": false,
    "ExecuteTime": {
     "end_time": "2023-07-22T03:26:46.264295Z",
     "start_time": "2023-07-22T03:26:46.183866300Z"
    }
   }
  },
  {
   "cell_type": "code",
   "execution_count": 33,
   "outputs": [
    {
     "data": {
      "text/plain": "3.0"
     },
     "execution_count": 33,
     "metadata": {},
     "output_type": "execute_result"
    }
   ],
   "source": [
    "10.0 // 3"
   ],
   "metadata": {
    "collapsed": false,
    "ExecuteTime": {
     "end_time": "2023-07-22T03:26:46.282013Z",
     "start_time": "2023-07-22T03:26:46.195856100Z"
    }
   }
  },
  {
   "cell_type": "markdown",
   "source": [
    "## 运算"
   ],
   "metadata": {
    "collapsed": false
   }
  },
  {
   "cell_type": "code",
   "execution_count": 34,
   "outputs": [
    {
     "name": "stdout",
     "output_type": "stream",
     "text": [
      "3.3333333333333335\n",
      "3.0\n"
     ]
    }
   ],
   "source": [
    "#　除法1 计算结果是浮点数, 即使能够正好相除\n",
    "print(10 / 3)\n",
    "print(9 / 3)"
   ],
   "metadata": {
    "collapsed": false,
    "ExecuteTime": {
     "end_time": "2023-07-22T03:26:46.290069700Z",
     "start_time": "2023-07-22T03:26:46.212080300Z"
    }
   }
  },
  {
   "cell_type": "code",
   "execution_count": 35,
   "outputs": [
    {
     "name": "stdout",
     "output_type": "stream",
     "text": [
      "3\n",
      "3.0\n"
     ]
    }
   ],
   "source": [
    "# 除法2 地板除, 只取整数部分\n",
    "print(10 // 3)\n",
    "print(10 // 3.0)"
   ],
   "metadata": {
    "collapsed": false,
    "ExecuteTime": {
     "end_time": "2023-07-22T03:26:46.290069700Z",
     "start_time": "2023-07-22T03:26:46.225819600Z"
    }
   }
  },
  {
   "cell_type": "code",
   "execution_count": 36,
   "outputs": [
    {
     "data": {
      "text/plain": "1"
     },
     "execution_count": 36,
     "metadata": {},
     "output_type": "execute_result"
    }
   ],
   "source": [
    "#　余数运算\n",
    "10 % 3"
   ],
   "metadata": {
    "collapsed": false,
    "ExecuteTime": {
     "end_time": "2023-07-22T03:26:46.290069700Z",
     "start_time": "2023-07-22T03:26:46.242105200Z"
    }
   }
  },
  {
   "cell_type": "code",
   "execution_count": 37,
   "outputs": [
    {
     "name": "stdout",
     "output_type": "stream",
     "text": [
      "(3, 1)\n"
     ]
    }
   ],
   "source": [
    "# 同时得到商和余数 return (x // y, x % y)\n",
    "result = divmod(10, 3)\n",
    "print(result)"
   ],
   "metadata": {
    "collapsed": false,
    "ExecuteTime": {
     "end_time": "2023-07-22T03:26:46.290069700Z",
     "start_time": "2023-07-22T03:26:46.252284400Z"
    }
   }
  },
  {
   "cell_type": "markdown",
   "source": [
    "浮点数并不是连续的, 例如0.3333, 所以在计算中会出现精度问题, 例如"
   ],
   "metadata": {
    "collapsed": false
   }
  },
  {
   "cell_type": "code",
   "execution_count": 38,
   "outputs": [
    {
     "data": {
      "text/plain": "5.551115123125783e-17"
     },
     "execution_count": 38,
     "metadata": {},
     "output_type": "execute_result"
    }
   ],
   "source": [
    "0.1 + 0.1 + 0.1 - 0.3"
   ],
   "metadata": {
    "collapsed": false,
    "ExecuteTime": {
     "end_time": "2023-07-22T03:26:46.290069700Z",
     "start_time": "2023-07-22T03:26:46.282013Z"
    }
   }
  },
  {
   "cell_type": "code",
   "execution_count": 39,
   "outputs": [
    {
     "name": "stdout",
     "output_type": "stream",
     "text": [
      "0.0\n",
      "0.3333\n"
     ]
    }
   ],
   "source": [
    "# 浮点数的精确计算可以使用decimal模块\n",
    "from decimal import Decimal\n",
    "number = Decimal('0.1') + Decimal('0.1') + Decimal('0.1') - Decimal('0.3')\n",
    "print(number)\n",
    "print(Decimal('0.1') / Decimal('0.3'))"
   ],
   "metadata": {
    "collapsed": false,
    "ExecuteTime": {
     "end_time": "2023-07-22T03:26:46.375102800Z",
     "start_time": "2023-07-22T03:26:46.286070900Z"
    }
   }
  },
  {
   "cell_type": "code",
   "execution_count": 40,
   "outputs": [
    {
     "name": "stdout",
     "output_type": "stream",
     "text": [
      "0.3333\n"
     ]
    }
   ],
   "source": [
    "# 设置全局精度\n",
    "from decimal import getcontext\n",
    "getcontext().prec = 4\n",
    "print(Decimal('0.1') / Decimal('0.3'))"
   ],
   "metadata": {
    "collapsed": false,
    "ExecuteTime": {
     "end_time": "2023-07-22T03:26:46.375102800Z",
     "start_time": "2023-07-22T03:26:46.302284700Z"
    }
   }
  },
  {
   "cell_type": "markdown",
   "source": [
    "## 位运算符"
   ],
   "metadata": {
    "collapsed": false
   }
  },
  {
   "cell_type": "markdown",
   "source": [
    "a = 0011 1100\n",
    "b = 0000 1101\n",
    "\n",
    "--------------\n",
    "a&b = 0000 1100\n",
    "a|b = 0011 1101\n",
    "a^b = 0011 0001\n",
    " ~a = 1100 0011"
   ],
   "metadata": {
    "collapsed": false
   }
  },
  {
   "cell_type": "markdown",
   "source": [
    "* &: 与运算, 参加运算的两个值如果都是1, 则返回1, 否则返回0\n",
    "* |: 或运算, 参加运算的两个值只要有1个1, 则返回0, 都不为1则返回0\n",
    "* ^: 异或运算, 参加运算的两个值只要不一样, 则返回1, 一样的话返回0\n",
    "* ~: 取反运算, 把1变成0, 把0变成1\n",
    "* <<: 左移动运算符: 运算数的各个二进位全部左移若干位, 高位丢弃,低位补0; 例如 a = 4, a << 2, a = 100 -> a = 10000"
   ],
   "metadata": {
    "collapsed": false
   }
  },
  {
   "cell_type": "markdown",
   "source": [
    "## 逻辑运算符"
   ],
   "metadata": {
    "collapsed": false
   }
  },
  {
   "cell_type": "markdown",
   "source": [
    "* and: 与运算\n",
    "* or: 或运算\n",
    "* not: 非运算"
   ],
   "metadata": {
    "collapsed": false
   }
  },
  {
   "cell_type": "markdown",
   "source": [
    "## 成员运算符"
   ],
   "metadata": {
    "collapsed": false
   }
  },
  {
   "cell_type": "markdown",
   "source": [
    "判断对象是否属于某个集合, 返回的结果是布尔类型\n",
    "* in: 如果属于某个集合返回True, 否则返回False\n",
    "* not in: 如果不属于某个集合返回True, 否则返回False"
   ],
   "metadata": {
    "collapsed": false
   }
  },
  {
   "cell_type": "code",
   "execution_count": 41,
   "outputs": [
    {
     "name": "stdout",
     "output_type": "stream",
     "text": [
      "a is one of list\n"
     ]
    }
   ],
   "source": [
    "list = [1, 2, 3, 4, 5]\n",
    "a = 1\n",
    "if a in list:\n",
    "    print(\"a is one of list\")\n",
    "else:\n",
    "    print(\"a is not one of list|\")"
   ],
   "metadata": {
    "collapsed": false,
    "ExecuteTime": {
     "end_time": "2023-07-22T03:26:46.375102800Z",
     "start_time": "2023-07-22T03:26:46.318284600Z"
    }
   }
  },
  {
   "cell_type": "markdown",
   "source": [
    "## 身份运算符"
   ],
   "metadata": {
    "collapsed": false
   }
  },
  {
   "cell_type": "markdown",
   "source": [
    "* is: 判断两个标识符是不是引用自同一个对象, 类似于`id(x) == id(y)`\n",
    "* is not: 判断两个标识符是不是引用自不同对象` id(x) != id(y)`\n",
    "\n",
    "is和==还是有区别的, is判断的是引用是否为同一个对象, 而==用于判断变量引用的对象的**值**是否相同"
   ],
   "metadata": {
    "collapsed": false
   }
  },
  {
   "cell_type": "code",
   "execution_count": 42,
   "outputs": [
    {
     "name": "stdout",
     "output_type": "stream",
     "text": [
      "True\n",
      "True\n",
      "False\n",
      "True\n"
     ]
    }
   ],
   "source": [
    "a = [1, 2 ,3]\n",
    "b = a\n",
    "print(b is a)\n",
    "print(b == a)\n",
    "b = a[:]\n",
    "#　b的值还是[1, 2, 3], 与a相同, 但引用的并不是同一个列表\n",
    "print(b is a)\n",
    "print(b == a)"
   ],
   "metadata": {
    "collapsed": false,
    "ExecuteTime": {
     "end_time": "2023-07-22T03:26:46.375102800Z",
     "start_time": "2023-07-22T03:26:46.331005300Z"
    }
   }
  },
  {
   "cell_type": "code",
   "execution_count": 43,
   "outputs": [
    {
     "name": "stdout",
     "output_type": "stream",
     "text": [
      "140736757302944\n",
      "1435046804352\n",
      "1435046803840\n"
     ]
    }
   ],
   "source": [
    "#　id(): 用于查看某个变量或者对象的内存地址, 两个相同内存地址的对象被认为是同一个对象\n",
    "a = 1\n",
    "b = [1, 2, 3]\n",
    "print(id(a))\n",
    "print(id(b))\n",
    "c = [1, 2, 3]\n",
    "print(id(c))"
   ],
   "metadata": {
    "collapsed": false,
    "ExecuteTime": {
     "end_time": "2023-07-22T03:26:46.375102800Z",
     "start_time": "2023-07-22T03:26:46.347273500Z"
    }
   }
  },
  {
   "cell_type": "markdown",
   "source": [
    "## 三目运算符(三元表达式)"
   ],
   "metadata": {
    "collapsed": false
   }
  },
  {
   "cell_type": "markdown",
   "source": [
    "* 其他语言: `判断条件 ? 为真时的结果 : 为假时的结果`\n",
    "* Python: `为真时的结果 if 判断条件 else 为假时的结果`"
   ],
   "metadata": {
    "collapsed": false
   }
  }
 ],
 "metadata": {
  "kernelspec": {
   "display_name": "Python 3",
   "language": "python",
   "name": "python3"
  },
  "language_info": {
   "codemirror_mode": {
    "name": "ipython",
    "version": 2
   },
   "file_extension": ".py",
   "mimetype": "text/x-python",
   "name": "python",
   "nbconvert_exporter": "python",
   "pygments_lexer": "ipython2",
   "version": "2.7.6"
  }
 },
 "nbformat": 4,
 "nbformat_minor": 0
}
