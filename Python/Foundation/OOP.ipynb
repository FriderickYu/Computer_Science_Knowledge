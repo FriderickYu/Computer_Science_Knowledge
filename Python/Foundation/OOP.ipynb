{
 "cells": [
  {
   "cell_type": "markdown",
   "source": [
    "# 面向对象编程"
   ],
   "metadata": {
    "collapsed": false
   }
  },
  {
   "cell_type": "markdown",
   "source": [
    "## 类和实例化"
   ],
   "metadata": {
    "collapsed": false
   }
  },
  {
   "cell_type": "markdown",
   "source": [
    "```\n",
    "class 类名(父类列表):\n",
    "    pass\n",
    "```\n",
    "Python采用多继承机制, 一个类可以同时继承**多个**父类. 父类列表可以为空, 但也默认继承`object`类, 因为`object`是所有类的基类"
   ],
   "metadata": {
    "collapsed": false
   }
  },
  {
   "cell_type": "markdown",
   "source": [
    "Python提供了一个`def __init__(self):`的实例化机制. 名字为`__init__`的方法就是类的实例化方法, 有`__init__`方法的类在实例化的时候, 会自动调用该方法, 并传递对应的参数. 参数self的意思是, 实例对象本身"
   ],
   "metadata": {
    "collapsed": false
   }
  },
  {
   "cell_type": "code",
   "execution_count": 12,
   "outputs": [],
   "source": [
    "class Student:\n",
    "    classroom = \"101\"\n",
    "    address = \"beijing\"\n",
    "    def __init__(self, name, age):\n",
    "        self.name = name\n",
    "        self.age = age\n",
    "    def print_age(self):\n",
    "        print(\"%s:%s\" %(self.name, self.age))\n",
    "li = Student(\"李四\", 24)\n",
    "zhang = Student(\"张三\", 23)"
   ],
   "metadata": {
    "collapsed": false,
    "ExecuteTime": {
     "end_time": "2023-08-11T02:43:18.426725200Z",
     "start_time": "2023-08-11T02:43:18.415642700Z"
    }
   }
  },
  {
   "cell_type": "markdown",
   "source": [
    "## 实例变量和类变量"
   ],
   "metadata": {
    "collapsed": false
   }
  },
  {
   "cell_type": "markdown",
   "source": [
    "* 实例变量: 实例本身拥有的变量, 比如Student类中构造方法中的name和age就是两个实例变量\n",
    "* 类变量: 定义在类中, 方法之外的变量. 类变量是所有实例共有的变量, 每一个实例都可以访问操作类变量\n"
   ],
   "metadata": {
    "collapsed": false
   }
  },
  {
   "cell_type": "markdown",
   "source": [
    "## 静态方法"
   ],
   "metadata": {
    "collapsed": false
   }
  },
  {
   "cell_type": "markdown",
   "source": [
    "静态方法由类调用, 无默认参数. 静态方法属于类, 但是和实例对象无关. 建议只使用`类名.静态方法`的调用方式"
   ],
   "metadata": {
    "collapsed": false
   }
  },
  {
   "cell_type": "code",
   "execution_count": 13,
   "outputs": [],
   "source": [
    "class Foo:\n",
    "    @staticmethod\n",
    "    def static_mode():\n",
    "        pass\n",
    "# 调用方法\n",
    "Foo.static_mode()"
   ],
   "metadata": {
    "collapsed": false,
    "ExecuteTime": {
     "end_time": "2023-08-11T02:54:16.161346400Z",
     "start_time": "2023-08-11T02:54:16.147734400Z"
    }
   }
  },
  {
   "cell_type": "markdown",
   "source": [
    "## 类方法"
   ],
   "metadata": {
    "collapsed": false
   }
  },
  {
   "cell_type": "markdown",
   "source": [
    "类方法由类调用, 至少传入一个cls. 执行类方法时, 自动将调用该方法的类赋值给cls. 建议只使用`类名.类方法`的调用方式. cls的意思为, 类本身"
   ],
   "metadata": {
    "collapsed": false
   }
  },
  {
   "cell_type": "code",
   "execution_count": 14,
   "outputs": [],
   "source": [
    "class Foo:\n",
    "    @classmethod\n",
    "    def class_method(cls):\n",
    "        pass\n",
    "Foo.class_method()"
   ],
   "metadata": {
    "collapsed": false,
    "ExecuteTime": {
     "end_time": "2023-08-11T03:23:42.646570900Z",
     "start_time": "2023-08-11T03:23:42.641315Z"
    }
   }
  },
  {
   "cell_type": "code",
   "execution_count": 21,
   "outputs": [
    {
     "name": "stdout",
     "output_type": "stream",
     "text": [
      "实例方法\n",
      "类方法\n",
      "静态方法\n"
     ]
    }
   ],
   "source": [
    "# 综合示例\n",
    "class Foo:\n",
    "    def __init__(self, name):\n",
    "        self.name = name\n",
    "    def ord_func(self):\n",
    "        # 实例方法, 至少有一个self参数\n",
    "        print(\"实例方法\")\n",
    "    @classmethod\n",
    "    def class_func(cls):\n",
    "        # 类方法, 至少有一个cls参数\n",
    "        print(\"类方法\")\n",
    "    @staticmethod\n",
    "    def static_func():\n",
    "        # 静态方法, 无参数\n",
    "        print(\"静态方法\")\n",
    "# 调用实例方法\n",
    "f = Foo(\"Jack\")\n",
    "f.ord_func()\n",
    "# 调用类方法\n",
    "Foo.class_func()\n",
    "# 调用静态方法\n",
    "Foo.static_func()\n"
   ],
   "metadata": {
    "collapsed": false,
    "ExecuteTime": {
     "end_time": "2023-08-11T03:32:45.839018700Z",
     "start_time": "2023-08-11T03:32:45.825795400Z"
    }
   }
  },
  {
   "cell_type": "markdown",
   "source": [
    "## 类, 类的方法, 类变量, 类的实例和实例变量在内存当中的保存形式"
   ],
   "metadata": {
    "collapsed": false
   }
  },
  {
   "cell_type": "markdown",
   "source": [
    "类, 类的所有方法以及类变量在内存中只有一份. 而所有的实例进行共享. 每一个实例都在内存中单独保存, 实例变量保存在实例中.\n",
    "\n",
    "创建实例时, 实例中除了封装实例变量之外, 还会保存一个类对象指针, 指向该实例所属类的地址. 所以实例可以找到自己的类, 而类找不到自己的某个实例."
   ],
   "metadata": {
    "collapsed": false
   }
  },
  {
   "cell_type": "markdown",
   "source": [
    "![class in memory](image/class_in_memory.png)"
   ],
   "metadata": {
    "collapsed": false
   }
  },
  {
   "cell_type": "markdown",
   "source": [
    "## OOP三大特性: 继承, 封装, 多态"
   ],
   "metadata": {
    "collapsed": false
   }
  },
  {
   "cell_type": "markdown",
   "source": [
    "继承格式:\n",
    "```python\n",
    "class Foo(superA, superB, superC...):\n",
    "```\n",
    "Python支持**多父类**的继承机制"
   ],
   "metadata": {
    "collapsed": false
   }
  },
  {
   "cell_type": "code",
   "execution_count": 1,
   "outputs": [
    {
     "name": "stdout",
     "output_type": "stream",
     "text": [
      "ken 说: 我 10 岁了，我在读 3 年级\n"
     ]
    }
   ],
   "source": [
    "# 示例\n",
    "# 父类定义:\n",
    "class people:\n",
    "    def __init__(self, name, age, weight):\n",
    "        self.name = name\n",
    "        self.age = age\n",
    "        self.__weight = weight\n",
    "    def speak(self):\n",
    "       print(\"%s 说: 我 %d 岁。\" % (self.name, self.age))\n",
    "# 单继承示例\n",
    "class student(people):\n",
    "    def __init__(self, name, age, weight, grade):\n",
    "        # 调用父类的实例化方法\n",
    "        people.__init__(self, name, age, weight)\n",
    "        self.grade = grade\n",
    "    # 重写继承父类的speak方法\n",
    "    def speak(self):\n",
    "         print(\"%s 说: 我 %d 岁了，我在读 %d 年级\" % (self.name, self.age, self.grade))\n",
    "s = student(\"ken\", 10, 30, 3)\n",
    "s.speak()"
   ],
   "metadata": {
    "collapsed": false,
    "ExecuteTime": {
     "end_time": "2023-08-17T02:26:58.411084100Z",
     "start_time": "2023-08-17T02:26:58.388705600Z"
    }
   }
  },
  {
   "cell_type": "markdown",
   "source": [
    "### Python3的继承机制"
   ],
   "metadata": {
    "collapsed": false
   }
  },
  {
   "cell_type": "markdown",
   "source": [
    "Python3的继承机制不同于Python2, 如下:\n",
    "* 子类在调用某个方法或变量的时候, 首先在自己内部去找, 如果没有则根据**继承机制**在父类里查找\n",
    "* 根据父类定义的顺序, 以**深度优先遍历**的方式逐一查找父类"
   ],
   "metadata": {
    "collapsed": false
   }
  },
  {
   "cell_type": "markdown",
   "source": [
    "![order of inheritance](image/inheritance1.png)"
   ],
   "metadata": {
    "collapsed": false
   }
  },
  {
   "cell_type": "code",
   "execution_count": 2,
   "outputs": [
    {
     "name": "stdout",
     "output_type": "stream",
     "text": [
      "I am B\n"
     ]
    }
   ],
   "source": [
    "# 模拟以上的继承顺序\n",
    "class D:\n",
    "    pass\n",
    "class C(D):\n",
    "    pass\n",
    "class B(C):\n",
    "    def show(self):\n",
    "        print(\"I am B\")\n",
    "    pass\n",
    "class G:\n",
    "    pass\n",
    "class F(G):\n",
    "    pass\n",
    "class E(F):\n",
    "    def show(self):\n",
    "        print(\"I am E\")\n",
    "class A(B, E):\n",
    "    pass\n",
    "a = A()\n",
    "a.show()"
   ],
   "metadata": {
    "collapsed": false,
    "ExecuteTime": {
     "end_time": "2023-08-17T02:35:51.081699700Z",
     "start_time": "2023-08-17T02:35:51.068117700Z"
    }
   }
  },
  {
   "cell_type": "markdown",
   "source": [
    "在类A中, 没有`show()`方法. 所以根据继承机制在父类中寻找. 继承首先根据先后顺序寻找, 所以先执行B类的`show()`方法"
   ],
   "metadata": {
    "collapsed": false
   }
  },
  {
   "cell_type": "code",
   "execution_count": 3,
   "outputs": [
    {
     "name": "stdout",
     "output_type": "stream",
     "text": [
      "i am D\n"
     ]
    }
   ],
   "source": [
    "# 如果B类没有show方法, 而是D有\n",
    "class D:\n",
    "    def show(self):\n",
    "        print(\"i am D\")\n",
    "    pass\n",
    "\n",
    "class C(D):\n",
    "    pass\n",
    "\n",
    "class B(C):\n",
    "\n",
    "    pass\n",
    "\n",
    "class G:\n",
    "    pass\n",
    "\n",
    "class F(G):\n",
    "    pass\n",
    "\n",
    "class E(F):\n",
    "    def show(self):\n",
    "        print(\"i am E\")\n",
    "    pass\n",
    "\n",
    "class A(B, E):\n",
    "    pass\n",
    "\n",
    "a = A()\n",
    "a.show()"
   ],
   "metadata": {
    "collapsed": false,
    "ExecuteTime": {
     "end_time": "2023-08-17T02:40:00.970105200Z",
     "start_time": "2023-08-17T02:40:00.944599200Z"
    }
   }
  },
  {
   "cell_type": "markdown",
   "source": [
    "最终调用的是D的`show()`方法, 左边具有深度优先权, 会一直遍历到终点, 如果到终点没有找到时才会换另一条路. 搜索顺序如下所示\"\n",
    "![order of inheritance2](image/inheritance2.png)"
   ],
   "metadata": {
    "collapsed": false
   }
  },
  {
   "cell_type": "markdown",
   "source": [
    "如果继承顺序如下所示, H和E具有`show()`方法\n",
    "![order of inheritance3](image/inheritance3.png)\n",
    "\n",
    "按照之前的深度优先常理, 应该是打印\"I am H\", 但并不是, 因为Python的深度优先遍历不走共同的祖先\n",
    "![order of inheritance4](image/inheritance4.png)"
   ],
   "metadata": {
    "collapsed": false
   }
  },
  {
   "cell_type": "markdown",
   "source": [
    "### super()函数"
   ],
   "metadata": {
    "collapsed": false
   }
  },
  {
   "cell_type": "markdown",
   "source": [
    "在继承中, 如果子类有与父类同名的成员(成员变量, 方法), 那就会覆盖掉父类里的成员. 那么如果想强制调用父类的成员, 就需要使用`super()`函数. 最常见的就是通过super调用父类的实例化方法`__init__`\n",
    "\n",
    "语法: `super(子类名, self).方法名()`, 需要传入的是子类名和self, 调用的是父类中的方法"
   ],
   "metadata": {
    "collapsed": false
   }
  },
  {
   "cell_type": "code",
   "execution_count": 4,
   "outputs": [
    {
     "name": "stdout",
     "output_type": "stream",
     "text": [
      "父类的__init__方法被执行了\n",
      "父类的show方法被执行了\n"
     ]
    }
   ],
   "source": [
    "class A:\n",
    "    def __init__(self, name):\n",
    "        self.name = name\n",
    "        print(\"父类的__init__方法被执行了\")\n",
    "    def show(self):\n",
    "        print(\"父类的show方法被执行了\")\n",
    "class B(A):\n",
    "    def __init__(self, name, age):\n",
    "        super(B, self).__init__(name=name)\n",
    "        self.age = age\n",
    "    def show(self):\n",
    "        super(B, self).show()\n",
    "b = B(\"jack\", 18)\n",
    "b.show()"
   ],
   "metadata": {
    "collapsed": false,
    "ExecuteTime": {
     "end_time": "2023-08-17T03:37:21.778848100Z",
     "start_time": "2023-08-17T03:37:21.764738Z"
    }
   }
  },
  {
   "cell_type": "markdown",
   "source": [
    "### 多态"
   ],
   "metadata": {
    "collapsed": false
   }
  },
  {
   "cell_type": "code",
   "execution_count": 5,
   "outputs": [
    {
     "name": "stdout",
     "output_type": "stream",
     "text": [
      "I am a dog\n",
      "I am a cat\n",
      "I am a pig\n"
     ]
    }
   ],
   "source": [
    "class Animal:\n",
    "    def kind(self):\n",
    "        print(\"I am animal\")\n",
    "class Dog(Animal):\n",
    "    def kind(self):\n",
    "        print(\"I am a dog\")\n",
    "class Cat(Animal):\n",
    "    def kind(self):\n",
    "        print(\"I am a cat\")\n",
    "class Pig(Animal):\n",
    "    def kind(self):\n",
    "        print(\"I am a pig\")\n",
    "# 这个函数接收一个animal参数, 并调用其kind方法\n",
    "def show_kind(animal):\n",
    "    animal.kind()\n",
    "dog = Dog()\n",
    "cat = Cat()\n",
    "pig = Pig()\n",
    "\n",
    "show_kind(dog)\n",
    "show_kind(cat)\n",
    "show_kind(pig)"
   ],
   "metadata": {
    "collapsed": false,
    "ExecuteTime": {
     "end_time": "2023-08-17T03:45:06.923612100Z",
     "start_time": "2023-08-17T03:45:06.905513400Z"
    }
   }
  },
  {
   "cell_type": "markdown",
   "source": [
    "Dog, Cat, Pig都继承了Animal类, 并各自重写`kind`方法, 而`show_kind()`函数接收一个animal参数, 并调用对象自己的`kind`方法. 传进来的无论是猫狗猪都能调用相应的方法, 打印对应的信息, 这就是多态.\n",
    "\n",
    "由于Python的动态语言特性, 传递给函数`show_kind()`参数可以是任何的类型, 只要有`kind()`方法即可. 动态语言调用实例方法时不检查类型, 只要方法存在, 参数正确, 就可以调用.\n",
    "\n",
    "```python\n",
    "class Job:\n",
    "\n",
    "    def kind(self):\n",
    "        print(\"i am not animal, i am a job\")\n",
    "\n",
    "j = Job()\n",
    "show_kind(j)\n",
    "```\n",
    "\n",
    "跟Java不同, Java必须指定函数参数的数据类型, 只能传递对应参数类型或子类型参数. 结合上面的代码, Java中的`show_kind()`函数只能接收animal, dog, pig类型, 就算是接收animal, dog, cat, 也是通过面向对象的多态机制实现的"
   ],
   "metadata": {
    "collapsed": false
   }
  },
  {
   "cell_type": "code",
   "execution_count": null,
   "outputs": [],
   "source": [],
   "metadata": {
    "collapsed": false
   }
  }
 ],
 "metadata": {
  "kernelspec": {
   "display_name": "Python 3",
   "language": "python",
   "name": "python3"
  },
  "language_info": {
   "codemirror_mode": {
    "name": "ipython",
    "version": 2
   },
   "file_extension": ".py",
   "mimetype": "text/x-python",
   "name": "python",
   "nbconvert_exporter": "python",
   "pygments_lexer": "ipython2",
   "version": "2.7.6"
  }
 },
 "nbformat": 4,
 "nbformat_minor": 0
}
