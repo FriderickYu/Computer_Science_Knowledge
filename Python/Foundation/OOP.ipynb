{
 "cells": [
  {
   "cell_type": "markdown",
   "source": [
    "# 面向对象编程"
   ],
   "metadata": {
    "collapsed": false
   }
  },
  {
   "cell_type": "markdown",
   "source": [
    "## 类和实例化"
   ],
   "metadata": {
    "collapsed": false
   }
  },
  {
   "cell_type": "markdown",
   "source": [
    "```\n",
    "class 类名(父类列表):\n",
    "    pass\n",
    "```\n",
    "Python采用多继承机制, 一个类可以同时继承**多个**父类. 父类列表可以为空, 但也默认继承`object`类, 因为`object`是所有类的基类"
   ],
   "metadata": {
    "collapsed": false
   }
  },
  {
   "cell_type": "markdown",
   "source": [
    "Python提供了一个`def __init__(self):`的实例化机制. 名字为`__init__`的方法就是类的实例化方法, 有`__init__`方法的类在实例化的时候, 会自动调用该方法, 并传递对应的参数. 参数self的意思是, 实例对象本身"
   ],
   "metadata": {
    "collapsed": false
   }
  },
  {
   "cell_type": "code",
   "execution_count": 12,
   "outputs": [],
   "source": [
    "class Student:\n",
    "    classroom = \"101\"\n",
    "    address = \"beijing\"\n",
    "    def __init__(self, name, age):\n",
    "        self.name = name\n",
    "        self.age = age\n",
    "    def print_age(self):\n",
    "        print(\"%s:%s\" %(self.name, self.age))\n",
    "li = Student(\"李四\", 24)\n",
    "zhang = Student(\"张三\", 23)"
   ],
   "metadata": {
    "collapsed": false,
    "ExecuteTime": {
     "end_time": "2023-08-11T02:43:18.426725200Z",
     "start_time": "2023-08-11T02:43:18.415642700Z"
    }
   }
  },
  {
   "cell_type": "markdown",
   "source": [
    "## 实例变量和类变量"
   ],
   "metadata": {
    "collapsed": false
   }
  },
  {
   "cell_type": "markdown",
   "source": [
    "* 实例变量: 实例本身拥有的变量, 比如Student类中构造方法中的name和age就是两个实例变量\n",
    "* 类变量: 定义在类中, 方法之外的变量. 类变量是所有实例共有的变量, 每一个实例都可以访问操作类变量\n"
   ],
   "metadata": {
    "collapsed": false
   }
  },
  {
   "cell_type": "markdown",
   "source": [
    "## 静态方法"
   ],
   "metadata": {
    "collapsed": false
   }
  },
  {
   "cell_type": "markdown",
   "source": [
    "静态方法由类调用, 无默认参数. 静态方法属于类, 但是和实例对象无关. 建议只使用`类名.静态方法`的调用方式"
   ],
   "metadata": {
    "collapsed": false
   }
  },
  {
   "cell_type": "code",
   "execution_count": 13,
   "outputs": [],
   "source": [
    "class Foo:\n",
    "    @staticmethod\n",
    "    def static_mode():\n",
    "        pass\n",
    "# 调用方法\n",
    "Foo.static_mode()"
   ],
   "metadata": {
    "collapsed": false,
    "ExecuteTime": {
     "end_time": "2023-08-11T02:54:16.161346400Z",
     "start_time": "2023-08-11T02:54:16.147734400Z"
    }
   }
  },
  {
   "cell_type": "markdown",
   "source": [
    "## 类方法"
   ],
   "metadata": {
    "collapsed": false
   }
  },
  {
   "cell_type": "markdown",
   "source": [
    "类方法由类调用, 至少传入一个cls. 执行类方法时, 自动将调用该方法的类赋值给cls. 建议只使用`类名.类方法`的调用方式. cls的意思为, 类本身"
   ],
   "metadata": {
    "collapsed": false
   }
  },
  {
   "cell_type": "code",
   "execution_count": 14,
   "outputs": [],
   "source": [
    "class Foo:\n",
    "    @classmethod\n",
    "    def class_method(cls):\n",
    "        pass\n",
    "Foo.class_method()"
   ],
   "metadata": {
    "collapsed": false,
    "ExecuteTime": {
     "end_time": "2023-08-11T03:23:42.646570900Z",
     "start_time": "2023-08-11T03:23:42.641315Z"
    }
   }
  },
  {
   "cell_type": "code",
   "execution_count": 21,
   "outputs": [
    {
     "name": "stdout",
     "output_type": "stream",
     "text": [
      "实例方法\n",
      "类方法\n",
      "静态方法\n"
     ]
    }
   ],
   "source": [
    "# 综合示例\n",
    "class Foo:\n",
    "    def __init__(self, name):\n",
    "        self.name = name\n",
    "    def ord_func(self):\n",
    "        # 实例方法, 至少有一个self参数\n",
    "        print(\"实例方法\")\n",
    "    @classmethod\n",
    "    def class_func(cls):\n",
    "        # 类方法, 至少有一个cls参数\n",
    "        print(\"类方法\")\n",
    "    @staticmethod\n",
    "    def static_func():\n",
    "        # 静态方法, 无参数\n",
    "        print(\"静态方法\")\n",
    "# 调用实例方法\n",
    "f = Foo(\"Jack\")\n",
    "f.ord_func()\n",
    "# 调用类方法\n",
    "Foo.class_func()\n",
    "# 调用静态方法\n",
    "Foo.static_func()\n"
   ],
   "metadata": {
    "collapsed": false,
    "ExecuteTime": {
     "end_time": "2023-08-11T03:32:45.839018700Z",
     "start_time": "2023-08-11T03:32:45.825795400Z"
    }
   }
  },
  {
   "cell_type": "markdown",
   "source": [
    "## 类, 类的方法, 类变量, 类的实例和实例变量在内存当中的保存形式"
   ],
   "metadata": {
    "collapsed": false
   }
  },
  {
   "cell_type": "markdown",
   "source": [
    "类, 类的所有方法以及类变量在内存中只有一份. 而所有的实例进行共享. 每一个实例都在内存中单独保存, 实例变量保存在实例中.\n",
    "\n",
    "创建实例时, 实例中除了封装实例变量之外, 还会保存一个类对象指针, 指向该实例所属类的地址. 所以实例可以找到自己的类, 而类找不到自己的某个实例."
   ],
   "metadata": {
    "collapsed": false
   }
  },
  {
   "cell_type": "markdown",
   "source": [
    "![class in memory](image/class_in_memory.png)"
   ],
   "metadata": {
    "collapsed": false
   }
  },
  {
   "cell_type": "markdown",
   "source": [
    "## OOP三大特性: 继承, 封装, 多态"
   ],
   "metadata": {
    "collapsed": false
   }
  },
  {
   "cell_type": "markdown",
   "source": [
    "继承格式:\n",
    "```python\n",
    "class Foo(superA, superB, superC...):\n",
    "```\n",
    "Python支持**多父类**的继承机制"
   ],
   "metadata": {
    "collapsed": false
   }
  },
  {
   "cell_type": "code",
   "execution_count": 1,
   "outputs": [
    {
     "name": "stdout",
     "output_type": "stream",
     "text": [
      "ken 说: 我 10 岁了，我在读 3 年级\n"
     ]
    }
   ],
   "source": [
    "# 示例\n",
    "# 父类定义:\n",
    "class people:\n",
    "    def __init__(self, name, age, weight):\n",
    "        self.name = name\n",
    "        self.age = age\n",
    "        self.__weight = weight\n",
    "    def speak(self):\n",
    "       print(\"%s 说: 我 %d 岁。\" % (self.name, self.age))\n",
    "# 单继承示例\n",
    "class student(people):\n",
    "    def __init__(self, name, age, weight, grade):\n",
    "        # 调用父类的实例化方法\n",
    "        people.__init__(self, name, age, weight)\n",
    "        self.grade = grade\n",
    "    # 重写继承父类的speak方法\n",
    "    def speak(self):\n",
    "         print(\"%s 说: 我 %d 岁了，我在读 %d 年级\" % (self.name, self.age, self.grade))\n",
    "s = student(\"ken\", 10, 30, 3)\n",
    "s.speak()"
   ],
   "metadata": {
    "collapsed": false,
    "ExecuteTime": {
     "end_time": "2023-08-17T02:26:58.411084100Z",
     "start_time": "2023-08-17T02:26:58.388705600Z"
    }
   }
  },
  {
   "cell_type": "markdown",
   "source": [
    "### Python3的继承机制"
   ],
   "metadata": {
    "collapsed": false
   }
  },
  {
   "cell_type": "markdown",
   "source": [
    "Python3的继承机制不同于Python2, 如下:\n",
    "* 子类在调用某个方法或变量的时候, 首先在自己内部去找, 如果没有则根据**继承机制**在父类里查找\n",
    "* 根据父类定义的顺序, 以**深度优先遍历**的方式逐一查找父类"
   ],
   "metadata": {
    "collapsed": false
   }
  },
  {
   "cell_type": "markdown",
   "source": [
    "![order of inheritance](image/inheritance1.png)"
   ],
   "metadata": {
    "collapsed": false
   }
  },
  {
   "cell_type": "code",
   "execution_count": 2,
   "outputs": [
    {
     "name": "stdout",
     "output_type": "stream",
     "text": [
      "I am B\n"
     ]
    }
   ],
   "source": [
    "# 模拟以上的继承顺序\n",
    "class D:\n",
    "    pass\n",
    "class C(D):\n",
    "    pass\n",
    "class B(C):\n",
    "    def show(self):\n",
    "        print(\"I am B\")\n",
    "    pass\n",
    "class G:\n",
    "    pass\n",
    "class F(G):\n",
    "    pass\n",
    "class E(F):\n",
    "    def show(self):\n",
    "        print(\"I am E\")\n",
    "class A(B, E):\n",
    "    pass\n",
    "a = A()\n",
    "a.show()"
   ],
   "metadata": {
    "collapsed": false,
    "ExecuteTime": {
     "end_time": "2023-08-17T02:35:51.081699700Z",
     "start_time": "2023-08-17T02:35:51.068117700Z"
    }
   }
  },
  {
   "cell_type": "markdown",
   "source": [
    "在类A中, 没有`show()`方法. 所以根据继承机制在父类中寻找. 继承首先根据先后顺序寻找, 所以先执行B类的`show()`方法"
   ],
   "metadata": {
    "collapsed": false
   }
  },
  {
   "cell_type": "code",
   "execution_count": 3,
   "outputs": [
    {
     "name": "stdout",
     "output_type": "stream",
     "text": [
      "i am D\n"
     ]
    }
   ],
   "source": [
    "# 如果B类没有show方法, 而是D有\n",
    "class D:\n",
    "    def show(self):\n",
    "        print(\"i am D\")\n",
    "    pass\n",
    "\n",
    "class C(D):\n",
    "    pass\n",
    "\n",
    "class B(C):\n",
    "\n",
    "    pass\n",
    "\n",
    "class G:\n",
    "    pass\n",
    "\n",
    "class F(G):\n",
    "    pass\n",
    "\n",
    "class E(F):\n",
    "    def show(self):\n",
    "        print(\"i am E\")\n",
    "    pass\n",
    "\n",
    "class A(B, E):\n",
    "    pass\n",
    "\n",
    "a = A()\n",
    "a.show()"
   ],
   "metadata": {
    "collapsed": false,
    "ExecuteTime": {
     "end_time": "2023-08-17T02:40:00.970105200Z",
     "start_time": "2023-08-17T02:40:00.944599200Z"
    }
   }
  },
  {
   "cell_type": "markdown",
   "source": [
    "最终调用的是D的`show()`方法, 左边具有深度优先权, 会一直遍历到终点, 如果到终点没有找到时才会换另一条路. 搜索顺序如下所示\"\n",
    "![order of inheritance2](image/inheritance2.png)"
   ],
   "metadata": {
    "collapsed": false
   }
  },
  {
   "cell_type": "markdown",
   "source": [
    "如果继承顺序如下所示, H和E具有`show()`方法\n",
    "![order of inheritance3](image/inheritance3.png)\n",
    "\n",
    "按照之前的深度优先常理, 应该是打印\"I am H\", 但并不是, 因为Python的深度优先遍历不走共同的祖先\n",
    "![order of inheritance4](image/inheritance4.png)"
   ],
   "metadata": {
    "collapsed": false
   }
  },
  {
   "cell_type": "markdown",
   "source": [
    "### super()函数"
   ],
   "metadata": {
    "collapsed": false
   }
  },
  {
   "cell_type": "markdown",
   "source": [
    "在继承中, 如果子类有与父类同名的成员(成员变量, 方法), 那就会覆盖掉父类里的成员. 那么如果想强制调用父类的成员, 就需要使用`super()`函数. 最常见的就是通过super调用父类的实例化方法`__init__`\n",
    "\n",
    "语法: `super(子类名, self).方法名()`, 需要传入的是子类名和self, 调用的是父类中的方法"
   ],
   "metadata": {
    "collapsed": false
   }
  },
  {
   "cell_type": "code",
   "execution_count": 4,
   "outputs": [
    {
     "name": "stdout",
     "output_type": "stream",
     "text": [
      "父类的__init__方法被执行了\n",
      "父类的show方法被执行了\n"
     ]
    }
   ],
   "source": [
    "class A:\n",
    "    def __init__(self, name):\n",
    "        self.name = name\n",
    "        print(\"父类的__init__方法被执行了\")\n",
    "    def show(self):\n",
    "        print(\"父类的show方法被执行了\")\n",
    "class B(A):\n",
    "    def __init__(self, name, age):\n",
    "        super(B, self).__init__(name=name)\n",
    "        self.age = age\n",
    "    def show(self):\n",
    "        super(B, self).show()\n",
    "b = B(\"jack\", 18)\n",
    "b.show()"
   ],
   "metadata": {
    "collapsed": false,
    "ExecuteTime": {
     "end_time": "2023-08-17T03:37:21.778848100Z",
     "start_time": "2023-08-17T03:37:21.764738Z"
    }
   }
  },
  {
   "cell_type": "markdown",
   "source": [
    "### 多态"
   ],
   "metadata": {
    "collapsed": false
   }
  },
  {
   "cell_type": "code",
   "execution_count": 5,
   "outputs": [
    {
     "name": "stdout",
     "output_type": "stream",
     "text": [
      "I am a dog\n",
      "I am a cat\n",
      "I am a pig\n"
     ]
    }
   ],
   "source": [
    "class Animal:\n",
    "    def kind(self):\n",
    "        print(\"I am animal\")\n",
    "class Dog(Animal):\n",
    "    def kind(self):\n",
    "        print(\"I am a dog\")\n",
    "class Cat(Animal):\n",
    "    def kind(self):\n",
    "        print(\"I am a cat\")\n",
    "class Pig(Animal):\n",
    "    def kind(self):\n",
    "        print(\"I am a pig\")\n",
    "# 这个函数接收一个animal参数, 并调用其kind方法\n",
    "def show_kind(animal):\n",
    "    animal.kind()\n",
    "dog = Dog()\n",
    "cat = Cat()\n",
    "pig = Pig()\n",
    "\n",
    "show_kind(dog)\n",
    "show_kind(cat)\n",
    "show_kind(pig)"
   ],
   "metadata": {
    "collapsed": false,
    "ExecuteTime": {
     "end_time": "2023-08-17T03:45:06.923612100Z",
     "start_time": "2023-08-17T03:45:06.905513400Z"
    }
   }
  },
  {
   "cell_type": "markdown",
   "source": [
    "Dog, Cat, Pig都继承了Animal类, 并各自重写`kind`方法, 而`show_kind()`函数接收一个animal参数, 并调用对象自己的`kind`方法. 传进来的无论是猫狗猪都能调用相应的方法, 打印对应的信息, 这就是多态.\n",
    "\n",
    "由于Python的动态语言特性, 传递给函数`show_kind()`参数可以是任何的类型, 只要有`kind()`方法即可. 动态语言调用实例方法时不检查类型, 只要方法存在, 参数正确, 就可以调用.\n",
    "\n",
    "```python\n",
    "class Job:\n",
    "\n",
    "    def kind(self):\n",
    "        print(\"i am not animal, i am a job\")\n",
    "\n",
    "j = Job()\n",
    "show_kind(j)\n",
    "```\n",
    "\n",
    "跟Java不同, Java必须指定函数参数的数据类型, 只能传递对应参数类型或子类型参数. 结合上面的代码, Java中的`show_kind()`函数只能接收animal, dog, pig类型, 就算是接收animal, dog, cat, 也是通过面向对象的多态机制实现的"
   ],
   "metadata": {
    "collapsed": false
   }
  },
  {
   "cell_type": "markdown",
   "source": [
    "## 成员保护和访问限制"
   ],
   "metadata": {
    "collapsed": false
   }
  },
  {
   "cell_type": "markdown",
   "source": [
    "有的时候类中有些变量是不想让外界访问到的, 即为私有变量, 在成员名字前加上两个下划线`__`, 这个成员就变成了一个私有成员"
   ],
   "metadata": {
    "collapsed": false
   }
  },
  {
   "cell_type": "code",
   "execution_count": 8,
   "outputs": [
    {
     "name": "stdout",
     "output_type": "stream",
     "text": [
      "jack: 18\n"
     ]
    },
    {
     "ename": "AttributeError",
     "evalue": "'People' object has no attribute '__age'",
     "output_type": "error",
     "traceback": [
      "\u001B[1;31m---------------------------------------------------------------------------\u001B[0m",
      "\u001B[1;31mAttributeError\u001B[0m                            Traceback (most recent call last)",
      "Cell \u001B[1;32mIn[8], line 10\u001B[0m\n\u001B[0;32m      8\u001B[0m people \u001B[38;5;241m=\u001B[39m People(\u001B[38;5;124m\"\u001B[39m\u001B[38;5;124mjack\u001B[39m\u001B[38;5;124m\"\u001B[39m, \u001B[38;5;241m18\u001B[39m)\n\u001B[0;32m      9\u001B[0m people\u001B[38;5;241m.\u001B[39mprint_age()\n\u001B[1;32m---> 10\u001B[0m \u001B[43mpeople\u001B[49m\u001B[38;5;241;43m.\u001B[39;49m\u001B[43m__age\u001B[49m\n",
      "\u001B[1;31mAttributeError\u001B[0m: 'People' object has no attribute '__age'"
     ]
    }
   ],
   "source": [
    "class People:\n",
    "    title = \"人类\"\n",
    "    def __init__(self, name, age):\n",
    "        self.__name = name\n",
    "        self.__age = age\n",
    "    def print_age(self):\n",
    "        print(\"%s: %s\" % (self.__name, self.__age))\n",
    "people = People(\"jack\", 18)\n",
    "people.print_age()\n",
    "people.__age"
   ],
   "metadata": {
    "collapsed": false,
    "ExecuteTime": {
     "end_time": "2023-08-17T04:06:18.919361Z",
     "start_time": "2023-08-17T04:06:18.555832100Z"
    }
   }
  },
  {
   "cell_type": "markdown",
   "source": [
    "如果要在外部访问和修改私有变量, 需要使用`getter`和`setter`\n",
    "```python\n",
    "    def get_name(self):\n",
    "        return self.__name\n",
    "\n",
    "    def get_age(self):\n",
    "        return self.__age\n",
    "\n",
    "    def set_name(self, name):\n",
    "        self.__name = name\n",
    "\n",
    "    def set_age(self, age):\n",
    "        self.__age = age\n",
    "```"
   ],
   "metadata": {
    "collapsed": false
   }
  },
  {
   "cell_type": "markdown",
   "source": [
    "以`__`开头的数据成员不一定完全无法从外部访问. 因为本质上之所以无法从外部直接访问`__age`是因为Python解释器对外把`__age`变量改成`_People__age`, `_类名__私有变量`"
   ],
   "metadata": {
    "collapsed": false
   }
  },
  {
   "cell_type": "code",
   "execution_count": 14,
   "outputs": [
    {
     "name": "stdout",
     "output_type": "stream",
     "text": [
      "18\n"
     ]
    }
   ],
   "source": [
    "jack = People(\"jack\", 18)\n",
    "print(jack._People__age)"
   ],
   "metadata": {
    "collapsed": false,
    "ExecuteTime": {
     "end_time": "2023-08-17T06:35:06.807580400Z",
     "start_time": "2023-08-17T06:35:06.800936700Z"
    }
   }
  },
  {
   "cell_type": "markdown",
   "source": [
    "### @property 装饰器"
   ],
   "metadata": {
    "collapsed": false
   }
  },
  {
   "cell_type": "markdown",
   "source": [
    "Python内置的`@property`装饰器会把类的方法包装成属性调用的方式, `Foo.func()` -> `Foo.func`"
   ],
   "metadata": {
    "collapsed": false
   }
  },
  {
   "cell_type": "code",
   "execution_count": 18,
   "outputs": [
    {
     "name": "stdout",
     "output_type": "stream",
     "text": [
      "18\n",
      "people's age:  19\n",
      "删除年龄数据!\n"
     ]
    }
   ],
   "source": [
    "class People:\n",
    "    def __init__(self, name, age):\n",
    "        self.__name = name\n",
    "        self.__age = age\n",
    "    @property\n",
    "    def age(self):\n",
    "        return self.__age\n",
    "    @age.setter\n",
    "    def age(self, age):\n",
    "        if isinstance(age, int):\n",
    "            self.__age = age\n",
    "        else:\n",
    "            raise ValueError\n",
    "    @age.deleter\n",
    "    def age(self):\n",
    "        print(\"删除年龄数据!\")\n",
    "people = People(\"jack\", 18)\n",
    "print(people.age)\n",
    "people.age = 19\n",
    "print(\"people's age: \", people.age)\n",
    "del people.age"
   ],
   "metadata": {
    "collapsed": false,
    "ExecuteTime": {
     "end_time": "2023-08-17T06:58:35.211268300Z",
     "start_time": "2023-08-17T06:58:35.202972200Z"
    }
   }
  },
  {
   "cell_type": "markdown",
   "source": [
    "如上所示, 正常来说, age属于私有变量, 无法使用`people.age`进行访问和修改.\n",
    "但是将一个方法包装成属性后, 就可以使用类似变量赋值, 获取和删除的方法.\n",
    "1. 首先, 在添加`@property`装饰器, 例如上面的`age()`方法, 这相当于`getter`, 用于获取值, 等同于`result = people.age`\n",
    "2. 写一个同名方法, 添加`@xxx.setter`装饰器, 比如`@age.setter`修饰的方法, 相当于`setter`, 相当于赋值, 类似于`people.age = 19`\n",
    "3. 写一个同名方法, 添加`@xxx.deleter`装饰器, 比如`@age.deleter`, 用于删除"
   ],
   "metadata": {
    "collapsed": false
   }
  },
  {
   "cell_type": "markdown",
   "source": [
    "#### property()函数"
   ],
   "metadata": {
    "collapsed": false
   }
  },
  {
   "cell_type": "code",
   "execution_count": 20,
   "outputs": [
    {
     "name": "stdout",
     "output_type": "stream",
     "text": [
      "18\n",
      "people's age:  20\n",
      "删除年龄数据!\n"
     ]
    }
   ],
   "source": [
    "class People:\n",
    "    def __init__(self, name, age):\n",
    "        self.__name = name\n",
    "        self.__age = age\n",
    "    def get_age(self):\n",
    "        return self.__age\n",
    "    def set_age(self, age):\n",
    "        if isinstance(age, int):\n",
    "            self.__age = age\n",
    "        else:\n",
    "            raise ValueError\n",
    "    def del_age(self):\n",
    "        print(\"删除年龄数据!\")\n",
    "    # 核心在这句上, property()函数\n",
    "    age = property(get_age, set_age, del_age)\n",
    "people = People(\"jack\", 18)\n",
    "print(people.age)\n",
    "people.age = 20\n",
    "print(\"people's age: \", people.age)\n",
    "del people.age\n"
   ],
   "metadata": {
    "collapsed": false,
    "ExecuteTime": {
     "end_time": "2023-08-17T07:26:32.363788800Z",
     "start_time": "2023-08-17T07:26:32.356782800Z"
    }
   }
  },
  {
   "cell_type": "markdown",
   "source": [
    "## 特殊成员和魔法方法"
   ],
   "metadata": {
    "collapsed": false
   }
  },
  {
   "cell_type": "markdown",
   "source": [
    "Python有很多类似于`__doc__`这种以双下划线开头和结尾的*特殊成员*与*魔法方法*\n",
    "有些是方法, 调用时需要加括号, 有些是属性, 调用时不需要加括号"
   ],
   "metadata": {
    "collapsed": false
   }
  },
  {
   "cell_type": "markdown",
   "source": [
    "| 方法名         | 作用             |\n",
    "|-------------|----------------|\n",
    "| `__init__`  | 构造方法, 在生成对象时调用 |\n",
    "| `__del__`   | 析构函数, 释放对象时使用  |\n",
    "| `__repr__`  | 打印, 转换         |\n",
    "| `__setitem` | 按照索引赋值         |\n",
    "| `__getitem` | 按照索引获取值        |\n",
    "| `__len__`   | 获取长度           |\n",
    "| `__cmp__`   | 比较运算           |\n",
    "| `__call__`  | 调用             |\n",
    "| `__add__`   | 加运算            |\n",
    "| `__sub__`   | 减运算            |\n",
    "| `__mul__`   | 乘运算            |\n",
    "| `__div__`   | 除运算            |\n",
    "| `__mod__`   | 求余运算           |\n",
    "| `__pow__`   | 幕              |"
   ],
   "metadata": {
    "collapsed": false
   }
  },
  {
   "cell_type": "markdown",
   "source": [
    "### __doc__"
   ],
   "metadata": {
    "collapsed": false
   }
  },
  {
   "cell_type": "markdown",
   "source": [
    "说明性文档和信息, Python自建, 无需自定义"
   ],
   "metadata": {
    "collapsed": false
   }
  },
  {
   "cell_type": "code",
   "execution_count": 23,
   "outputs": [
    {
     "name": "stdout",
     "output_type": "stream",
     "text": [
      "\n",
      "    描述类信息, 可被自动收集\n",
      "    \n"
     ]
    }
   ],
   "source": [
    "class Foo:\n",
    "    \"\"\"\n",
    "    描述类信息, 可被自动收集\n",
    "    \"\"\"\n",
    "    def func(self):\n",
    "        pass\n",
    "# 打印类的说明文档\n",
    "print(Foo.__doc__)"
   ],
   "metadata": {
    "collapsed": false,
    "ExecuteTime": {
     "end_time": "2023-08-17T07:46:02.020608800Z",
     "start_time": "2023-08-17T07:46:02.011034100Z"
    }
   }
  },
  {
   "cell_type": "markdown",
   "source": [
    "### __init__()"
   ],
   "metadata": {
    "collapsed": false
   }
  },
  {
   "cell_type": "markdown",
   "source": [
    "实例化方法, 通过类创建实例时, 自动触发执行"
   ],
   "metadata": {
    "collapsed": false
   }
  },
  {
   "cell_type": "code",
   "execution_count": 24,
   "outputs": [],
   "source": [
    "class Foo:\n",
    "    def __init__(self, name):\n",
    "        self.name = name\n",
    "        self.age = 18\n",
    "# 自动执行类中的__init__方法\n",
    "obj = Foo(\"jack\")"
   ],
   "metadata": {
    "collapsed": false,
    "ExecuteTime": {
     "end_time": "2023-08-17T07:50:54.975630300Z",
     "start_time": "2023-08-17T07:50:54.957624Z"
    }
   }
  },
  {
   "cell_type": "markdown",
   "source": [
    "### module和class"
   ],
   "metadata": {
    "collapsed": false
   }
  },
  {
   "cell_type": "markdown",
   "source": [
    "`__module__`表示当前操作的对象属于哪个模块\n",
    "`__class__`表示当前操作的对象属于哪个类\n",
    "Python内建, 无需自己定义"
   ],
   "metadata": {
    "collapsed": false
   }
  },
  {
   "cell_type": "code",
   "execution_count": 25,
   "outputs": [
    {
     "name": "stdout",
     "output_type": "stream",
     "text": [
      "__main__\n",
      "<class 'type'>\n"
     ]
    }
   ],
   "source": [
    "class Foo:\n",
    "    pass\n",
    "obj = Foo()\n",
    "print(Foo.__module__)\n",
    "print(Foo.__class__)"
   ],
   "metadata": {
    "collapsed": false,
    "ExecuteTime": {
     "end_time": "2023-08-17T07:53:15.683589300Z",
     "start_time": "2023-08-17T07:53:15.639232Z"
    }
   }
  },
  {
   "cell_type": "markdown",
   "source": [
    "### __del__()"
   ],
   "metadata": {
    "collapsed": false
   }
  },
  {
   "cell_type": "markdown",
   "source": [
    "析构方法, 当对象在内存中被释放时, 自动触发该方法\n",
    "该方法一般无须自定义, 因为Python自带内存分配和释放机制\n",
    "析构函数的调用是由解释器在进行垃圾回收时自动触发执行的"
   ],
   "metadata": {
    "collapsed": false
   }
  },
  {
   "cell_type": "code",
   "execution_count": 27,
   "outputs": [
    {
     "name": "stdout",
     "output_type": "stream",
     "text": [
      "我被回收了!\n"
     ]
    },
    {
     "ename": "NameError",
     "evalue": "name 'obj' is not defined",
     "output_type": "error",
     "traceback": [
      "\u001B[1;31m---------------------------------------------------------------------------\u001B[0m",
      "\u001B[1;31mNameError\u001B[0m                                 Traceback (most recent call last)",
      "Cell \u001B[1;32mIn[27], line 6\u001B[0m\n\u001B[0;32m      4\u001B[0m obj \u001B[38;5;241m=\u001B[39m Foo()\n\u001B[0;32m      5\u001B[0m \u001B[38;5;28;01mdel\u001B[39;00m obj\n\u001B[1;32m----> 6\u001B[0m \u001B[38;5;28mid\u001B[39m(\u001B[43mobj\u001B[49m)\n",
      "\u001B[1;31mNameError\u001B[0m: name 'obj' is not defined"
     ]
    }
   ],
   "source": [
    "class Foo:\n",
    "    def __del__(self):\n",
    "        print(\"我被回收了!\")\n",
    "obj = Foo()\n",
    "del obj\n",
    "id(obj)"
   ],
   "metadata": {
    "collapsed": false,
    "ExecuteTime": {
     "end_time": "2023-08-17T07:56:47.266999Z",
     "start_time": "2023-08-17T07:56:47.220068200Z"
    }
   }
  },
  {
   "cell_type": "markdown",
   "source": [
    "### __call__()"
   ],
   "metadata": {
    "collapsed": false
   }
  },
  {
   "cell_type": "markdown",
   "source": [
    "如果为一个类编写了该方法, 那么在该类的实例后面加括号, 会调用这个方法\n",
    "构造方法的执行是由类加括号执行的, 即`对象 = 类名()`, 而对于`__call__()`, 是由对象后加括号除法的, 即`对象()`"
   ],
   "metadata": {
    "collapsed": false
   }
  },
  {
   "cell_type": "code",
   "execution_count": 28,
   "outputs": [
    {
     "name": "stdout",
     "output_type": "stream",
     "text": [
      "__call__\n"
     ]
    }
   ],
   "source": [
    "class Foo:\n",
    "    def __init__(self):\n",
    "        pass\n",
    "    def __call__(self, *args, **kwargs):\n",
    "        print(\"__call__\")\n",
    "obj = Foo() # 执行__init__\n",
    "obj() # 执行__call__"
   ],
   "metadata": {
    "collapsed": false,
    "ExecuteTime": {
     "end_time": "2023-08-17T08:02:50.765026400Z",
     "start_time": "2023-08-17T08:02:50.744797600Z"
    }
   }
  },
  {
   "cell_type": "markdown",
   "source": [
    "能被执行的对象, 一定是一个`Callable`的对象, 所以可以使用Python内建的`callable()`函数进行测试"
   ],
   "metadata": {
    "collapsed": false
   }
  },
  {
   "cell_type": "code",
   "execution_count": 32,
   "outputs": [
    {
     "name": "stdout",
     "output_type": "stream",
     "text": [
      "True\n",
      "False\n",
      "False\n",
      "False\n"
     ]
    }
   ],
   "source": [
    "print(callable(max))\n",
    "print(callable([1, 2, 3]))\n",
    "print(callable(None))\n",
    "print(callable(\"str\"))"
   ],
   "metadata": {
    "collapsed": false,
    "ExecuteTime": {
     "end_time": "2023-08-17T08:04:41.928306300Z",
     "start_time": "2023-08-17T08:04:41.915831900Z"
    }
   }
  },
  {
   "cell_type": "markdown",
   "source": [
    "### __dict__"
   ],
   "metadata": {
    "collapsed": false
   }
  },
  {
   "cell_type": "markdown",
   "source": [
    "列出类或对象中所有成员"
   ],
   "metadata": {
    "collapsed": false
   }
  },
  {
   "cell_type": "code",
   "execution_count": 34,
   "outputs": [
    {
     "name": "stdout",
     "output_type": "stream",
     "text": [
      "{'__module__': '__main__', 'country': 'china', '__init__': <function Province.__init__ at 0x000001BB3A5A1700>, 'func': <function Province.func at 0x000001BB3A5A1280>, '__dict__': <attribute '__dict__' of 'Province' objects>, '__weakref__': <attribute '__weakref__' of 'Province' objects>, '__doc__': None}\n",
      "{'name': 'heilongjiang', 'count': 100000}\n"
     ]
    }
   ],
   "source": [
    "class Province:\n",
    "    country = \"china\"\n",
    "    def __init__(self, name, count):\n",
    "        self.name = name\n",
    "        self.count = count\n",
    "    def func(self, *args, **kwargs):\n",
    "        print(\"func\")\n",
    "# 获取类的成员\n",
    "print(Province.__dict__)\n",
    "# 获取对象obj1的成员\n",
    "obj1 = Province(\"heilongjiang\", 100000)\n",
    "print(obj1.__dict__)"
   ],
   "metadata": {
    "collapsed": false,
    "ExecuteTime": {
     "end_time": "2023-08-17T08:10:40.684422900Z",
     "start_time": "2023-08-17T08:10:40.673499800Z"
    }
   }
  },
  {
   "cell_type": "markdown",
   "source": [
    "### __str__()"
   ],
   "metadata": {
    "collapsed": false
   }
  },
  {
   "cell_type": "markdown",
   "source": [
    "如果一个类中定义了`__str__()`方法, 那么在打印对象时, 默认输出该方法的返回值, 需要用户自己定义"
   ],
   "metadata": {
    "collapsed": false
   }
  },
  {
   "cell_type": "code",
   "execution_count": 35,
   "outputs": [
    {
     "name": "stdout",
     "output_type": "stream",
     "text": [
      "<__main__.Foo object at 0x000001BB3A2BAEE0>\n"
     ]
    }
   ],
   "source": [
    "# 没有定义__str__()的情况\n",
    "class Foo:\n",
    "    pass\n",
    "obj = Foo()\n",
    "print(obj)"
   ],
   "metadata": {
    "collapsed": false,
    "ExecuteTime": {
     "end_time": "2023-08-17T08:12:28.686660800Z",
     "start_time": "2023-08-17T08:12:28.666890700Z"
    }
   }
  },
  {
   "cell_type": "code",
   "execution_count": 36,
   "outputs": [
    {
     "name": "stdout",
     "output_type": "stream",
     "text": [
      "jack\n"
     ]
    }
   ],
   "source": [
    "# 定义__str__()的情况\n",
    "class Foo:\n",
    "    def __str__(self):\n",
    "        return \"jack\"\n",
    "obj = Foo()\n",
    "print(obj)"
   ],
   "metadata": {
    "collapsed": false,
    "ExecuteTime": {
     "end_time": "2023-08-17T08:13:03.828892900Z",
     "start_time": "2023-08-17T08:13:03.808712600Z"
    }
   }
  },
  {
   "cell_type": "markdown",
   "source": [
    "### __getitem__(), __setitem__(), __delitem__()"
   ],
   "metadata": {
    "collapsed": false
   }
  },
  {
   "cell_type": "markdown",
   "source": [
    "取值, 赋值, 删除, 三大卧龙凤雏\n",
    "a = 标识符[]: 执行`__getitem__`方法\n",
    "标识符[] = a: 执行`__setitem__`方法\n",
    "del 标识符[]: 执行`__delitem__`方法"
   ],
   "metadata": {
    "collapsed": false
   }
  },
  {
   "cell_type": "code",
   "execution_count": 37,
   "outputs": [
    {
     "name": "stdout",
     "output_type": "stream",
     "text": [
      "__getitem__ k1\n",
      "__setitem__ k2 jack\n",
      "__delitem__ k1\n"
     ]
    }
   ],
   "source": [
    "class Foo:\n",
    "    def __getitem__(self, key):\n",
    "        print(\"__getitem__\", key)\n",
    "    def __setitem__(self, key, value):\n",
    "        print(\"__setitem__\", key, value)\n",
    "    def __delitem__(self, key):\n",
    "        print(\"__delitem__\", key)\n",
    "obj = Foo()\n",
    "result = obj[\"k1\"]\n",
    "obj[\"k2\"] = \"jack\"\n",
    "del obj[\"k1\"]"
   ],
   "metadata": {
    "collapsed": false,
    "ExecuteTime": {
     "end_time": "2023-08-17T08:20:40.145037100Z",
     "start_time": "2023-08-17T08:20:40.124595Z"
    }
   }
  },
  {
   "cell_type": "markdown",
   "source": [
    "### __iter__()"
   ],
   "metadata": {
    "collapsed": false
   }
  },
  {
   "cell_type": "markdown",
   "source": [
    "迭代器方法, 列表, 元组和字典之所以可以使用for循环, 就是因为内部定义了`__iter__()`方法. 如果想让自定义的类的对象可以被迭代, 那么就需要在类中定义这个方法, 并且让该方法的返回值是一个可迭代的对象"
   ],
   "metadata": {
    "collapsed": false
   }
  },
  {
   "cell_type": "code",
   "execution_count": 38,
   "outputs": [
    {
     "ename": "TypeError",
     "evalue": "'Foo' object is not iterable",
     "output_type": "error",
     "traceback": [
      "\u001B[1;31m---------------------------------------------------------------------------\u001B[0m",
      "\u001B[1;31mTypeError\u001B[0m                                 Traceback (most recent call last)",
      "Cell \u001B[1;32mIn[38], line 5\u001B[0m\n\u001B[0;32m      3\u001B[0m     \u001B[38;5;28;01mpass\u001B[39;00m\n\u001B[0;32m      4\u001B[0m obj \u001B[38;5;241m=\u001B[39m Foo()\n\u001B[1;32m----> 5\u001B[0m \u001B[38;5;28;01mfor\u001B[39;00m i \u001B[38;5;129;01min\u001B[39;00m obj:\n\u001B[0;32m      6\u001B[0m     \u001B[38;5;28mprint\u001B[39m(i)\n",
      "\u001B[1;31mTypeError\u001B[0m: 'Foo' object is not iterable"
     ]
    }
   ],
   "source": [
    "# 错误案例1, 没有为类添加迭代方法\n",
    "class Foo:\n",
    "    pass\n",
    "obj = Foo()\n",
    "for i in obj:\n",
    "    print(i)"
   ],
   "metadata": {
    "collapsed": false,
    "ExecuteTime": {
     "end_time": "2023-08-17T08:25:36.771988400Z",
     "start_time": "2023-08-17T08:25:36.736739Z"
    }
   }
  },
  {
   "cell_type": "code",
   "execution_count": 39,
   "outputs": [
    {
     "ename": "TypeError",
     "evalue": "iter() returned non-iterator of type 'NoneType'",
     "output_type": "error",
     "traceback": [
      "\u001B[1;31m---------------------------------------------------------------------------\u001B[0m",
      "\u001B[1;31mTypeError\u001B[0m                                 Traceback (most recent call last)",
      "Cell \u001B[1;32mIn[39], line 6\u001B[0m\n\u001B[0;32m      4\u001B[0m         \u001B[38;5;28;01mpass\u001B[39;00m\n\u001B[0;32m      5\u001B[0m obj \u001B[38;5;241m=\u001B[39m Foo()\n\u001B[1;32m----> 6\u001B[0m \u001B[38;5;28;01mfor\u001B[39;00m i \u001B[38;5;129;01min\u001B[39;00m obj:\n\u001B[0;32m      7\u001B[0m     \u001B[38;5;28mprint\u001B[39m(i)\n",
      "\u001B[1;31mTypeError\u001B[0m: iter() returned non-iterator of type 'NoneType'"
     ]
    }
   ],
   "source": [
    "# 错误案例2: 添加迭代方法, 但不返回可迭代对象\n",
    "class Foo:\n",
    "    def __iter__(self):\n",
    "        pass\n",
    "obj = Foo()\n",
    "for i in obj:\n",
    "    print(i)"
   ],
   "metadata": {
    "collapsed": false,
    "ExecuteTime": {
     "end_time": "2023-08-17T08:29:29.497577200Z",
     "start_time": "2023-08-17T08:29:29.475978700Z"
    }
   }
  },
  {
   "cell_type": "code",
   "execution_count": 40,
   "outputs": [
    {
     "name": "stdout",
     "output_type": "stream",
     "text": [
      "11\n",
      "22\n",
      "33\n",
      "44\n"
     ]
    }
   ],
   "source": [
    "# 正确案例, 返回可迭代对象\n",
    "class Foo:\n",
    "    def __init__(self, sq):\n",
    "        self.sq = sq\n",
    "    def __iter__(self):\n",
    "        return iter(self.sq)\n",
    "obj = Foo([11, 22, 33, 44])\n",
    "for i in obj:\n",
    "    print(i)"
   ],
   "metadata": {
    "collapsed": false,
    "ExecuteTime": {
     "end_time": "2023-08-17T08:30:45.522394200Z",
     "start_time": "2023-08-17T08:30:45.463204600Z"
    }
   }
  },
  {
   "cell_type": "markdown",
   "source": [
    "### __len__()"
   ],
   "metadata": {
    "collapsed": false
   }
  },
  {
   "cell_type": "markdown",
   "source": [
    "调用内置的`len()`函数试图获取一个对象的长度, 实际上就是调用该对象的`__len__()`方法"
   ],
   "metadata": {
    "collapsed": false
   }
  },
  {
   "cell_type": "code",
   "execution_count": 41,
   "outputs": [
    {
     "name": "stdout",
     "output_type": "stream",
     "text": [
      "3\n",
      "3\n"
     ]
    }
   ],
   "source": [
    "print(len(\"ABC\"))\n",
    "print(\"ABC\".__len__())"
   ],
   "metadata": {
    "collapsed": false,
    "ExecuteTime": {
     "end_time": "2023-08-17T08:32:10.079711700Z",
     "start_time": "2023-08-17T08:32:10.058872300Z"
    }
   }
  },
  {
   "cell_type": "markdown",
   "source": [
    "## reflect反射"
   ],
   "metadata": {
    "collapsed": false
   }
  },
  {
   "cell_type": "code",
   "execution_count": null,
   "outputs": [],
   "source": [],
   "metadata": {
    "collapsed": false
   }
  }
 ],
 "metadata": {
  "kernelspec": {
   "display_name": "Python 3",
   "language": "python",
   "name": "python3"
  },
  "language_info": {
   "codemirror_mode": {
    "name": "ipython",
    "version": 2
   },
   "file_extension": ".py",
   "mimetype": "text/x-python",
   "name": "python",
   "nbconvert_exporter": "python",
   "pygments_lexer": "ipython2",
   "version": "2.7.6"
  }
 },
 "nbformat": 4,
 "nbformat_minor": 0
}
