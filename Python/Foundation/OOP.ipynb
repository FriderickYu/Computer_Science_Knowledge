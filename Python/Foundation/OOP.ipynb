{
 "cells": [
  {
   "cell_type": "markdown",
   "source": [
    "# 面向对象编程"
   ],
   "metadata": {
    "collapsed": false
   }
  },
  {
   "cell_type": "markdown",
   "source": [
    "## 类和实例化"
   ],
   "metadata": {
    "collapsed": false
   }
  },
  {
   "cell_type": "markdown",
   "source": [
    "```\n",
    "class 类名(父类列表):\n",
    "    pass\n",
    "```\n",
    "Python采用多继承机制, 一个类可以同时继承**多个**父类. 父类列表可以为空, 但也默认继承`object`类, 因为`object`是所有类的基类"
   ],
   "metadata": {
    "collapsed": false
   }
  },
  {
   "cell_type": "markdown",
   "source": [
    "Python提供了一个`def __init__(self):`的实例化机制. 名字为`__init__`的方法就是类的实例化方法, 有`__init__`方法的类在实例化的时候, 会自动调用该方法, 并传递对应的参数. 参数self的意思是, 实例对象本身"
   ],
   "metadata": {
    "collapsed": false
   }
  },
  {
   "cell_type": "code",
   "execution_count": 12,
   "outputs": [],
   "source": [
    "class Student:\n",
    "    classroom = \"101\"\n",
    "    address = \"beijing\"\n",
    "    def __init__(self, name, age):\n",
    "        self.name = name\n",
    "        self.age = age\n",
    "    def print_age(self):\n",
    "        print(\"%s:%s\" %(self.name, self.age))\n",
    "li = Student(\"李四\", 24)\n",
    "zhang = Student(\"张三\", 23)"
   ],
   "metadata": {
    "collapsed": false,
    "ExecuteTime": {
     "end_time": "2023-08-11T02:43:18.426725200Z",
     "start_time": "2023-08-11T02:43:18.415642700Z"
    }
   }
  },
  {
   "cell_type": "markdown",
   "source": [
    "## 实例变量和类变量"
   ],
   "metadata": {
    "collapsed": false
   }
  },
  {
   "cell_type": "markdown",
   "source": [
    "* 实例变量: 实例本身拥有的变量, 比如Student类中构造方法中的name和age就是两个实例变量\n",
    "* 类变量: 定义在类中, 方法之外的变量. 类变量是所有实例共有的变量, 每一个实例都可以访问操作类变量\n"
   ],
   "metadata": {
    "collapsed": false
   }
  },
  {
   "cell_type": "markdown",
   "source": [
    "## 静态方法"
   ],
   "metadata": {
    "collapsed": false
   }
  },
  {
   "cell_type": "markdown",
   "source": [
    "静态方法由类调用, 无默认参数. 静态方法属于类, 但是和实例对象无关. 建议只使用`类名.静态方法`的调用方式"
   ],
   "metadata": {
    "collapsed": false
   }
  },
  {
   "cell_type": "code",
   "execution_count": 13,
   "outputs": [],
   "source": [
    "class Foo:\n",
    "    @staticmethod\n",
    "    def static_mode():\n",
    "        pass\n",
    "# 调用方法\n",
    "Foo.static_mode()"
   ],
   "metadata": {
    "collapsed": false,
    "ExecuteTime": {
     "end_time": "2023-08-11T02:54:16.161346400Z",
     "start_time": "2023-08-11T02:54:16.147734400Z"
    }
   }
  },
  {
   "cell_type": "markdown",
   "source": [
    "## 类方法"
   ],
   "metadata": {
    "collapsed": false
   }
  },
  {
   "cell_type": "markdown",
   "source": [
    "类方法由类调用, 至少传入一个cls. 执行类方法时, 自动将调用该方法的类赋值给cls. 建议只使用`类名.类方法`的调用方式. cls的意思为, 类本身"
   ],
   "metadata": {
    "collapsed": false
   }
  },
  {
   "cell_type": "code",
   "execution_count": 14,
   "outputs": [],
   "source": [
    "class Foo:\n",
    "    @classmethod\n",
    "    def class_method(cls):\n",
    "        pass\n",
    "Foo.class_method()"
   ],
   "metadata": {
    "collapsed": false,
    "ExecuteTime": {
     "end_time": "2023-08-11T03:23:42.646570900Z",
     "start_time": "2023-08-11T03:23:42.641315Z"
    }
   }
  },
  {
   "cell_type": "code",
   "execution_count": 21,
   "outputs": [
    {
     "name": "stdout",
     "output_type": "stream",
     "text": [
      "实例方法\n",
      "类方法\n",
      "静态方法\n"
     ]
    }
   ],
   "source": [
    "# 综合示例\n",
    "class Foo:\n",
    "    def __init__(self, name):\n",
    "        self.name = name\n",
    "    def ord_func(self):\n",
    "        # 实例方法, 至少有一个self参数\n",
    "        print(\"实例方法\")\n",
    "    @classmethod\n",
    "    def class_func(cls):\n",
    "        # 类方法, 至少有一个cls参数\n",
    "        print(\"类方法\")\n",
    "    @staticmethod\n",
    "    def static_func():\n",
    "        # 静态方法, 无参数\n",
    "        print(\"静态方法\")\n",
    "# 调用实例方法\n",
    "f = Foo(\"Jack\")\n",
    "f.ord_func()\n",
    "# 调用类方法\n",
    "Foo.class_func()\n",
    "# 调用静态方法\n",
    "Foo.static_func()\n"
   ],
   "metadata": {
    "collapsed": false,
    "ExecuteTime": {
     "end_time": "2023-08-11T03:32:45.839018700Z",
     "start_time": "2023-08-11T03:32:45.825795400Z"
    }
   }
  },
  {
   "cell_type": "markdown",
   "source": [
    "## 类, 类的方法, 类变量, 类的实例和实例变量在内存当中的保存形式"
   ],
   "metadata": {
    "collapsed": false
   }
  },
  {
   "cell_type": "markdown",
   "source": [
    "类, 类的所有方法以及类变量在内存中只有一份. 而所有的实例进行共享. 每一个实例都在内存中单独保存, 实例变量保存在实例中.\n",
    "\n",
    "创建实例时, 实例中除了封装实例变量之外, 还会保存一个类对象指针, 指向该实例所属类的地址. 所以实例可以找到自己的类, 而类找不到自己的某个实例."
   ],
   "metadata": {
    "collapsed": false
   }
  },
  {
   "cell_type": "markdown",
   "source": [
    "![class in memory](image/class_in_memory.png)"
   ],
   "metadata": {
    "collapsed": false
   }
  },
  {
   "cell_type": "code",
   "execution_count": null,
   "outputs": [],
   "source": [],
   "metadata": {
    "collapsed": false
   }
  }
 ],
 "metadata": {
  "kernelspec": {
   "display_name": "Python 3",
   "language": "python",
   "name": "python3"
  },
  "language_info": {
   "codemirror_mode": {
    "name": "ipython",
    "version": 2
   },
   "file_extension": ".py",
   "mimetype": "text/x-python",
   "name": "python",
   "nbconvert_exporter": "python",
   "pygments_lexer": "ipython2",
   "version": "2.7.6"
  }
 },
 "nbformat": 4,
 "nbformat_minor": 0
}
