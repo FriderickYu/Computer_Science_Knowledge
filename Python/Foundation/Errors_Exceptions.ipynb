{
 "cells": [
  {
   "cell_type": "markdown",
   "source": [
    "# 异常处理"
   ],
   "metadata": {
    "collapsed": false
   }
  },
  {
   "cell_type": "markdown",
   "source": [
    "Python内置了几十种常见的异常, 就在`builtins`模块内. 发生异常的时候, Python会打印出异常信息, 异常信息前面显示了异常发生的上下文环境"
   ],
   "metadata": {
    "collapsed": false
   }
  },
  {
   "cell_type": "code",
   "execution_count": 1,
   "outputs": [
    {
     "ename": "ZeroDivisionError",
     "evalue": "division by zero",
     "output_type": "error",
     "traceback": [
      "\u001B[1;31m---------------------------------------------------------------------------\u001B[0m",
      "\u001B[1;31mZeroDivisionError\u001B[0m                         Traceback (most recent call last)",
      "Cell \u001B[1;32mIn[1], line 2\u001B[0m\n\u001B[0;32m      1\u001B[0m \u001B[38;5;66;03m# ZeroDivisionError\u001B[39;00m\n\u001B[1;32m----> 2\u001B[0m \u001B[38;5;241m10\u001B[39m \u001B[38;5;241m*\u001B[39m (\u001B[38;5;241;43m1\u001B[39;49m\u001B[43m \u001B[49m\u001B[38;5;241;43m/\u001B[39;49m\u001B[43m \u001B[49m\u001B[38;5;241;43m0\u001B[39;49m)\n",
      "\u001B[1;31mZeroDivisionError\u001B[0m: division by zero"
     ]
    }
   ],
   "source": [
    "# ZeroDivisionError\n",
    "10 * (1 / 0)"
   ],
   "metadata": {
    "collapsed": false,
    "ExecuteTime": {
     "end_time": "2023-08-18T07:35:19.941966100Z",
     "start_time": "2023-08-18T07:35:19.657561Z"
    }
   }
  },
  {
   "cell_type": "code",
   "execution_count": 2,
   "outputs": [
    {
     "ename": "NameError",
     "evalue": "name 'spam' is not defined",
     "output_type": "error",
     "traceback": [
      "\u001B[1;31m---------------------------------------------------------------------------\u001B[0m",
      "\u001B[1;31mNameError\u001B[0m                                 Traceback (most recent call last)",
      "Cell \u001B[1;32mIn[2], line 2\u001B[0m\n\u001B[0;32m      1\u001B[0m \u001B[38;5;66;03m# NameError\u001B[39;00m\n\u001B[1;32m----> 2\u001B[0m \u001B[38;5;241m4\u001B[39m \u001B[38;5;241m+\u001B[39m \u001B[43mspam\u001B[49m \u001B[38;5;241m*\u001B[39m \u001B[38;5;241m3\u001B[39m\n",
      "\u001B[1;31mNameError\u001B[0m: name 'spam' is not defined"
     ]
    }
   ],
   "source": [
    "# NameError\n",
    "4 + spam * 3"
   ],
   "metadata": {
    "collapsed": false,
    "ExecuteTime": {
     "end_time": "2023-08-18T07:35:45.887891100Z",
     "start_time": "2023-08-18T07:35:45.834833800Z"
    }
   }
  },
  {
   "cell_type": "code",
   "execution_count": 3,
   "outputs": [
    {
     "ename": "TypeError",
     "evalue": "can only concatenate str (not \"int\") to str",
     "output_type": "error",
     "traceback": [
      "\u001B[1;31m---------------------------------------------------------------------------\u001B[0m",
      "\u001B[1;31mTypeError\u001B[0m                                 Traceback (most recent call last)",
      "Cell \u001B[1;32mIn[3], line 2\u001B[0m\n\u001B[0;32m      1\u001B[0m \u001B[38;5;66;03m# TypeError\u001B[39;00m\n\u001B[1;32m----> 2\u001B[0m \u001B[38;5;124;43m'\u001B[39;49m\u001B[38;5;124;43m2\u001B[39;49m\u001B[38;5;124;43m'\u001B[39;49m\u001B[43m \u001B[49m\u001B[38;5;241;43m+\u001B[39;49m\u001B[43m \u001B[49m\u001B[38;5;241;43m2\u001B[39;49m\n",
      "\u001B[1;31mTypeError\u001B[0m: can only concatenate str (not \"int\") to str"
     ]
    }
   ],
   "source": [
    "# TypeError\n",
    "'2' + 2"
   ],
   "metadata": {
    "collapsed": false,
    "ExecuteTime": {
     "end_time": "2023-08-18T07:38:14.167199400Z",
     "start_time": "2023-08-18T07:38:14.104055400Z"
    }
   }
  },
  {
   "cell_type": "markdown",
   "source": [
    "Python内置了一套`try...except...finally (else) ...`的异常处理\n",
    "基本语法:\n",
    "```python\n",
    "try:\n",
    "    pass\n",
    "except Exception as ex:\n",
    "    pass\n",
    "```"
   ],
   "metadata": {
    "collapsed": false
   }
  },
  {
   "cell_type": "markdown",
   "source": [
    "Python的处理机制具有嵌套处理的能力\n",
    "比如下面的`f3()`调用`f2()`, `f2()`调用`f1()`, 虽然是在`f1()`中出现的问题, 但只需要在`f3()`进行异常捕获, 不需要每一层都捕获异常\n",
    "```python\n",
    "def f1():\n",
    "    return 10/0\n",
    "\n",
    "def f2():\n",
    "    f1()\n",
    "\n",
    "def f3():\n",
    "    f2()\n",
    "\n",
    "f3()\n",
    "------------------------\n",
    "Traceback (most recent call last):\n",
    "  File \"F:/Python/pycharm/201705/1.py\", line 10, in <module>\n",
    "    f3()\n",
    "  File \"F:/Python/pycharm/201705/1.py\", line 8, in f3\n",
    "    f2()\n",
    "  File \"F:/Python/pycharm/201705/1.py\", line 5, in f2\n",
    "    f1()\n",
    "  File \"F:/Python/pycharm/201705/1.py\", line 2, in f1\n",
    "    return 10/0\n",
    "ZeroDivisionError: division by zero\n",
    "```"
   ],
   "metadata": {
    "collapsed": false
   }
  },
  {
   "cell_type": "code",
   "execution_count": 6,
   "outputs": [
    {
     "name": "stdout",
     "output_type": "stream",
     "text": [
      "发生异常之前的语句正常执行\n",
      "division by zero\n"
     ]
    }
   ],
   "source": [
    "def f1():\n",
    "    return 10 / 0\n",
    "def f2():\n",
    "    f1()\n",
    "def f3():\n",
    "    f2()\n",
    "try:\n",
    "    print(\"发生异常之前的语句正常执行\")\n",
    "    f3()\n",
    "    print(\"发生异常之后的语句正常执行\")\n",
    "except ZeroDivisionError as e:\n",
    "    print(e)"
   ],
   "metadata": {
    "collapsed": false,
    "ExecuteTime": {
     "end_time": "2023-08-18T07:48:33.216023900Z",
     "start_time": "2023-08-18T07:48:33.205268100Z"
    }
   }
  },
  {
   "cell_type": "markdown",
   "source": [
    "`try...except...`语句处理异常的工作机制如下:\n",
    "1. 通常要把需要检测的语句放到try子句中, 所以首先执行try\n",
    "2. 如果没有发生异常, 执行完try子句当中余下的语句, 忽略except子句\n",
    "3. 如果在执行try子句中发生了异常, 那么try子句余下的部分将被忽略. 如果异常的类型与except之后的名称相符, 那么对应的except子句会被执行\n",
    "4. 如果异常的类型与except之后的名称不相符, 那么依然会抛出别的异常"
   ],
   "metadata": {
    "collapsed": false
   }
  },
  {
   "cell_type": "code",
   "execution_count": 11,
   "outputs": [
    {
     "ename": "ValueError",
     "evalue": "invalid literal for int() with base 10: 'hello'",
     "output_type": "error",
     "traceback": [
      "\u001B[1;31m---------------------------------------------------------------------------\u001B[0m",
      "\u001B[1;31mValueError\u001B[0m                                Traceback (most recent call last)",
      "Cell \u001B[1;32mIn[11], line 4\u001B[0m\n\u001B[0;32m      2\u001B[0m s1 \u001B[38;5;241m=\u001B[39m \u001B[38;5;124m\"\u001B[39m\u001B[38;5;124mhello\u001B[39m\u001B[38;5;124m\"\u001B[39m\n\u001B[0;32m      3\u001B[0m \u001B[38;5;28;01mtry\u001B[39;00m:\n\u001B[1;32m----> 4\u001B[0m     \u001B[38;5;28;43mint\u001B[39;49m\u001B[43m(\u001B[49m\u001B[43ms1\u001B[49m\u001B[43m)\u001B[49m\n\u001B[0;32m      5\u001B[0m \u001B[38;5;28;01mexcept\u001B[39;00m \u001B[38;5;167;01mIndexError\u001B[39;00m \u001B[38;5;28;01mas\u001B[39;00m ex:\n\u001B[0;32m      6\u001B[0m     \u001B[38;5;28mprint\u001B[39m(ex)\n",
      "\u001B[1;31mValueError\u001B[0m: invalid literal for int() with base 10: 'hello'"
     ]
    }
   ],
   "source": [
    "\n",
    "# 未捕捉到异常, 程序直接报错\n",
    "s1 = \"hello\"\n",
    "try:\n",
    "    int(s1)\n",
    "except IndexError as ex:\n",
    "    print(ex)"
   ],
   "metadata": {
    "collapsed": false,
    "ExecuteTime": {
     "end_time": "2023-08-18T08:05:08.696820200Z",
     "start_time": "2023-08-18T08:05:08.662671900Z"
    }
   }
  },
  {
   "cell_type": "markdown",
   "source": [
    "5. 如果一个异常没有与任何的except匹配, 那么这个异常将会传递给上层的try. 如果直至程序最顶端如果还没有被捕获, 那么将弹出异常"
   ],
   "metadata": {
    "collapsed": false
   }
  },
  {
   "cell_type": "code",
   "execution_count": 12,
   "outputs": [
    {
     "name": "stdout",
     "output_type": "stream",
     "text": [
      "发生异常之前的语句正常执行\n",
      "里层没有抓好，只能辛苦我外层了\n"
     ]
    }
   ],
   "source": [
    "try:\n",
    "    try:\n",
    "        print(\"发生异常之前的语句正常执行\")\n",
    "        print(1/0)\n",
    "        print(\"发生异常之后的语句不会被执行\")\n",
    "    except ValueError as e:\n",
    "        print(e)\n",
    "\n",
    "except ZeroDivisionError as e:\n",
    "    print(\"里层没有抓好，只能辛苦我外层了\")"
   ],
   "metadata": {
    "collapsed": false,
    "ExecuteTime": {
     "end_time": "2023-08-18T08:05:09.558770100Z",
     "start_time": "2023-08-18T08:05:09.551710500Z"
    }
   }
  },
  {
   "cell_type": "markdown",
   "source": [
    "6. 可能包含多个except子句, 分别来处理不同的特定异常. 但只能由一个分支会被执行."
   ],
   "metadata": {
    "collapsed": false
   }
  },
  {
   "cell_type": "code",
   "execution_count": 13,
   "outputs": [
    {
     "name": "stdout",
     "output_type": "stream",
     "text": [
      "发生异常之前的语句正常执行\n",
      "我是第一个抓取到除零异常的\n"
     ]
    }
   ],
   "source": [
    "try:\n",
    "    print(\"发生异常之前的语句正常执行\")\n",
    "    print(1 / 0)\n",
    "    print('发生异常之后的语句不会被执行')\n",
    "except NameError as e:\n",
    "    print(e)\n",
    "except ZeroDivisionError as e:\n",
    "    print(\"我是第一个抓取到除零异常的\")\n",
    "except (ValueError, ZeroDivisionError) as e:\n",
    "    print(\"我是备胎\")"
   ],
   "metadata": {
    "collapsed": false,
    "ExecuteTime": {
     "end_time": "2023-08-18T08:13:16.299718200Z",
     "start_time": "2023-08-18T08:13:16.285988500Z"
    }
   }
  },
  {
   "cell_type": "markdown",
   "source": [
    "7. 一个except子句可以同时处理多个异常: `except (Runtime, TypeError, NameError) as e:`\n",
    "8. 最后一个except子句可以忽略异常的名称, 会被当作通配符使用, 也就是说匹配所有异常: `except: pass`"
   ],
   "metadata": {
    "collapsed": false
   }
  },
  {
   "cell_type": "markdown",
   "source": [
    "## finally和else子句"
   ],
   "metadata": {
    "collapsed": false
   }
  },
  {
   "cell_type": "markdown",
   "source": [
    "else子句必须放在所有的except子句之后. 这个子句将在try子句没有发生任何异常的时候执行"
   ],
   "metadata": {
    "collapsed": false
   }
  },
  {
   "cell_type": "code",
   "execution_count": 18,
   "outputs": [
    {
     "name": "stdout",
     "output_type": "stream",
     "text": [
      "4\n",
      "没问题了\n",
      "finally\n"
     ]
    }
   ],
   "source": [
    "try:\n",
    "    print(2 + 2)\n",
    "except Exception:\n",
    "    print(\"有问题\")\n",
    "else:\n",
    "    print(\"没问题了\")"
   ],
   "metadata": {
    "collapsed": false,
    "ExecuteTime": {
     "end_time": "2023-08-18T08:41:33.879111900Z",
     "start_time": "2023-08-18T08:41:33.865501700Z"
    }
   }
  },
  {
   "cell_type": "markdown",
   "source": [
    "无论try执行情况和except异常触发情况, finally子句都会被执行"
   ],
   "metadata": {
    "collapsed": false
   }
  },
  {
   "cell_type": "code",
   "execution_count": 17,
   "outputs": [
    {
     "name": "stdout",
     "output_type": "stream",
     "text": [
      "try...\n",
      "ValueError: invalid literal for int() with base 10: 'a'\n",
      "finally\n"
     ]
    }
   ],
   "source": [
    "try:\n",
    "    print(\"try...\")\n",
    "    r = 10 / int(\"a\")\n",
    "    print(\"result:\", r)\n",
    "except ValueError as ex:\n",
    "    print(\"ValueError:\", ex)\n",
    "finally:\n",
    "    print(\"finally\")"
   ],
   "metadata": {
    "collapsed": false,
    "ExecuteTime": {
     "end_time": "2023-08-18T08:41:26.898056900Z",
     "start_time": "2023-08-18T08:41:26.891618200Z"
    }
   }
  },
  {
   "cell_type": "markdown",
   "source": [
    "## 主动抛出异常"
   ],
   "metadata": {
    "collapsed": false
   }
  },
  {
   "cell_type": "markdown",
   "source": [
    "`raise`, 主动抛出异常, 唯一的一个参数指定了要被抛出的异常的实例. 如果什么参数都不给, 那么会默认抛出当前异常\n",
    "\n",
    "主动抛出异常的作用是, 记录错误信息, 然后将异常继续网上传递, 让上层去处理异常\n",
    "或者需要主动弹出异常, 作为警告或特殊处理"
   ],
   "metadata": {
    "collapsed": false
   }
  },
  {
   "cell_type": "code",
   "execution_count": 23,
   "outputs": [
    {
     "name": "stdout",
     "output_type": "stream",
     "text": [
      "好像有什么不符合常理的事情发生了！！\n",
      "这是个人妖！\n"
     ]
    }
   ],
   "source": [
    "sex = int(input(\"Please input a number: \"))\n",
    "\n",
    "try:\n",
    "    if sex == 1:\n",
    "        print(\"这是个男人！\")\n",
    "    elif sex == 0:\n",
    "        print(\"这是个女人！\")\n",
    "    else:\n",
    "        print(\"好像有什么不符合常理的事情发生了！！\")\n",
    "        raise ValueError(\"非法的输入\")\n",
    "except ValueError:\n",
    "    print(\"这是个人妖！\")"
   ],
   "metadata": {
    "collapsed": false,
    "ExecuteTime": {
     "end_time": "2023-08-18T08:57:43.117623700Z",
     "start_time": "2023-08-18T08:57:41.552355200Z"
    }
   }
  },
  {
   "cell_type": "markdown",
   "source": [
    "## 自定义异常"
   ],
   "metadata": {
    "collapsed": false
   }
  },
  {
   "cell_type": "markdown",
   "source": [
    "Python内置的异常类, 都是从`BaseException`类中派生出来的"
   ],
   "metadata": {
    "collapsed": false
   }
  },
  {
   "cell_type": "markdown",
   "source": [
    "| 异常名                 | 解释                       |\n",
    "|---------------------|--------------------------|\n",
    "| `AttributeError`    | 视图访问一个对象没有的属性            |\n",
    "| `IOError`           | 输入/输出异常                  |\n",
    "| `ImportError`       | 无法引入模块或包; 多是路径问题或名称错误    |\n",
    "| `IndentationError`  | 缩进错误                     |\n",
    "| `IndexError`        | 下标索引错误                   |\n",
    "| `KeyError`          | 访问不存在的键                  |\n",
    "| `KeyboardInterrupt` | 键盘终止输入                   |\n",
    "| `NameError`         | 使用未定义的变量                 |\n",
    "| `SyntaxError`       | 语法错误                     |\n",
    "| `TypeError`         | 传入对象的类型与要求的不符合           |\n",
    "| `UnbounLocalError`  | 访问一个还没被设置的局部变量           |\n",
    "| `ValueError`        | 传入一个调用者不期望的值, 即使值的类型是正确的 |\n",
    "| `OSError`            | 操作系统执行错误                 |"
   ],
   "metadata": {
    "collapsed": false
   }
  },
  {
   "cell_type": "code",
   "execution_count": 24,
   "outputs": [
    {
     "name": "stdout",
     "output_type": "stream",
     "text": [
      "异常!\n"
     ]
    }
   ],
   "source": [
    "# 自定义类, 继承自Exception类\n",
    "class MyException(Exception):\n",
    "    def __init__(self, msg):\n",
    "        self.message = msg\n",
    "    def __str__(self):\n",
    "        return self.message\n",
    "try:\n",
    "    raise MyException(\"异常!\")\n",
    "except MyException as e:\n",
    "    print(e)"
   ],
   "metadata": {
    "collapsed": false,
    "ExecuteTime": {
     "end_time": "2023-08-18T09:12:59.953524600Z",
     "start_time": "2023-08-18T09:12:59.939889500Z"
    }
   }
  },
  {
   "cell_type": "code",
   "execution_count": null,
   "outputs": [],
   "source": [],
   "metadata": {
    "collapsed": false
   }
  }
 ],
 "metadata": {
  "kernelspec": {
   "display_name": "Python 3",
   "language": "python",
   "name": "python3"
  },
  "language_info": {
   "codemirror_mode": {
    "name": "ipython",
    "version": 2
   },
   "file_extension": ".py",
   "mimetype": "text/x-python",
   "name": "python",
   "nbconvert_exporter": "python",
   "pygments_lexer": "ipython2",
   "version": "2.7.6"
  }
 },
 "nbformat": 4,
 "nbformat_minor": 0
}
