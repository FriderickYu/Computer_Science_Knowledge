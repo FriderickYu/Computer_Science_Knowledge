{
 "cells": [
  {
   "cell_type": "markdown",
   "source": [
    "# 数据类型"
   ],
   "metadata": {
    "collapsed": false
   }
  },
  {
   "cell_type": "markdown",
   "source": [
    "## 数字类型"
   ],
   "metadata": {
    "collapsed": false
   }
  },
  {
   "cell_type": "markdown",
   "source": [
    "数字类型是**不可变类型**, 一旦类型的值有所改变, 那就变成了全新的对象. 如下所示, 当`a = 2`时, a的地址发生了改变"
   ],
   "metadata": {
    "collapsed": false
   }
  },
  {
   "cell_type": "code",
   "execution_count": 132,
   "outputs": [
    {
     "name": "stdout",
     "output_type": "stream",
     "text": [
      "140736757302944\n",
      "140736757302976\n"
     ]
    }
   ],
   "source": [
    "a = 1\n",
    "print(id(a))\n",
    "a = 2\n",
    "print(id(a))"
   ],
   "metadata": {
    "collapsed": false,
    "ExecuteTime": {
     "end_time": "2023-07-23T06:36:03.289936600Z",
     "start_time": "2023-07-23T06:36:03.150195Z"
    }
   }
  },
  {
   "cell_type": "markdown",
   "source": [
    "### 整数"
   ],
   "metadata": {
    "collapsed": false
   }
  },
  {
   "cell_type": "markdown",
   "source": [
    "Python在初始化环境的时候就会在内存中自动划分一块空间, 专门用于整数对象的存取\n",
    "\n",
    "Python初始化的时候会自动建立了一个小**整数对象池**, 方便调用避免后期重复生成, 范围从-5~256. 比如说整数10, 即使没有被创建出来, Python其实在后台已经被创建出来了. 小整数对象池的作用就是, 平时会频繁使用这个范围的整数, 如果每需要一个就创建一个, 会增加很多开销\n",
    "\n",
    "还有一个**大整数对象池**, 范围就是除**小整数对象池**之外, Python提供了一块内存空间供大整数轮流使用. **大整数对象池**使用的是链表组织, 即使两个变量是相同的值, 但在链表中却是两个不同的节点, 所以实际上是两个对象\n",
    "\n",
    "Python还有整数缓冲区的概念, 刚被删除的整数不会被真正立刻删除回收, 而是会在后台缓冲一段时间, 等待下一次的可能调用"
   ],
   "metadata": {
    "collapsed": false
   }
  },
  {
   "cell_type": "code",
   "execution_count": 133,
   "outputs": [
    {
     "name": "stdout",
     "output_type": "stream",
     "text": [
      "True\n",
      "False\n"
     ]
    }
   ],
   "source": [
    "# 小整数对象池\n",
    "a = 256\n",
    "b = 256\n",
    "print(a is b)\n",
    "# 大整数对象池\n",
    "c = 257\n",
    "d = 257\n",
    "print(c is d)"
   ],
   "metadata": {
    "collapsed": false,
    "ExecuteTime": {
     "end_time": "2023-07-23T06:36:03.354836700Z",
     "start_time": "2023-07-23T06:36:03.162198400Z"
    }
   }
  },
  {
   "cell_type": "code",
   "execution_count": 134,
   "outputs": [
    {
     "name": "stdout",
     "output_type": "stream",
     "text": [
      "2\n",
      "10.0\n",
      "(5+0j)\n",
      "(5+6j)\n"
     ]
    }
   ],
   "source": [
    "# 数字类型转换\n",
    "x = 2.23\n",
    "y = 10\n",
    "z = 5\n",
    "z2 = 6\n",
    "# int(x): 将x转换为一个整数, 如果x是一个浮点数, 则截取小数部分\n",
    "print(int(x))\n",
    "# float(x): 将y转换为一个浮点数\n",
    "print(float(y))\n",
    "# complex(x): 将x转换为一个复数, 实数部分为x, 虚数部分为0\n",
    "print(complex(z))\n",
    "# complex(x, y): 将x和y转换到一个复数, 实数部分为x, 虚数部分为y\n",
    "print(complex(z, z2))"
   ],
   "metadata": {
    "collapsed": false,
    "ExecuteTime": {
     "end_time": "2023-07-23T06:36:03.363524900Z",
     "start_time": "2023-07-23T06:36:03.178790600Z"
    }
   }
  },
  {
   "cell_type": "markdown",
   "source": [
    "### 布尔类型"
   ],
   "metadata": {
    "collapsed": false
   }
  },
  {
   "cell_type": "markdown",
   "source": [
    "最简单的就是`True`和`False`, 常用的`bool()`进行判断, 比较特殊的是`None`, `None`不是布尔类型, 而是`NoneType`"
   ],
   "metadata": {
    "collapsed": false
   }
  },
  {
   "cell_type": "markdown",
   "source": [
    "### 序列"
   ],
   "metadata": {
    "collapsed": false
   }
  },
  {
   "cell_type": "markdown",
   "source": [
    "Python的序列包含:\n",
    "* 字符串\n",
    "* 列表\n",
    "* 元组\n",
    "* 字典\n",
    "* 集合"
   ],
   "metadata": {
    "collapsed": false
   }
  },
  {
   "cell_type": "markdown",
   "source": [
    "#### 列表"
   ],
   "metadata": {
    "collapsed": false
   }
  },
  {
   "cell_type": "markdown",
   "source": [
    "其实就是数组, 索引为key, 元素为value. Python的列表是一个*有序可重复*的元素集合, 可以进行嵌套, 迭代, 修改, 分片, 追加, 删除, 成员判断\n",
    "\n",
    "从数据结构上看, Python的列表是一个可变长度的*顺序存储结构*, 每一个块内存储的实际上是指针\n",
    "\n",
    "`alist = [1, \"a\", [11, 22], {\"k1\" : \"v1\"}]`\n",
    "\n",
    "![list.png](image/list.png)\n",
    "\n",
    "alist[0]的值确实是1, 但在内存中存储的实际上是一个指针, 指针指向存储数字1的内存空间"
   ],
   "metadata": {
    "collapsed": false
   }
  },
  {
   "cell_type": "markdown",
   "source": [
    "##### 列表的基本操作"
   ],
   "metadata": {
    "collapsed": false
   }
  },
  {
   "cell_type": "code",
   "execution_count": 135,
   "outputs": [
    {
     "name": "stdout",
     "output_type": "stream",
     "text": [
      "b\n",
      "['d', 'b', 'c']\n",
      "删除list2[0]:  ['b', 'c']\n",
      "删除元素b:  ['c']\n",
      "弹出栈顶元素:  []\n",
      "[1, 2, 3, 4, 5, 6]\n",
      "[1, 1, 1, 1]\n"
     ]
    }
   ],
   "source": [
    "# 创建, 可以多层嵌套, 列表内的元素可以是不同类型\n",
    "list1 = [1, 2, 3]\n",
    "list1 = [1, \"a\", [11, 22], {\"k1\" : \"v1\"}]\n",
    "list1 = [1, 2, [3, 4]]\n",
    "\n",
    "# 访问, 直接通过索引来访问元素\n",
    "list2 = [\"a\", \"b\", \"c\"]\n",
    "print(list2[1])\n",
    "# 修改, 直接重新赋值即可\n",
    "list2[0] = \"d\"\n",
    "print(list2)\n",
    "# 删除元素\n",
    "# del\n",
    "del list2[0]\n",
    "print(\"删除list2[0]: \", list2)\n",
    "# 删除指定元素, remove(element)\n",
    "list2.remove(\"b\")\n",
    "print(\"删除元素b: \", list2)\n",
    "# 通过弹出栈顶元素的方式删除元素\n",
    "list2.pop()\n",
    "print(\"弹出栈顶元素: \", list2)\n",
    "\n",
    "# 合并两个列表\n",
    "l1 = [1, 2, 3]\n",
    "l2 = [4, 5, 6]\n",
    "print(l1 + l2)\n",
    "# 列表的元素重复出现\n",
    "print([1] * 4)\n"
   ],
   "metadata": {
    "collapsed": false,
    "ExecuteTime": {
     "end_time": "2023-07-23T06:36:03.363524900Z",
     "start_time": "2023-07-23T06:36:03.195204600Z"
    }
   }
  },
  {
   "cell_type": "code",
   "execution_count": 136,
   "outputs": [
    {
     "name": "stdout",
     "output_type": "stream",
     "text": [
      "5\n",
      "25\n",
      "1\n",
      "[1, 'a', 'b', 2]\n"
     ]
    }
   ],
   "source": [
    "s = [1, 4, 9, 16, 25]\n",
    "# 返回列表元素个数\n",
    "print(len(s))\n",
    "# 返回列表元素最大值\n",
    "print(max(s))\n",
    "# 返回列表元素最小值\n",
    "print(min(s))\n",
    "# 将其他类型的序列转换成列表\n",
    "s2 = (1, \"a\", \"b\", 2)\n",
    "print(list(s2))"
   ],
   "metadata": {
    "collapsed": false,
    "ExecuteTime": {
     "end_time": "2023-07-23T06:36:03.363524900Z",
     "start_time": "2023-07-23T06:36:03.211798600Z"
    }
   }
  },
  {
   "cell_type": "markdown",
   "source": [
    "##### 切片"
   ],
   "metadata": {
    "collapsed": false
   }
  },
  {
   "cell_type": "markdown",
   "source": [
    "切片的语法: `list[start : end]`, 其中省略start表示以0开始, 省略end表示到列表的结尾, 范围区间为左闭右开\n",
    "\n",
    "切片并不会影响原来的列表, 而是将切片下来的结果保存到新的变量中; 如果提供的是负数下标, 则从列表的最后开始往头部查找, 例如-1表示最后一个元素, -3表示倒数第三个元素\n",
    "\n",
    "切片过程也可以设置步长, 例如`list[3:9:2]`, 从3~8, 步长为2"
   ],
   "metadata": {
    "collapsed": false
   }
  },
  {
   "cell_type": "code",
   "execution_count": 137,
   "outputs": [
    {
     "name": "stdout",
     "output_type": "stream",
     "text": [
      "[4, 5, 6]\n",
      "从头到第六个元素:  [1, 2, 3, 4, 5, 6, 7]\n",
      "从第二个元素到最后:  [3, 4, 5, 6, 7, 8, 9, 10]\n",
      "从头到尾:  [1, 2, 3, 4, 5, 6, 7, 8, 9, 10]\n",
      "取最后一个元素:  10\n",
      "取倒数第三个元素:  8\n",
      "从倒数第五个元素到最后一个元素:  [6, 7, 8, 9, 10]\n",
      "从第一个元素到第八个元素, 步长为2:  [2, 4, 6, 8]\n"
     ]
    }
   ],
   "source": [
    "a = [1, 2, 3, 4, 5, 6, 7, 8, 9, 10]\n",
    "print(a[3 : 6])\n",
    "# 从头到第六个元素\n",
    "print(\"从头到第六个元素: \", a[:7])\n",
    "# 从第二个元素到最后\n",
    "print(\"从第二个元素到最后: \", a[2:])\n",
    "# 从头到尾\n",
    "print(\"从头到尾: \", a[:])\n",
    "# 取最后一个元素\n",
    "print(\"取最后一个元素: \", a[-1])\n",
    "# 取倒数第三个元素\n",
    "print(\"取倒数第三个元素: \", a[-3])\n",
    "# 从倒数第五个元素到最后一个元素\n",
    "print(\"从倒数第五个元素到最后一个元素: \", a[-5:])\n",
    "# 从第一个元素到第八个元素, 步长为2\n",
    "print(\"从第一个元素到第八个元素, 步长为2: \", a[1:8:2])"
   ],
   "metadata": {
    "collapsed": false,
    "ExecuteTime": {
     "end_time": "2023-07-23T06:36:03.363524900Z",
     "start_time": "2023-07-23T06:36:03.225891400Z"
    }
   }
  },
  {
   "cell_type": "code",
   "execution_count": 138,
   "outputs": [
    {
     "name": "stdout",
     "output_type": "stream",
     "text": [
      "2\n",
      "v1\n"
     ]
    }
   ],
   "source": [
    "# 多维列表\n",
    "a = [[1, 2, 3], [4, 5, 6], [7, 8, 9]]\n",
    "print(a[0][1])\n",
    "b = [[1,2,3],[4,5,6],[7,8,9],{\"k1\":\"v1\"}]\n",
    "print(b[3][\"k1\"])"
   ],
   "metadata": {
    "collapsed": false,
    "ExecuteTime": {
     "end_time": "2023-07-23T06:36:03.363524900Z",
     "start_time": "2023-07-23T06:36:03.239047900Z"
    }
   }
  },
  {
   "cell_type": "code",
   "execution_count": 139,
   "outputs": [
    {
     "name": "stdout",
     "output_type": "stream",
     "text": [
      "1\n",
      "2\n",
      "3\n",
      "4\n",
      "5\n",
      "6\n",
      "0 1\n",
      "1 2\n",
      "2 3\n",
      "3 4\n",
      "4 5\n",
      "5 6\n"
     ]
    }
   ],
   "source": [
    "# 列表的遍历\n",
    "a = [1, 2, 3, 4, 5, 6]\n",
    "# 遍历每一个元素\n",
    "for i in a:\n",
    "    print(i)\n",
    "\n",
    "# 遍历列表的下表, 通过下标取值\n",
    "# range()也是左闭右开, 返回的是一个可迭代对象\n",
    "for i in range(len(a)):\n",
    "    print(i, a[i])"
   ],
   "metadata": {
    "collapsed": false,
    "ExecuteTime": {
     "end_time": "2023-07-23T06:36:03.363524900Z",
     "start_time": "2023-07-23T06:36:03.253794Z"
    }
   }
  },
  {
   "cell_type": "markdown",
   "source": [
    "##### 列表的内置"
   ],
   "metadata": {
    "collapsed": false
   }
  },
  {
   "cell_type": "code",
   "execution_count": 140,
   "outputs": [
    {
     "name": "stdout",
     "output_type": "stream",
     "text": [
      "['a', 'b', 'c', 'd', 'A']\n",
      "a在列表list1出现的次数:  1\n",
      "['a', 'b', 'c', 'd', 'A', 'a', 'b']\n",
      "a在list1第一次出现的索引:  0\n",
      "['a', 'b', 'c', 'E', 'd', 'A', 'a', 'b']\n",
      "b\n",
      "d\n",
      "['a', 'b', 'c', 'E', 'A', 'a']\n",
      "['a', 'A', 'E', 'c', 'b', 'a']\n",
      "['a', 'A', 'E', 'c', 'b', 'a']\n",
      "[]\n"
     ]
    }
   ],
   "source": [
    "list1 = [\"a\", \"b\", \"c\", \"d\"]\n",
    "# 在列表末尾添加新的对象\n",
    "list1.append(\"A\")\n",
    "print(list1)\n",
    "# 统计某一元素在列表出现的频率次数\n",
    "appearance1 = list1.count(\"a\")\n",
    "print(\"a在列表list1出现的次数: \", appearance1)\n",
    "# 在列表末尾一次性追加另一个列表的多个值\n",
    "list1.extend([\"a\", \"b\"])\n",
    "print(list1)\n",
    "# 在列表中找出某个值第一个匹配项的索引位置\n",
    "appearance2 = list1.index(\"a\")\n",
    "print(\"a在list1第一次出现的索引: \", appearance2)\n",
    "# 将某对象按照指定索引位置插入列表, 原索引及其后面的元素依次后移一位\n",
    "list1.insert(3, \"E\")\n",
    "print(list1)\n",
    "# 移除列表中某一元素(默认是最后一个), 并返回该元素的值\n",
    "print(list1.pop())\n",
    "print(list1.pop(4))\n",
    "print(list1)\n",
    "# 反转列表\n",
    "list1.reverse()\n",
    "print(list1)\n",
    "# 复制列表(浅拷贝)\n",
    "newlist1 = list1.copy()\n",
    "print(newlist1)\n",
    "# 清空列表, 只清空列表内容, 但还是在内存当中存在该列表\n",
    "# 如果想要在内存当中直接清楚该列表, 使用del\n",
    "newlist1.clear()\n",
    "print(newlist1)"
   ],
   "metadata": {
    "collapsed": false,
    "ExecuteTime": {
     "end_time": "2023-07-23T06:36:03.371974Z",
     "start_time": "2023-07-23T06:36:03.270263700Z"
    }
   }
  },
  {
   "cell_type": "markdown",
   "source": [
    "##### 列表的堆栈和队列用法"
   ],
   "metadata": {
    "collapsed": false
   }
  },
  {
   "cell_type": "markdown",
   "source": [
    "堆栈先进后出, 所以以表头为栈底, 表尾为栈顶\n",
    "\n",
    "列表实现队列的效率并不是很高, 通常使用`queue.Queue`作为单项队列, 使用`collections.deque`作为双向队列"
   ],
   "metadata": {
    "collapsed": false
   }
  },
  {
   "cell_type": "code",
   "execution_count": 141,
   "outputs": [
    {
     "name": "stdout",
     "output_type": "stream",
     "text": [
      "[3, 4, 5, 6, 7]\n",
      "[3, 4, 5, 6]\n"
     ]
    }
   ],
   "source": [
    "# 模拟堆栈的出栈和入栈\n",
    "stack = [3, 4, 5]\n",
    "stack.append(6)\n",
    "stack.append(7)\n",
    "print(stack)\n",
    "stack.pop()\n",
    "print(stack)"
   ],
   "metadata": {
    "collapsed": false,
    "ExecuteTime": {
     "end_time": "2023-07-23T06:36:03.371974Z",
     "start_time": "2023-07-23T06:36:03.281927200Z"
    }
   }
  },
  {
   "cell_type": "markdown",
   "source": [
    "#### 元组"
   ],
   "metadata": {
    "collapsed": false
   }
  },
  {
   "cell_type": "markdown",
   "source": [
    "元组与列表不同, 使用的是(), 而非列表的[]; 元组是一种*不可变序列*, 内容不可被改变"
   ],
   "metadata": {
    "collapsed": false
   }
  },
  {
   "cell_type": "code",
   "execution_count": 142,
   "outputs": [
    {
     "name": "stdout",
     "output_type": "stream",
     "text": [
      "('physical', 'chemistry', 1997, 2000)\n",
      "(1, 2, 3, 4, 5)\n",
      "3\n"
     ]
    },
    {
     "ename": "TypeError",
     "evalue": "'tuple' object does not support item assignment",
     "output_type": "error",
     "traceback": [
      "\u001B[1;31m---------------------------------------------------------------------------\u001B[0m",
      "\u001B[1;31mTypeError\u001B[0m                                 Traceback (most recent call last)",
      "Cell \u001B[1;32mIn[142], line 10\u001B[0m\n\u001B[0;32m      8\u001B[0m \u001B[38;5;28mprint\u001B[39m(tup2)\n\u001B[0;32m      9\u001B[0m \u001B[38;5;28mprint\u001B[39m(tup[\u001B[38;5;241m2\u001B[39m])\n\u001B[1;32m---> 10\u001B[0m \u001B[43mtup\u001B[49m\u001B[43m[\u001B[49m\u001B[38;5;241;43m3\u001B[39;49m\u001B[43m]\u001B[49m \u001B[38;5;241m=\u001B[39m \u001B[38;5;124m\"\u001B[39m\u001B[38;5;124ma\u001B[39m\u001B[38;5;124m\"\u001B[39m\n\u001B[0;32m     11\u001B[0m \u001B[38;5;28mprint\u001B[39m(tup)\n",
      "\u001B[1;31mTypeError\u001B[0m: 'tuple' object does not support item assignment"
     ]
    }
   ],
   "source": [
    "tup1 = ()\n",
    "# 创建只含有一个元素的元组时, 要在元素的后面加上逗号\n",
    "tup1 = (50, )\n",
    "tup1 = (\"physical\", \"chemistry\", 1997, 2000)\n",
    "tup2 = (1, 2, 3, 4, 5)\n",
    "tup = (1, 2, 3, 4)\n",
    "print(tup1)\n",
    "print(tup2)\n",
    "print(tup[2])\n",
    "tup[3] = \"a\"\n",
    "print(tup)"
   ],
   "metadata": {
    "collapsed": false,
    "ExecuteTime": {
     "end_time": "2023-07-23T06:36:03.371974Z",
     "start_time": "2023-07-23T06:36:03.298071900Z"
    }
   }
  },
  {
   "cell_type": "markdown",
   "source": [
    "不可变的特性很适合存储那些不能被修改的数据, 例如主机地址和端口号, 两者捆绑在一起, 不允许被修改\n",
    "\n",
    "但元组的不可变性只能保证其一级子元素不可变, 对于嵌套的元素内部, 不保证不可变"
   ],
   "metadata": {
    "collapsed": false
   }
  },
  {
   "cell_type": "code",
   "execution_count": null,
   "outputs": [],
   "source": [
    "tup = (\"a\", \"b\", [\"A\", \"B\"])\n",
    "tup[2][0] = \"X\"\n",
    "tup[2][1] = \"Y\"\n",
    "print(tup)"
   ],
   "metadata": {
    "collapsed": false,
    "ExecuteTime": {
     "start_time": "2023-07-23T06:36:03.310316500Z"
    }
   }
  },
  {
   "cell_type": "markdown",
   "source": [
    "所以在使用元组的时候尽量使用数字, 字符串和元组这种不可变的数据类型作为元组的元素, 如果使用列表作为元组的元素, 其实还是能被修改的"
   ],
   "metadata": {
    "collapsed": false
   }
  },
  {
   "cell_type": "markdown",
   "source": [
    "#### 字符串"
   ],
   "metadata": {
    "collapsed": false
   }
  },
  {
   "cell_type": "markdown",
   "source": [
    "字符串是**不可变**的序列数据类型, 不过虽然不可变, 但是列表中其他比如索引切片等等操作都可以实现"
   ],
   "metadata": {
    "collapsed": false
   }
  },
  {
   "cell_type": "code",
   "execution_count": 1,
   "outputs": [
    {
     "name": "stdout",
     "output_type": "stream",
     "text": [
      "Hello World\n",
      "e\n"
     ]
    },
    {
     "data": {
      "text/plain": "'Hello'"
     },
     "execution_count": 1,
     "metadata": {},
     "output_type": "execute_result"
    }
   ],
   "source": [
    "# 和Java相同, 可以使用+拼接字符串, 同样的不建议使用\n",
    "a = \"Hello\"\n",
    "b = \" World\"\n",
    "print(a + b)\n",
    "print(a[1])\n",
    "a.capitalize()"
   ],
   "metadata": {
    "collapsed": false,
    "ExecuteTime": {
     "end_time": "2023-10-25T03:08:56.638943900Z",
     "start_time": "2023-10-25T03:08:56.620506100Z"
    }
   }
  },
  {
   "cell_type": "markdown",
   "source": [
    "[字符串常用的内置方法](https://docs.python.org/zh-cn/3.8/library/stdtypes.html#string-methods)"
   ],
   "metadata": {
    "collapsed": false
   }
  },
  {
   "cell_type": "markdown",
   "source": [
    "#### 字典"
   ],
   "metadata": {
    "collapsed": false
   }
  },
  {
   "cell_type": "markdown",
   "source": [
    "字典的查询和插入操作比较快, 其中字典的value可以是任何数据类型, 但是字典的key必须是不可变对象, 例如整数, 字符串, bytes和元组; 实际应用中使用字符串作为key的情况更多一些\n",
    "\n",
    "从Python 3.6开始, 字典要是有序的, 顺序会保持元素插入时的先后顺序\n",
    "\n",
    "字典是**不定长, 可变, 散列**的集合类型, 字典元素在内存中的存储方式是**不连续**的"
   ],
   "metadata": {
    "collapsed": false
   }
  },
  {
   "cell_type": "markdown",
   "source": [
    "##### 创建字典"
   ],
   "metadata": {
    "collapsed": false
   }
  },
  {
   "cell_type": "code",
   "execution_count": 144,
   "outputs": [
    {
     "data": {
      "text/plain": "{'Alice': '2341', 'Beth': '9102', 'Cecil': '3258'}"
     },
     "execution_count": 144,
     "metadata": {},
     "output_type": "execute_result"
    }
   ],
   "source": [
    "dic = {\"Alice\" : \"2341\", \"Beth\" : \"9102\", \"Cecil\" : \"3258\"}\n",
    "dic"
   ],
   "metadata": {
    "collapsed": false,
    "ExecuteTime": {
     "end_time": "2023-07-23T06:37:02.346601200Z",
     "start_time": "2023-07-23T06:37:02.340962700Z"
    }
   }
  },
  {
   "cell_type": "code",
   "execution_count": 145,
   "outputs": [
    {
     "data": {
      "text/plain": "{'sape': 4139, 'guido': 4127, 'jack': 4098}"
     },
     "execution_count": 145,
     "metadata": {},
     "output_type": "execute_result"
    }
   ],
   "source": [
    "dict([(\"sape\", 4139), (\"guido\", 4127), (\"jack\", 4098)])"
   ],
   "metadata": {
    "collapsed": false,
    "ExecuteTime": {
     "end_time": "2023-07-23T06:37:35.679733300Z",
     "start_time": "2023-07-23T06:37:35.651124700Z"
    }
   }
  },
  {
   "cell_type": "code",
   "execution_count": 146,
   "outputs": [
    {
     "data": {
      "text/plain": "{'sape': 4139, 'guido': 4127, 'jack': 4098}"
     },
     "execution_count": 146,
     "metadata": {},
     "output_type": "execute_result"
    }
   ],
   "source": [
    "dict(sape = 4139, guido = 4127, jack = 4098)"
   ],
   "metadata": {
    "collapsed": false,
    "ExecuteTime": {
     "end_time": "2023-07-23T06:37:56.590944300Z",
     "start_time": "2023-07-23T06:37:56.574113500Z"
    }
   }
  },
  {
   "cell_type": "markdown",
   "source": [
    "##### 访问字典"
   ],
   "metadata": {
    "collapsed": false
   }
  },
  {
   "cell_type": "code",
   "execution_count": 148,
   "outputs": [
    {
     "name": "stdout",
     "output_type": "stream",
     "text": [
      "dic['Name']:  Jack\n",
      "dic['Age']:  7\n"
     ]
    }
   ],
   "source": [
    "# 字典没有切片这个说法, 一般通过访问key的方式获取value\n",
    "dic = {'Name': 'Jack','Age': 7, 'Class': 'First'}\n",
    "print(\"dic['Name']: \",dic[\"Name\"])\n",
    "print(\"dic['Age']: \", dic[\"Age\"])\n",
    "# 如果访问的key不存在, 则抛出异常"
   ],
   "metadata": {
    "collapsed": false,
    "ExecuteTime": {
     "end_time": "2023-07-23T07:58:23.606421200Z",
     "start_time": "2023-07-23T07:58:23.600750800Z"
    }
   }
  },
  {
   "cell_type": "markdown",
   "source": [
    "##### 增删改"
   ],
   "metadata": {
    "collapsed": false
   }
  },
  {
   "cell_type": "code",
   "execution_count": 156,
   "outputs": [
    {
     "name": "stdout",
     "output_type": "stream",
     "text": [
      "{'Name': 'Jack', 'Age': 7, 'Class': 'First', 'address': 'shanghai'}\n",
      "{'Name': 'Jack', 'Age': 18, 'Class': 'First', 'address': 'Beijing'}\n",
      "字典内键值对个数为: 4\n"
     ]
    }
   ],
   "source": [
    "# 增加新的键值对\n",
    "dic = {'Name': 'Jack','Age': 7, 'Class': 'First'}\n",
    "dic[\"address\"] = \"shanghai\"\n",
    "print(dic)\n",
    "# 修改已存在的键值对\n",
    "dic[\"address\"] = \"Beijing\"\n",
    "dic[\"Age\"] = 18\n",
    "print(dic)\n",
    "# 统计字典内的键值对个数\n",
    "print(\"字典内键值对个数为: %d\" % len(dic))\n"
   ],
   "metadata": {
    "collapsed": false,
    "ExecuteTime": {
     "end_time": "2023-07-23T08:06:02.584208Z",
     "start_time": "2023-07-23T08:06:02.551709500Z"
    }
   }
  },
  {
   "cell_type": "code",
   "execution_count": 161,
   "outputs": [
    {
     "name": "stdout",
     "output_type": "stream",
     "text": [
      "{'Age': '20', 'Class': 'First', 'Sex': 'male'}\n",
      "First\n",
      "{'Age': '20', 'Sex': 'male'}\n",
      "{}\n"
     ]
    }
   ],
   "source": [
    "dic1 = {\"Name\": \"Jack\", \"Age\": \"20\", \"Class\": \"First\", \"Sex\": \"male\"}\n",
    "# 删除字典元素\n",
    "del dic1[\"Name\"]\n",
    "print(dic1)\n",
    "# 删除字典元素, 其实是弹出指定的键值对, 并返回要删除的value\n",
    "a = dic1.pop(\"Class\")\n",
    "print(a)\n",
    "print(dic1)\n",
    "# 清空字典, 清空里面的全部的内容, 但字典还是存在的\n",
    "dic1.clear()\n",
    "print(dic1)\n",
    "# 删除字典本身, 包括内容, 结构和所占有的内容\n",
    "del dic1"
   ],
   "metadata": {
    "collapsed": false,
    "ExecuteTime": {
     "end_time": "2023-07-23T08:14:16.721895600Z",
     "start_time": "2023-07-23T08:14:16.695384200Z"
    }
   }
  },
  {
   "cell_type": "markdown",
   "source": [
    "##### 遍历字典"
   ],
   "metadata": {
    "collapsed": false
   }
  },
  {
   "cell_type": "code",
   "execution_count": 169,
   "outputs": [
    {
     "name": "stdout",
     "output_type": "stream",
     "text": [
      "Name Jack\n",
      "Age 7\n",
      "Class First\n",
      "\n",
      "\n",
      "Name Jack\n",
      "Age 7\n",
      "Class First\n",
      "\n",
      "\n",
      "Name Jack\n",
      "Age 7\n",
      "Class First\n",
      "\n",
      "\n",
      "Jack\n",
      "7\n",
      "First\n"
     ]
    }
   ],
   "source": [
    "dic = {'Name': 'Jack', 'Age': 7, 'Class': 'First'}\n",
    "\n",
    "# 直接通过key来获取value\n",
    "for key in dic:\n",
    "    print(key, dic[key])\n",
    "print(\"\\n\")\n",
    "\n",
    "# 利用items获取键值对元组(key, value)\n",
    "for key, value in dic.items():\n",
    "    print(key, value)\n",
    "print(\"\\n\")\n",
    "\n",
    "# 通过keys方法来获取键\n",
    "for key in dic.keys():\n",
    "    print(key, dic[key])\n",
    "print(\"\\n\")\n",
    "\n",
    "# 通过values方法获取值, 但无法获取对应的key\n",
    "for value in dic.values():\n",
    "    print(value)"
   ],
   "metadata": {
    "collapsed": false,
    "ExecuteTime": {
     "end_time": "2023-07-23T08:28:09.614108900Z",
     "start_time": "2023-07-23T08:28:09.598307700Z"
    }
   }
  },
  {
   "cell_type": "markdown",
   "source": [
    "#### 集合set"
   ],
   "metadata": {
    "collapsed": false
   }
  },
  {
   "cell_type": "markdown",
   "source": [
    "set集合是一个**无序不重复**的元素集, 使用的是{}, 如果要创建的一个空集合, 必须使用`set()`, 使用的是{}创建的其实是一个空字典; 集合的核心在于**自动去重**"
   ],
   "metadata": {
    "collapsed": false
   }
  },
  {
   "cell_type": "code",
   "execution_count": 176,
   "outputs": [
    {
     "name": "stdout",
     "output_type": "stream",
     "text": [
      "{1, 2, 3, 4}\n",
      "{'i', 'n', ' ', 'd', 'y', 't', 'c', 's', 'a', 'e'}\n"
     ]
    }
   ],
   "source": [
    "# 创建set集合\n",
    "# 也可以使用 s = set([1, 1, 2, 3, 3, 4])\n",
    "s = {1, 1, 2, 3, 3, 4}\n",
    "print(s)\n",
    "s1 = set(\"it is a nice day\")\n",
    "print(s1)"
   ],
   "metadata": {
    "collapsed": false,
    "ExecuteTime": {
     "end_time": "2023-07-23T08:51:37.286448700Z",
     "start_time": "2023-07-23T08:51:37.280640100Z"
    }
   }
  },
  {
   "cell_type": "code",
   "execution_count": 183,
   "outputs": [
    {
     "name": "stdout",
     "output_type": "stream",
     "text": [
      "{1, 2, 3, 4, 5}\n",
      "{1, 2, 3, 4, 5}\n",
      "{1, 2, 3, 4, 5, 'l', 'o', 'h', 'e'}\n",
      "{1, 2, 3, 4, 5, 'o', 'h', 'e'}\n",
      "1\n",
      "{2, 3, 4, 5, 'o', 'h', 'e'}\n"
     ]
    }
   ],
   "source": [
    "# 添加元素到set, 可以添加重复的元素, 但不会有效\n",
    "s = {1, 2, 3, 4}\n",
    "s.add(5)\n",
    "print(s)\n",
    "s.add(5)\n",
    "print(s)\n",
    "# 将另一个对象更新到已有的集合中, 同样会进行去重\n",
    "s.update(\"hello\")\n",
    "print(s)\n",
    "# 删除指定元素\n",
    "# remove()方法\n",
    "s.remove(\"l\")\n",
    "print(s)\n",
    "# pop()方法, 无法设置参数, 所以无法删除指定的元素\n",
    "# 弹出第一个元素\n",
    "print(s.pop())\n",
    "print(s)"
   ],
   "metadata": {
    "collapsed": false,
    "ExecuteTime": {
     "end_time": "2023-07-23T08:54:55.236691100Z",
     "start_time": "2023-07-23T08:54:55.212656300Z"
    }
   }
  },
  {
   "cell_type": "markdown",
   "source": [
    "set集合既不支持下标索引, 也不支持字典那样通过key获取value\n",
    "\n",
    "set集合可以进行交并差集操作"
   ],
   "metadata": {
    "collapsed": false
   }
  },
  {
   "cell_type": "code",
   "execution_count": 189,
   "outputs": [
    {
     "name": "stdout",
     "output_type": "stream",
     "text": [
      "{'orange', 'banana', 'apple', 'pear'}\n",
      "True\n",
      "{'b', 'r', 'd'}\n",
      "{'d', 'l', 'm', 'c', 'r', 'z', 'a', 'b'}\n",
      "{'a', 'c'}\n",
      "{'r', 'd', 'l', 'z', 'm', 'b'}\n"
     ]
    }
   ],
   "source": [
    "basket = {\"apple\", \"orange\", \"apple\", \"pear\", \"orange\", \"banana\"}\n",
    "print(basket)\n",
    "\n",
    "# 检测成员\n",
    "print(\"orange\" in basket)\n",
    "\n",
    "a = set('abracadabra')\n",
    "b = set('alacazam')\n",
    "\n",
    "# -可以进行差集计算\n",
    "# 在a中的字母, 但不在b中\n",
    "print(a - b)\n",
    "# 在a或b中的字母\n",
    "print(a | b)\n",
    "# 在a和b中的字母\n",
    "print(a & b)\n",
    "# 在a或b中的字母, 但不同时在a和b中\n",
    "print(a ^ b)"
   ],
   "metadata": {
    "collapsed": false,
    "ExecuteTime": {
     "end_time": "2023-07-23T09:06:04.558934400Z",
     "start_time": "2023-07-23T09:06:04.540939300Z"
    }
   }
  },
  {
   "cell_type": "code",
   "execution_count": null,
   "outputs": [],
   "source": [],
   "metadata": {
    "collapsed": false
   }
  }
 ],
 "metadata": {
  "kernelspec": {
   "display_name": "Python 3",
   "language": "python",
   "name": "python3"
  },
  "language_info": {
   "codemirror_mode": {
    "name": "ipython",
    "version": 2
   },
   "file_extension": ".py",
   "mimetype": "text/x-python",
   "name": "python",
   "nbconvert_exporter": "python",
   "pygments_lexer": "ipython2",
   "version": "2.7.6"
  }
 },
 "nbformat": 4,
 "nbformat_minor": 0
}
