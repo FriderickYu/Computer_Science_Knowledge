{
 "cells": [
  {
   "cell_type": "markdown",
   "source": [
    "# 函数"
   ],
   "metadata": {
    "collapsed": false
   }
  },
  {
   "cell_type": "markdown",
   "source": [
    "## 传参"
   ],
   "metadata": {
    "collapsed": false
   }
  },
  {
   "cell_type": "code",
   "execution_count": 4,
   "outputs": [
    {
     "name": "stdout",
     "output_type": "stream",
     "text": [
      "调用函数之前, 变量a的内存地址为: 140723642762912\n",
      "在函数内部修改之前, 变量a的内存地址为: 140723642762912\n",
      "在函数内部修改之后, 变量a的内存地址为: 140723642762944\n",
      "函数内部的b为: 2\n",
      "函数外部的a为: 1\n"
     ]
    }
   ],
   "source": [
    "a = 1\n",
    "def func(a):\n",
    "    print(\"在函数内部修改之前, 变量a的内存地址为: %s\" % id(a))\n",
    "    a = 2\n",
    "    print(\"在函数内部修改之后, 变量a的内存地址为: %s\" % id(a))\n",
    "    print(\"函数内部的b为: %s\" % a)\n",
    "print(\"调用函数之前, 变量a的内存地址为: %s\" %id(a))\n",
    "func(a)\n",
    "print(\"函数外部的a为: %s\" % a)"
   ],
   "metadata": {
    "collapsed": false,
    "ExecuteTime": {
     "end_time": "2023-08-09T02:25:17.418238800Z",
     "start_time": "2023-08-09T02:25:17.406988Z"
    }
   }
  },
  {
   "cell_type": "markdown",
   "source": [
    "不可变参数用的是**值传递**, 通过拷贝来实现"
   ],
   "metadata": {
    "collapsed": false
   }
  },
  {
   "cell_type": "code",
   "execution_count": 5,
   "outputs": [
    {
     "name": "stdout",
     "output_type": "stream",
     "text": [
      "调用函数之前, 变量a的内存地址为: 1901689301184\n",
      "在函数内部修改之前, 变量a的内存地址为: 1901689301184\n",
      "在函数内部修改之后, 变量b的内存地址为: 1901689301184\n",
      "函数内部的b为: [1, 2, 3, 4]\n",
      "函数外部的a为: [1, 2, 3, 4]\n"
     ]
    }
   ],
   "source": [
    "a = [1, 2, 3]\n",
    "def func(a):\n",
    "    print(\"在函数内部修改之前, 变量a的内存地址为: %s\" % id(a))\n",
    "    a.append(4)\n",
    "    print(\"在函数内部修改之后, 变量b的内存地址为: %s\" % id(a))\n",
    "    print(\"函数内部的b为: %s\" % a)\n",
    "print(\"调用函数之前, 变量a的内存地址为: %s\" %id(a))\n",
    "func(a)\n",
    "print(\"函数外部的a为: %s\" % a)"
   ],
   "metadata": {
    "collapsed": false,
    "ExecuteTime": {
     "end_time": "2023-08-09T02:25:31.369633500Z",
     "start_time": "2023-08-09T02:25:31.356458400Z"
    }
   }
  },
  {
   "cell_type": "markdown",
   "source": [
    "可变参数是**引用传递**, 比如像列表, 字典这样的对象通过引用传递"
   ],
   "metadata": {
    "collapsed": false
   }
  },
  {
   "cell_type": "markdown",
   "source": [
    "## 变量作用域"
   ],
   "metadata": {
    "collapsed": false
   }
  },
  {
   "cell_type": "markdown",
   "source": [
    "作用域指的是变量的有效范围, 变量并不是在哪个位置都可以访问的, 访问权限取决于这个变量是在哪里赋值的, 也就是在哪个作用域内的\n",
    "\n",
    "函数内部的变量无法被函数外部访问, 但内部可以访问;\n",
    "类内部的变量无法被外部访问, 但类的内部可以;\n",
    "\n",
    "Python的作用域一共有4层, 分别是:\n",
    "* L (Local) 局部作用域\n",
    "* E (Enclosing) 闭包函数外的函数中\n",
    "* G (Global) 全局作用域\n",
    "* B (Built-in) 内建作用域\n",
    "\n"
   ],
   "metadata": {
    "collapsed": false
   }
  },
  {
   "cell_type": "code",
   "execution_count": 12,
   "outputs": [],
   "source": [
    "# 内建作用域, 查找int函数\n",
    "x = int(2.9)\n",
    "\n",
    "# 全局作用域\n",
    "global_var = 0\n",
    "def outer():\n",
    "    #　闭包函数外的函数中\n",
    "    out_var = 1\n",
    "    def inner():\n",
    "        # 局部作用域\n",
    "        inner_var = 2"
   ],
   "metadata": {
    "collapsed": false,
    "ExecuteTime": {
     "end_time": "2023-08-09T02:48:06.771501100Z",
     "start_time": "2023-08-09T02:48:06.754765900Z"
    }
   }
  },
  {
   "cell_type": "markdown",
   "source": [
    "如果出现本身作用域没有定义的变量, 会按照L->E->G->B的规则查找变量"
   ],
   "metadata": {
    "collapsed": false
   }
  },
  {
   "cell_type": "markdown",
   "source": [
    "### 全局变量和局部变量"
   ],
   "metadata": {
    "collapsed": false
   }
  },
  {
   "cell_type": "markdown",
   "source": [
    "定义在函数内部的变量拥有一个局部作用域, 叫做局部变量;\n",
    "定义在函数外的拥有全局作用域的变量, 叫做全局变量;\n",
    "所谓的局部变量是相对的, 局部变量也有可能是更小范围内的变量的外部变量"
   ],
   "metadata": {
    "collapsed": false
   }
  },
  {
   "cell_type": "markdown",
   "source": [
    "## 匿名函数"
   ],
   "metadata": {
    "collapsed": false
   }
  },
  {
   "cell_type": "markdown",
   "source": [
    "有时候不需要显式地定义函数, 直接传入匿名函数更方便\n",
    "Python语言使用`lambda`关键字来创建匿名函数, 所谓匿名, 即不再使用`def`语句这样标准的形式定义一个函数\n",
    "* `lambda`只是一个表达式, 而不是一个代码块\n",
    "* 仅仅能在`lambda`表达式中封装有限的逻辑\n",
    "* `lambda`函数拥有自己的命名空间\n",
    "\n",
    "形式为: `lambda 参数: 表达式`\n",
    "例如: `lambda x: x * x`, 其相当于:\n",
    "```\n",
    "def f(x):\n",
    "    return x * x\n",
    "```"
   ],
   "metadata": {
    "collapsed": false
   }
  },
  {
   "cell_type": "markdown",
   "source": [
    "匿名函数只能有一个表达式, 不用也不能写return语句, 表达式的结果就是其返回值; 匿名函数也是一个*函数对象*, 也可以把匿名函数赋值给一个变量"
   ],
   "metadata": {
    "collapsed": false
   }
  },
  {
   "cell_type": "markdown",
   "source": [
    "## 推导式"
   ],
   "metadata": {
    "collapsed": false
   }
  },
  {
   "cell_type": "markdown",
   "source": [
    "### 列表推导式"
   ],
   "metadata": {
    "collapsed": false
   }
  },
  {
   "cell_type": "code",
   "execution_count": null,
   "outputs": [],
   "source": [
    "# 可以快速生成列表\n",
    "lis = [x * x for x in range(1, 10)]\n",
    "print(lis)"
   ],
   "metadata": {
    "collapsed": false
   }
  },
  {
   "cell_type": "code",
   "execution_count": null,
   "outputs": [],
   "source": [
    "#　还可以增加田间语句\n",
    "[x * x for x in range(1, 11) if x % 2 == 0]"
   ],
   "metadata": {
    "collapsed": false
   }
  },
  {
   "cell_type": "markdown",
   "source": [
    "### 字典推导式"
   ],
   "metadata": {
    "collapsed": false
   }
  },
  {
   "cell_type": "code",
   "execution_count": 17,
   "outputs": [
    {
     "data": {
      "text/plain": "{2: 4, 4: 16, 6: 36}"
     },
     "execution_count": 17,
     "metadata": {},
     "output_type": "execute_result"
    }
   ],
   "source": [
    "dic = {x: x ** 2 for x in (2, 4, 6)}\n",
    "dic"
   ],
   "metadata": {
    "collapsed": false,
    "ExecuteTime": {
     "end_time": "2023-08-09T03:38:22.476883100Z",
     "start_time": "2023-08-09T03:38:22.465449600Z"
    }
   }
  },
  {
   "cell_type": "markdown",
   "source": [
    "### 集合推导式"
   ],
   "metadata": {
    "collapsed": false
   }
  },
  {
   "cell_type": "code",
   "execution_count": 20,
   "outputs": [
    {
     "data": {
      "text/plain": "{'d', 'r'}"
     },
     "execution_count": 20,
     "metadata": {},
     "output_type": "execute_result"
    }
   ],
   "source": [
    "a = {x for x in \"abracadabra\" if x not in \"abc\"}\n",
    "a"
   ],
   "metadata": {
    "collapsed": false,
    "ExecuteTime": {
     "end_time": "2023-08-09T03:39:43.182933600Z",
     "start_time": "2023-08-09T03:39:43.176254100Z"
    }
   }
  },
  {
   "cell_type": "markdown",
   "source": [
    "## 迭代器"
   ],
   "metadata": {
    "collapsed": false
   }
  },
  {
   "cell_type": "code",
   "execution_count": 24,
   "outputs": [
    {
     "name": "stdout",
     "output_type": "stream",
     "text": [
      "True\n",
      "True\n",
      "False\n"
     ]
    }
   ],
   "source": [
    "# 通过collections模块的Iterable类型来判断有个对象是否可迭代\n",
    "# isinstance和type的区别是\n",
    "# type不会认为子类是一种父类类型, 不考虑继承关系\n",
    "# isinstance会认为子类是一种父类类型, 考虑继承关系\n",
    "from collections import Iterable\n",
    "print(isinstance(\"abc\", Iterable))\n",
    "print(isinstance([1, 2, 3], Iterable))\n",
    "print(isinstance(123, Iterable))"
   ],
   "metadata": {
    "collapsed": false,
    "ExecuteTime": {
     "end_time": "2023-08-09T03:55:01.467830Z",
     "start_time": "2023-08-09T03:55:01.455489300Z"
    }
   }
  },
  {
   "cell_type": "markdown",
   "source": [
    "迭代器是一种可以被遍历的对象, 并且能作用于`next()`函数. 迭代器对象从集合的第一个元素开始遍历, 直至所有元素被访问完结束, 只能往后遍历不能回溯. 迭代器通常要实现两个方法, `iter()`和`next()`"
   ],
   "metadata": {
    "collapsed": false
   }
  },
  {
   "cell_type": "code",
   "execution_count": 32,
   "outputs": [
    {
     "name": "stdout",
     "output_type": "stream",
     "text": [
      "<list_iterator object at 0x000001BAC5C8A790>\n",
      "1\n",
      "2\n",
      "3\n",
      "4\n"
     ]
    },
    {
     "ename": "StopIteration",
     "evalue": "",
     "output_type": "error",
     "traceback": [
      "\u001B[1;31m---------------------------------------------------------------------------\u001B[0m",
      "\u001B[1;31mStopIteration\u001B[0m                             Traceback (most recent call last)",
      "Cell \u001B[1;32mIn[32], line 9\u001B[0m\n\u001B[0;32m      7\u001B[0m \u001B[38;5;28mprint\u001B[39m(\u001B[38;5;28mnext\u001B[39m(iteration))\n\u001B[0;32m      8\u001B[0m \u001B[38;5;28mprint\u001B[39m(\u001B[38;5;28mnext\u001B[39m(iteration))\n\u001B[1;32m----> 9\u001B[0m \u001B[38;5;28mprint\u001B[39m(\u001B[38;5;28;43mnext\u001B[39;49m\u001B[43m(\u001B[49m\u001B[43miteration\u001B[49m\u001B[43m)\u001B[49m)\n",
      "\u001B[1;31mStopIteration\u001B[0m: "
     ]
    }
   ],
   "source": [
    "lis = [1, 2, 3, 4]\n",
    "# 创建迭代器对象\n",
    "iteration = iter(lis)\n",
    "print(iteration)\n",
    "print(next(iteration))\n",
    "print(next(iteration))\n",
    "print(next(iteration))\n",
    "print(next(iteration))\n",
    "print(next(iteration))"
   ],
   "metadata": {
    "collapsed": false,
    "ExecuteTime": {
     "end_time": "2023-08-09T07:26:27.346156700Z",
     "start_time": "2023-08-09T07:26:27.313439800Z"
    }
   }
  },
  {
   "cell_type": "markdown",
   "source": [
    "迭代器(Iterator)和可迭代(Iterable)的区别:\n",
    "* 凡是可作用于for循环的对象都是可迭代类型\n",
    "* 凡是可作用于`next()`函数的对象都是迭代器类型\n",
    "* list, dict, str等都是可迭代的,但不是迭代器, 因为`next()`函数无法调用, 可以通过`iter()`函数将他们转换为迭代器\n",
    "* Python的for循环本质上就是通过不断调用`next()`函数实现的"
   ],
   "metadata": {
    "collapsed": false
   }
  },
  {
   "cell_type": "markdown",
   "source": [
    "## 装饰器"
   ],
   "metadata": {
    "collapsed": false
   }
  },
  {
   "cell_type": "markdown",
   "source": [
    "装饰器(Decorator), 在不改变原有代码的情况下, 为被装饰的对象增加新的功能或者附加限制条件. 体现了设计模式中的装饰模式, 强调**开放封闭**原则"
   ],
   "metadata": {
    "collapsed": false
   }
  },
  {
   "cell_type": "code",
   "execution_count": 44,
   "outputs": [
    {
     "name": "stdout",
     "output_type": "stream",
     "text": [
      "认证成功!\n",
      "业务部门1数据接口...\n",
      "日志添加成功!\n"
     ]
    }
   ],
   "source": [
    "def outer(func):\n",
    "    def inner():\n",
    "        print(\"认证成功!\")\n",
    "        result = func()\n",
    "        print(\"日志添加成功!\")\n",
    "        return result\n",
    "    return inner\n",
    "\n",
    "@outer\n",
    "def f1():\n",
    "    print(\"业务部门1数据接口...\")\n",
    "f1()"
   ],
   "metadata": {
    "collapsed": false,
    "ExecuteTime": {
     "end_time": "2023-08-09T08:59:53.159438500Z",
     "start_time": "2023-08-09T08:59:53.153077200Z"
    }
   }
  },
  {
   "cell_type": "markdown",
   "source": [
    "`以下是上面的程序运行步骤:\n",
    "1. 程序开始运行, 自上往下接受, 当运行到`def outer(func):`的时候, 发现这是一个函数, 将函数加载到内存中, 然后跳过\n",
    "2. 当读到`@outer`的时候, 程序知道这是个装饰器, 要立即执行, 于是程序开始运行装饰器修饰的函数*f1*\n",
    "3. 程序开始执行装饰器的语法规则: 被装饰的函数的名字被当作参数传递给装饰函数. 装饰函数执行自己内部的代码后, 会将其返回值赋值给被装饰的函数`"
   ],
   "metadata": {
    "collapsed": false
   }
  },
  {
   "cell_type": "markdown",
   "source": [
    "![decorator](image/decorator.png)"
   ],
   "metadata": {
    "collapsed": false
   }
  },
  {
   "cell_type": "markdown",
   "source": [
    "`@outer`和`@outer()`是有区别的, `@outer`和`@outer(f1)`是一样的"
   ],
   "metadata": {
    "collapsed": false
   }
  },
  {
   "cell_type": "markdown",
   "source": [
    "4. 程序执行outer函数内部的内容, 碰到一个内部函数`inner()`, 不执行并读入内存\n",
    "5. 往下碰到`return inner`, 返回的是`inner`这个函数名, 而不是`inner()`, 并且这个函数名会被赋值给f1这个被装饰的函数, 也就是`f1 = inner`"
   ],
   "metadata": {
    "collapsed": false
   }
  },
  {
   "cell_type": "code",
   "execution_count": 45,
   "outputs": [
    {
     "name": "stdout",
     "output_type": "stream",
     "text": [
      "认证成功！\n",
      "jack 正在连接业务部门1数据接口......\n",
      "日志添加成功\n"
     ]
    }
   ],
   "source": [
    "def outer(func):\n",
    "    def inner(username):\n",
    "        print(\"认证成功！\")\n",
    "        result = func(username)\n",
    "        print(\"日志添加成功\")\n",
    "        return result\n",
    "    return inner\n",
    "\n",
    "@outer\n",
    "def f1(name):\n",
    "    print(\"%s 正在连接业务部门1数据接口......\"%name)\n",
    "\n",
    "# 调用方法\n",
    "f1(\"jack\")"
   ],
   "metadata": {
    "collapsed": false,
    "ExecuteTime": {
     "end_time": "2023-08-09T09:07:29.407892Z",
     "start_time": "2023-08-09T09:07:29.340317300Z"
    }
   }
  },
  {
   "cell_type": "code",
   "execution_count": null,
   "outputs": [],
   "source": [],
   "metadata": {
    "collapsed": false
   }
  }
 ],
 "metadata": {
  "kernelspec": {
   "display_name": "Python 3",
   "language": "python",
   "name": "python3"
  },
  "language_info": {
   "codemirror_mode": {
    "name": "ipython",
    "version": 2
   },
   "file_extension": ".py",
   "mimetype": "text/x-python",
   "name": "python",
   "nbconvert_exporter": "python",
   "pygments_lexer": "ipython2",
   "version": "2.7.6"
  }
 },
 "nbformat": 4,
 "nbformat_minor": 0
}
