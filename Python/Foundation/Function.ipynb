{
 "cells": [
  {
   "cell_type": "markdown",
   "source": [
    "# 函数"
   ],
   "metadata": {
    "collapsed": false
   }
  },
  {
   "cell_type": "markdown",
   "source": [
    "## 传参"
   ],
   "metadata": {
    "collapsed": false
   }
  },
  {
   "cell_type": "code",
   "execution_count": 4,
   "outputs": [
    {
     "name": "stdout",
     "output_type": "stream",
     "text": [
      "调用函数之前, 变量a的内存地址为: 140723642762912\n",
      "在函数内部修改之前, 变量a的内存地址为: 140723642762912\n",
      "在函数内部修改之后, 变量a的内存地址为: 140723642762944\n",
      "函数内部的b为: 2\n",
      "函数外部的a为: 1\n"
     ]
    }
   ],
   "source": [
    "a = 1\n",
    "def func(a):\n",
    "    print(\"在函数内部修改之前, 变量a的内存地址为: %s\" % id(a))\n",
    "    a = 2\n",
    "    print(\"在函数内部修改之后, 变量a的内存地址为: %s\" % id(a))\n",
    "    print(\"函数内部的b为: %s\" % a)\n",
    "print(\"调用函数之前, 变量a的内存地址为: %s\" %id(a))\n",
    "func(a)\n",
    "print(\"函数外部的a为: %s\" % a)"
   ],
   "metadata": {
    "collapsed": false,
    "ExecuteTime": {
     "end_time": "2023-08-09T02:25:17.418238800Z",
     "start_time": "2023-08-09T02:25:17.406988Z"
    }
   }
  },
  {
   "cell_type": "markdown",
   "source": [
    "不可变参数用的是**值传递**, 通过拷贝来实现"
   ],
   "metadata": {
    "collapsed": false
   }
  },
  {
   "cell_type": "code",
   "execution_count": 5,
   "outputs": [
    {
     "name": "stdout",
     "output_type": "stream",
     "text": [
      "调用函数之前, 变量a的内存地址为: 1901689301184\n",
      "在函数内部修改之前, 变量a的内存地址为: 1901689301184\n",
      "在函数内部修改之后, 变量b的内存地址为: 1901689301184\n",
      "函数内部的b为: [1, 2, 3, 4]\n",
      "函数外部的a为: [1, 2, 3, 4]\n"
     ]
    }
   ],
   "source": [
    "a = [1, 2, 3]\n",
    "def func(a):\n",
    "    print(\"在函数内部修改之前, 变量a的内存地址为: %s\" % id(a))\n",
    "    a.append(4)\n",
    "    print(\"在函数内部修改之后, 变量b的内存地址为: %s\" % id(a))\n",
    "    print(\"函数内部的b为: %s\" % a)\n",
    "print(\"调用函数之前, 变量a的内存地址为: %s\" %id(a))\n",
    "func(a)\n",
    "print(\"函数外部的a为: %s\" % a)"
   ],
   "metadata": {
    "collapsed": false,
    "ExecuteTime": {
     "end_time": "2023-08-09T02:25:31.369633500Z",
     "start_time": "2023-08-09T02:25:31.356458400Z"
    }
   }
  },
  {
   "cell_type": "markdown",
   "source": [
    "可变参数是**引用传递**, 比如像列表, 字典这样的对象通过引用传递"
   ],
   "metadata": {
    "collapsed": false
   }
  },
  {
   "cell_type": "markdown",
   "source": [
    "## 变量作用域"
   ],
   "metadata": {
    "collapsed": false
   }
  },
  {
   "cell_type": "markdown",
   "source": [
    "作用域指的是变量的有效范围, 变量并不是在哪个位置都可以访问的, 访问权限取决于这个变量是在哪里赋值的, 也就是在哪个作用域内的\n",
    "\n",
    "函数内部的变量无法被函数外部访问, 但内部可以访问;\n",
    "类内部的变量无法被外部访问, 但类的内部可以;\n",
    "\n",
    "Python的作用域一共有4层, 分别是:\n",
    "* L (Local) 局部作用域\n",
    "* E (Enclosing) 闭包函数外的函数中\n",
    "* G (Global) 全局作用域\n",
    "* B (Built-in) 内建作用域\n",
    "\n"
   ],
   "metadata": {
    "collapsed": false
   }
  },
  {
   "cell_type": "code",
   "execution_count": 12,
   "outputs": [],
   "source": [
    "# 内建作用域, 查找int函数\n",
    "x = int(2.9)\n",
    "\n",
    "# 全局作用域\n",
    "global_var = 0\n",
    "def outer():\n",
    "    #　闭包函数外的函数中\n",
    "    out_var = 1\n",
    "    def inner():\n",
    "        # 局部作用域\n",
    "        inner_var = 2"
   ],
   "metadata": {
    "collapsed": false,
    "ExecuteTime": {
     "end_time": "2023-08-09T02:48:06.771501100Z",
     "start_time": "2023-08-09T02:48:06.754765900Z"
    }
   }
  },
  {
   "cell_type": "markdown",
   "source": [
    "如果出现本身作用域没有定义的变量, 会按照L->E->G->B的规则查找变量"
   ],
   "metadata": {
    "collapsed": false
   }
  },
  {
   "cell_type": "markdown",
   "source": [
    "### 全局变量和局部变量"
   ],
   "metadata": {
    "collapsed": false
   }
  },
  {
   "cell_type": "markdown",
   "source": [
    "定义在函数内部的变量拥有一个局部作用域, 叫做局部变量;\n",
    "定义在函数外的拥有全局作用域的变量, 叫做全局变量;\n",
    "所谓的局部变量是相对的, 局部变量也有可能是更小范围内的变量的外部变量"
   ],
   "metadata": {
    "collapsed": false
   }
  },
  {
   "cell_type": "markdown",
   "source": [
    "## 匿名函数"
   ],
   "metadata": {
    "collapsed": false
   }
  },
  {
   "cell_type": "markdown",
   "source": [
    "有时候不需要显式地定义函数, 直接传入匿名函数更方便\n",
    "Python语言使用`lambda`关键字来创建匿名函数, 所谓匿名, 即不再使用`def`语句这样标准的形式定义一个函数\n",
    "* `lambda`只是一个表达式, 而不是一个代码块\n",
    "* 仅仅能在`lambda`表达式中封装有限的逻辑\n",
    "* `lambda`函数拥有自己的命名空间\n",
    "\n",
    "形式为: `lambda 参数: 表达式`\n",
    "例如: `lambda x: x * x`, 其相当于:\n",
    "```\n",
    "def f(x):\n",
    "    return x * x\n",
    "```"
   ],
   "metadata": {
    "collapsed": false
   }
  },
  {
   "cell_type": "markdown",
   "source": [
    "匿名函数只能有一个表达式, 不用也不能写return语句, 表达式的结果就是其返回值; 匿名函数也是一个*函数对象*, 也可以把匿名函数赋值给一个变量"
   ],
   "metadata": {
    "collapsed": false
   }
  },
  {
   "cell_type": "markdown",
   "source": [
    "## 推导式"
   ],
   "metadata": {
    "collapsed": false
   }
  },
  {
   "cell_type": "markdown",
   "source": [
    "### 列表推导式"
   ],
   "metadata": {
    "collapsed": false
   }
  },
  {
   "cell_type": "code",
   "execution_count": null,
   "outputs": [],
   "source": [
    "# 可以快速生成列表\n",
    "lis = [x * x for x in range(1, 10)]\n",
    "print(lis)"
   ],
   "metadata": {
    "collapsed": false
   }
  },
  {
   "cell_type": "code",
   "execution_count": null,
   "outputs": [],
   "source": [
    "#　还可以增加田间语句\n",
    "[x * x for x in range(1, 11) if x % 2 == 0]"
   ],
   "metadata": {
    "collapsed": false
   }
  },
  {
   "cell_type": "markdown",
   "source": [
    "### 字典推导式"
   ],
   "metadata": {
    "collapsed": false
   }
  },
  {
   "cell_type": "code",
   "execution_count": 17,
   "outputs": [
    {
     "data": {
      "text/plain": "{2: 4, 4: 16, 6: 36}"
     },
     "execution_count": 17,
     "metadata": {},
     "output_type": "execute_result"
    }
   ],
   "source": [
    "dic = {x: x ** 2 for x in (2, 4, 6)}\n",
    "dic"
   ],
   "metadata": {
    "collapsed": false,
    "ExecuteTime": {
     "end_time": "2023-08-09T03:38:22.476883100Z",
     "start_time": "2023-08-09T03:38:22.465449600Z"
    }
   }
  },
  {
   "cell_type": "markdown",
   "source": [
    "### 集合推导式"
   ],
   "metadata": {
    "collapsed": false
   }
  },
  {
   "cell_type": "code",
   "execution_count": 20,
   "outputs": [
    {
     "data": {
      "text/plain": "{'d', 'r'}"
     },
     "execution_count": 20,
     "metadata": {},
     "output_type": "execute_result"
    }
   ],
   "source": [
    "a = {x for x in \"abracadabra\" if x not in \"abc\"}\n",
    "a"
   ],
   "metadata": {
    "collapsed": false,
    "ExecuteTime": {
     "end_time": "2023-08-09T03:39:43.182933600Z",
     "start_time": "2023-08-09T03:39:43.176254100Z"
    }
   }
  },
  {
   "cell_type": "code",
   "execution_count": null,
   "outputs": [],
   "source": [],
   "metadata": {
    "collapsed": false
   }
  }
 ],
 "metadata": {
  "kernelspec": {
   "display_name": "Python 3",
   "language": "python",
   "name": "python3"
  },
  "language_info": {
   "codemirror_mode": {
    "name": "ipython",
    "version": 2
   },
   "file_extension": ".py",
   "mimetype": "text/x-python",
   "name": "python",
   "nbconvert_exporter": "python",
   "pygments_lexer": "ipython2",
   "version": "2.7.6"
  }
 },
 "nbformat": 4,
 "nbformat_minor": 0
}
