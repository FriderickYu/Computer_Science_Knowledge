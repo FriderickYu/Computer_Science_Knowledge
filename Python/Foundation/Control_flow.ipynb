{
 "cells": [
  {
   "cell_type": "markdown",
   "source": [
    "# 流程控制"
   ],
   "metadata": {
    "collapsed": false
   }
  },
  {
   "cell_type": "code",
   "execution_count": null,
   "outputs": [],
   "source": [
    "## 顺序执行"
   ],
   "metadata": {
    "collapsed": false
   }
  },
  {
   "cell_type": "markdown",
   "source": [
    "Python代码在执行过程中, 遵循下面的基本原则:\n",
    "* 普通语句, 直接执行;\n",
    "* 碰到函数, 将函数体载入内存, 并不直接执行\n",
    "* 碰到类, 执行类内部的普通语句, 但是类的方法只载入, 不执行\n",
    "* 碰到if, for等控制语句, 按相应控制流程执行\n",
    "* 碰到@, break, continue等, 按规定语法执行\n",
    "* 碰到函数, 方法调用等, 转而执行函数内部代码, 执行完毕继续执行原有顺序代码"
   ],
   "metadata": {
    "collapsed": false
   }
  },
  {
   "cell_type": "markdown",
   "source": [
    "`if __name__ == '__main__':`\n",
    "`__name__`是所有模块都会与一个内置属性, 取值取决于你如何调用模块.\n",
    "假设有一个test.py文件, 如果想在a.py文件 `import test.py`, 那么test.py的`__name__`属性值就是test\n",
    "\n",
    "如果模块或脚本要直接执行, 那么`__name__`的值是`__main__`\n",
    "\n",
    "那么`if __name__ == '__main__':`来判断是否是在直接执行程序; 如果是, 那么if代码块下的语句就会被执行, 如果不是就不执行"
   ],
   "metadata": {
    "collapsed": false
   }
  },
  {
   "cell_type": "code",
   "execution_count": 2,
   "outputs": [
    {
     "name": "stdout",
     "output_type": "stream",
     "text": [
      "<[1]> time module start\n",
      "<[2]> ClassOne body\n",
      "<[6]> ClassTwo body\n",
      "<[7]> ClassThree body\n",
      "<[9]> ClassFour body\n",
      "<[11]> ClassOne tests ..............................\n",
      "<[3]> ClassOne.__init__\n",
      "<[5]> ClassOne.method_x\n",
      "<[12]> ClassThree tests ..............................\n",
      "<[8]> ClassThree.method_y\n",
      "<[13]> ClassFour tests ..............................\n",
      "<[8]> ClassThree.method_y\n",
      "<[14]> evaltime module end\n"
     ]
    }
   ],
   "source": [
    "import os\n",
    "\n",
    "print('<[1]> time module start')\n",
    "class ClassOne():\n",
    "    print('<[2]> ClassOne body')\n",
    "    def __init__(self):\n",
    "        print('<[3]> ClassOne.__init__')\n",
    "    def __del__(self):\n",
    "        print('<[4]> ClassOne.__del__')\n",
    "    def method_x(self):\n",
    "        print('<[5]> ClassOne.method_x')\n",
    "\n",
    "class ClassTwo(object):\n",
    "    print('<[6]> ClassTwo body')\n",
    "\n",
    "class ClassThree():\n",
    "    print('<[7]> ClassThree body')\n",
    "\n",
    "    def method_y(self):\n",
    "        print('<[8]> ClassThree.method_y')\n",
    "\n",
    "class ClassFour(ClassThree):\n",
    "    print('<[9]> ClassFour body')\n",
    "\n",
    "def func():\n",
    "    print(\"<func> function func\")\n",
    "\n",
    "if __name__ == '__main__':\n",
    "    print('<[11]> ClassOne tests', 30 * '.')\n",
    "    one = ClassOne()\n",
    "    one.method_x()\n",
    "    print('<[12]> ClassThree tests', 30 * '.')\n",
    "    three = ClassThree()\n",
    "    three.method_y()\n",
    "    print('<[13]> ClassFour tests', 30 * '.')\n",
    "    four = ClassFour()\n",
    "    four.method_y()\n",
    "\n",
    "print('<[14]> evaltime module end')"
   ],
   "metadata": {
    "collapsed": false,
    "ExecuteTime": {
     "end_time": "2023-08-04T07:35:08.774381700Z",
     "start_time": "2023-08-04T07:35:08.761829800Z"
    }
   }
  },
  {
   "cell_type": "code",
   "execution_count": null,
   "outputs": [],
   "source": [],
   "metadata": {
    "collapsed": false
   }
  }
 ],
 "metadata": {
  "kernelspec": {
   "display_name": "Python 3",
   "language": "python",
   "name": "python3"
  },
  "language_info": {
   "codemirror_mode": {
    "name": "ipython",
    "version": 2
   },
   "file_extension": ".py",
   "mimetype": "text/x-python",
   "name": "python",
   "nbconvert_exporter": "python",
   "pygments_lexer": "ipython2",
   "version": "2.7.6"
  }
 },
 "nbformat": 4,
 "nbformat_minor": 0
}
