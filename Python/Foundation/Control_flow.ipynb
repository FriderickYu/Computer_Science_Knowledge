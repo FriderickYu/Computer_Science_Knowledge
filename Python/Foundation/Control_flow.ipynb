{
 "cells": [
  {
   "cell_type": "markdown",
   "source": [
    "# 流程控制"
   ],
   "metadata": {
    "collapsed": false
   }
  },
  {
   "cell_type": "markdown",
   "source": [
    "## 顺序执行"
   ],
   "metadata": {
    "collapsed": false
   }
  },
  {
   "cell_type": "markdown",
   "source": [
    "Python代码在执行过程中, 遵循下面的基本原则:\n",
    "* 普通语句, 直接执行;\n",
    "* 碰到函数, 将函数体载入内存, 并不直接执行\n",
    "* 碰到类, 执行类内部的普通语句, 但是类的方法只载入, 不执行\n",
    "* 碰到if, for等控制语句, 按相应控制流程执行\n",
    "* 碰到@, break, continue等, 按规定语法执行\n",
    "* 碰到函数, 方法调用等, 转而执行函数内部代码, 执行完毕继续执行原有顺序代码"
   ],
   "metadata": {
    "collapsed": false
   }
  },
  {
   "cell_type": "markdown",
   "source": [
    "`if __name__ == '__main__':`\n",
    "`__name__`是所有模块都会有的一个内置属性, 取值取决于你如何调用模块.\n",
    "假设有一个test.py文件, 如果想在a.py文件 `import test.py`, 那么test.py的`__name__`属性值就是test\n",
    "\n",
    "如果模块或脚本要直接执行, 那么`__name__`的值是`__main__`\n",
    "\n",
    "那么`if __name__ == '__main__':`来判断是否是在直接执行程序; 如果是, 那么if代码块下的语句就会被执行, 如果不是就不执行"
   ],
   "metadata": {
    "collapsed": false
   }
  },
  {
   "cell_type": "code",
   "execution_count": 6,
   "outputs": [
    {
     "name": "stdout",
     "output_type": "stream",
     "text": [
      "<[1]> time module start\n",
      "<[2]> ClassOne body\n",
      "<[6]> ClassTwo body\n",
      "<[7]> ClassThree body\n",
      "<[9]> ClassFour body\n",
      "<[11]> ClassOne tests ..............................\n",
      "<[3]> ClassOne.__init__\n",
      "<[4]> ClassOne.__del__\n",
      "<[5]> ClassOne.method_x\n",
      "<[12]> ClassThree tests ..............................\n",
      "<[8]> ClassThree.method_y\n",
      "<[13]> ClassFour tests ..............................\n",
      "<[8]> ClassThree.method_y\n",
      "<[14]> evaltime module end\n"
     ]
    }
   ],
   "source": [
    "import os\n",
    "\n",
    "print('<[1]> time module start')\n",
    "class ClassOne():\n",
    "    print('<[2]> ClassOne body')\n",
    "    def __init__(self):\n",
    "        print('<[3]> ClassOne.__init__')\n",
    "    def __del__(self):\n",
    "        print('<[4]> ClassOne.__del__')\n",
    "    def method_x(self):\n",
    "        print('<[5]> ClassOne.method_x')\n",
    "\n",
    "class ClassTwo(object):\n",
    "    print('<[6]> ClassTwo body')\n",
    "\n",
    "class ClassThree():\n",
    "    print('<[7]> ClassThree body')\n",
    "\n",
    "    def method_y(self):\n",
    "        print('<[8]> ClassThree.method_y')\n",
    "\n",
    "class ClassFour(ClassThree):\n",
    "    print('<[9]> ClassFour body')\n",
    "\n",
    "def func():\n",
    "    print(\"<func> function func\")\n",
    "\n",
    "if __name__ == '__main__':\n",
    "    print('<[11]> ClassOne tests', 30 * '.')\n",
    "    one = ClassOne()\n",
    "    one.method_x()\n",
    "    print('<[12]> ClassThree tests', 30 * '.')\n",
    "    three = ClassThree()\n",
    "    three.method_y()\n",
    "    print('<[13]> ClassFour tests', 30 * '.')\n",
    "    four = ClassFour()\n",
    "    four.method_y()\n",
    "\n",
    "print('<[14]> evaltime module end')"
   ],
   "metadata": {
    "collapsed": false,
    "ExecuteTime": {
     "end_time": "2023-08-04T07:59:46.093732600Z",
     "start_time": "2023-08-04T07:59:46.084110400Z"
    }
   }
  },
  {
   "cell_type": "markdown",
   "source": [
    "## 循环判断"
   ],
   "metadata": {
    "collapsed": false
   }
  },
  {
   "cell_type": "markdown",
   "source": [
    "循环控制, 就是让程序循环运行某一段代码**直到满足退出的条件**, 才退出循环; Python用关键字for和while来进行循环控制, Python没有do...while语句"
   ],
   "metadata": {
    "collapsed": false
   }
  },
  {
   "cell_type": "markdown",
   "source": [
    "### while"
   ],
   "metadata": {
    "collapsed": false
   }
  },
  {
   "cell_type": "markdown",
   "source": [
    "![while.png](image/while.png)"
   ],
   "metadata": {
    "collapsed": false
   }
  },
  {
   "cell_type": "markdown",
   "source": [
    "while: 当条件满足的时候, 就一直运行while下面的代码块, 当条件不满足的时候, 就结束while循环"
   ],
   "metadata": {
    "collapsed": false
   }
  },
  {
   "cell_type": "code",
   "execution_count": 9,
   "outputs": [
    {
     "name": "stdout",
     "output_type": "stream",
     "text": [
      "1到100之和为: 1225\n"
     ]
    }
   ],
   "source": [
    "n = 100\n",
    "sum = 0\n",
    "counter = 1\n",
    "while counter <= n:\n",
    "    sum += counter\n",
    "    counter += 1\n",
    "    # if counter == 50:\n",
    "    #     break\n",
    "# while还可以加一个else从句\n",
    "# 当while循环正常执行完毕后, 会继续执行else语句\n",
    "# 但如果while循环被break等机制强制提前终止, 则不会执行else语句\n",
    "else:\n",
    "    print(\"执行完毕!\")\n",
    "print(\"1到%d之和为: %d\" % (n, sum))"
   ],
   "metadata": {
    "collapsed": false,
    "ExecuteTime": {
     "end_time": "2023-08-04T08:29:42.720849500Z",
     "start_time": "2023-08-04T08:29:42.714935500Z"
    }
   }
  },
  {
   "cell_type": "markdown",
   "source": [
    "### for"
   ],
   "metadata": {
    "collapsed": false
   }
  },
  {
   "cell_type": "markdown",
   "source": [
    "for经常用来遍历可迭代的对象, 例如字典或列表\n",
    "\n",
    "```python\n",
    "for <variable> in <sequence>:\n",
    "    <statement>\n",
    "```"
   ],
   "metadata": {
    "collapsed": false
   }
  },
  {
   "cell_type": "code",
   "execution_count": 11,
   "outputs": [
    {
     "name": "stdout",
     "output_type": "stream",
     "text": [
      "55\n"
     ]
    }
   ],
   "source": [
    "sum = 0\n",
    "for x in [1, 2, 3, 4, 5, 6, 7, 8, 9, 10]:\n",
    "    sum += x\n",
    "print(sum)"
   ],
   "metadata": {
    "collapsed": false,
    "ExecuteTime": {
     "end_time": "2023-08-04T08:34:02.305171100Z",
     "start_time": "2023-08-04T08:34:02.291057Z"
    }
   }
  },
  {
   "cell_type": "markdown",
   "source": [
    "与while一样, for循环也可以有else子句. 当for循环正常执行完毕后, 会继续执行else语句. 但如果for循环被break等机制强制提前终止, 则不会执行else语句"
   ],
   "metadata": {
    "collapsed": false
   }
  },
  {
   "cell_type": "markdown",
   "source": [
    "### break"
   ],
   "metadata": {
    "collapsed": false
   }
  },
  {
   "cell_type": "markdown",
   "source": [
    "break只能用于循环体中, 直接退出当前的循环. 如果是在多层的嵌套循环中, 是退出当前的层级, 并不是退出所有的循环"
   ],
   "metadata": {
    "collapsed": false
   }
  },
  {
   "cell_type": "code",
   "execution_count": 15,
   "outputs": [
    {
     "name": "stdout",
     "output_type": "stream",
     "text": [
      "当前字母为:  h\n",
      "当前字母为:  e\n",
      "当前字母为:  l\n",
      "当前字母为:  l\n"
     ]
    }
   ],
   "source": [
    "for letter in \"hello world\":\n",
    "    if letter == \"o\":\n",
    "        break\n",
    "    print(\"当前字母为: \", letter)"
   ],
   "metadata": {
    "collapsed": false,
    "ExecuteTime": {
     "end_time": "2023-08-04T08:38:29.897085100Z",
     "start_time": "2023-08-04T08:38:29.883355200Z"
    }
   }
  },
  {
   "cell_type": "markdown",
   "source": [
    "### continue"
   ],
   "metadata": {
    "collapsed": false
   }
  },
  {
   "cell_type": "markdown",
   "source": [
    "continue语句用于跳过当前循环的剩余部分, 然后开始下一轮循环; 跟break是不一样的, 只是提前结束当前轮次的循环"
   ],
   "metadata": {
    "collapsed": false
   }
  },
  {
   "cell_type": "code",
   "execution_count": 16,
   "outputs": [
    {
     "name": "stdout",
     "output_type": "stream",
     "text": [
      "当前字母:  h\n",
      "当前字母:  e\n",
      "当前字母:  l\n",
      "当前字母:  l\n",
      "当前字母:   \n",
      "当前字母:  w\n",
      "当前字母:  r\n",
      "当前字母:  l\n",
      "当前字母:  d\n"
     ]
    }
   ],
   "source": [
    "for letter in \"hello world\":\n",
    "    if letter == \"o\":\n",
    "        continue\n",
    "    print(\"当前字母: \", letter)"
   ],
   "metadata": {
    "collapsed": false,
    "ExecuteTime": {
     "end_time": "2023-08-04T08:41:01.355088Z",
     "start_time": "2023-08-04T08:41:01.341139400Z"
    }
   }
  },
  {
   "cell_type": "markdown",
   "source": [
    "Python没有类似于C语言中goto的方法, break也只能跳出当前层的循环\n",
    "但如果想跳出全部的循环, 可以设置flag"
   ],
   "metadata": {
    "collapsed": false
   }
  },
  {
   "cell_type": "code",
   "execution_count": 19,
   "outputs": [
    {
     "name": "stdout",
     "output_type": "stream",
     "text": [
      "0 0\n",
      "0 1\n",
      "0 2\n",
      "0 3\n",
      "0 4\n",
      "0 5\n",
      "0 6\n"
     ]
    }
   ],
   "source": [
    "flag = False\n",
    "for i in range(10):\n",
    "    if flag:\n",
    "        break\n",
    "    for j in range(10):\n",
    "        if j == 7:\n",
    "            flag = True\n",
    "            break\n",
    "        print(i, j)"
   ],
   "metadata": {
    "collapsed": false,
    "ExecuteTime": {
     "end_time": "2023-08-04T08:51:37.765292500Z",
     "start_time": "2023-08-04T08:51:37.745033200Z"
    }
   }
  },
  {
   "cell_type": "code",
   "execution_count": null,
   "outputs": [],
   "source": [],
   "metadata": {
    "collapsed": false
   }
  }
 ],
 "metadata": {
  "kernelspec": {
   "display_name": "Python 3",
   "language": "python",
   "name": "python3"
  },
  "language_info": {
   "codemirror_mode": {
    "name": "ipython",
    "version": 2
   },
   "file_extension": ".py",
   "mimetype": "text/x-python",
   "name": "python",
   "nbconvert_exporter": "python",
   "pygments_lexer": "ipython2",
   "version": "2.7.6"
  }
 },
 "nbformat": 4,
 "nbformat_minor": 0
}
