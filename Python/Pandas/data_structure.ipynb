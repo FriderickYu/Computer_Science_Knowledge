{
 "cells": [
  {
   "cell_type": "markdown",
   "source": [
    "# Pandas中的数据结构"
   ],
   "metadata": {
    "collapsed": false
   }
  },
  {
   "cell_type": "markdown",
   "source": [
    "## Series"
   ],
   "metadata": {
    "collapsed": false
   }
  },
  {
   "cell_type": "markdown",
   "source": [
    "`Series`是带标签的一维数组, 可存储整数, 浮点数, 字符串, Python对象等类型的数据. 轴标签统称为**索引**, `s = pd.Series(data, index = index)`\n",
    "\n",
    "data支持, Python字典, 数组"
   ],
   "metadata": {
    "collapsed": false
   }
  },
  {
   "cell_type": "markdown",
   "source": [
    "### 多维数组"
   ],
   "metadata": {
    "collapsed": false
   }
  },
  {
   "cell_type": "markdown",
   "source": [
    "当data是多维数组, index的长度必须要与data长度一致. 如果没有指定index, 则自动创建数值型索引, 即`[0, ..., len(data) - 1]`"
   ],
   "metadata": {
    "collapsed": false
   }
  },
  {
   "cell_type": "code",
   "execution_count": 6,
   "outputs": [
    {
     "data": {
      "text/plain": "0    0.626212\n1    0.184971\n2    0.573706\n3    0.426831\n4    0.799759\ndtype: float64"
     },
     "execution_count": 6,
     "metadata": {},
     "output_type": "execute_result"
    }
   ],
   "source": [
    "# 创建Series\n",
    "import pandas as pd\n",
    "import numpy as np\n",
    "s = pd.Series(np.random.rand(5), index=[\"a\", \"b\", \"c\", \"d\", \"e\"])\n",
    "s"
   ],
   "metadata": {
    "collapsed": false,
    "ExecuteTime": {
     "end_time": "2023-08-22T03:25:42.413066Z",
     "start_time": "2023-08-22T03:25:42.405063500Z"
    }
   }
  },
  {
   "cell_type": "code",
   "execution_count": 11,
   "outputs": [
    {
     "data": {
      "text/plain": "b    2.0\nA    NaN\nc    3.0\ndtype: float64"
     },
     "execution_count": 11,
     "metadata": {},
     "output_type": "execute_result"
    }
   ],
   "source": [
    "# Series也可以用字典实例化\n",
    "# 如果data使用了字典, 但设置了index参数, 则会按索引标签提取data里对应的值\n",
    "d = {\"a\": 1, \"b\": 2, \"c\": 3}\n",
    "s = pd.Series(d, index=[\"b\", \"A\", \"c\"])\n",
    "s"
   ],
   "metadata": {
    "collapsed": false,
    "ExecuteTime": {
     "end_time": "2023-08-22T03:29:38.496186900Z",
     "start_time": "2023-08-22T03:29:38.486035500Z"
    }
   }
  },
  {
   "cell_type": "markdown",
   "source": [
    "### Series类似多维数组"
   ],
   "metadata": {
    "collapsed": false
   }
  },
  {
   "cell_type": "markdown",
   "source": [
    "`Series`操作与`ndarray`类似, 支持大多数`numpy`函数, 也支持索引切片"
   ],
   "metadata": {
    "collapsed": false
   }
  },
  {
   "cell_type": "code",
   "execution_count": 20,
   "outputs": [
    {
     "name": "stdout",
     "output_type": "stream",
     "text": [
      "0    0.387579\n",
      "1    0.566895\n",
      "2    0.814389\n",
      "3    0.383302\n",
      "4    0.146009\n",
      "dtype: float64\n",
      "第一个元素是:  0.38757888828877063\n",
      "第一个元素到第三个元素是:  0    0.387579\n",
      "1    0.566895\n",
      "2    0.814389\n",
      "dtype: float64\n",
      "4    0.146009\n",
      "3    0.383302\n",
      "1    0.566895\n",
      "dtype: float64\n"
     ]
    }
   ],
   "source": [
    "s = pd.Series(np.random.rand(5))\n",
    "print(s)\n",
    "print(\"第一个元素是: \", s[0])\n",
    "print(\"第一个元素到第三个元素是: \", s[:3])"
   ],
   "metadata": {
    "collapsed": false,
    "ExecuteTime": {
     "end_time": "2023-08-22T03:34:17.013872500Z",
     "start_time": "2023-08-22T03:34:16.989637400Z"
    }
   }
  },
  {
   "cell_type": "code",
   "execution_count": 24,
   "outputs": [
    {
     "name": "stdout",
     "output_type": "stream",
     "text": [
      "<class 'numpy.ndarray'>\n"
     ]
    }
   ],
   "source": [
    "# Series转换成NumPy数组\n",
    "array = s.to_numpy()\n",
    "print(type(array))"
   ],
   "metadata": {
    "collapsed": false,
    "ExecuteTime": {
     "end_time": "2023-08-22T03:37:59.501870900Z",
     "start_time": "2023-08-22T03:37:59.484987900Z"
    }
   }
  },
  {
   "cell_type": "markdown",
   "source": [
    "### Series类似字典"
   ],
   "metadata": {
    "collapsed": false
   }
  },
  {
   "cell_type": "code",
   "execution_count": 28,
   "outputs": [
    {
     "name": "stdout",
     "output_type": "stream",
     "text": [
      "a    0.195799\n",
      "b    0.267871\n",
      "c    0.084925\n",
      "d    0.149434\n",
      "e    0.593664\n",
      "dtype: float64\n",
      "0.19579899144535706\n",
      "True\n"
     ]
    }
   ],
   "source": [
    "data = np.random.rand(5)\n",
    "s = pd.Series(data, index = [\"a\", \"b\", \"c\", \"d\", \"e\"])\n",
    "print(s)\n",
    "print(s[\"a\"])\n",
    "print(\"c\" in s)"
   ],
   "metadata": {
    "collapsed": false,
    "ExecuteTime": {
     "end_time": "2023-08-22T06:52:13.493385900Z",
     "start_time": "2023-08-22T06:52:13.476013200Z"
    }
   }
  },
  {
   "cell_type": "markdown",
   "source": [
    "## DataFrame"
   ],
   "metadata": {
    "collapsed": false
   }
  },
  {
   "cell_type": "markdown",
   "source": [
    "DataFrame是由多种类型的列构成的二维标签数据结构, 类似于Excel, SQL表, 或者是Series对象构成的字典. 支持的多种类型的输入数据有:\n",
    "1. 一维ndarray, 列表, 字典, Series字典\n",
    "2. 二维numpy.ndarray\n",
    "3. Series\n",
    "4. DataFrame"
   ],
   "metadata": {
    "collapsed": false
   }
  },
  {
   "cell_type": "markdown",
   "source": [
    "除了数据, 还可以有选择地传递index(行标签)和columns(列标签)参数. 传递了索引或列, 就可以确保生成的DataFrame里包含索引或列"
   ],
   "metadata": {
    "collapsed": false
   }
  },
  {
   "cell_type": "markdown",
   "source": [
    "### 用Series字典或字典生成DataFrame"
   ],
   "metadata": {
    "collapsed": false
   }
  },
  {
   "cell_type": "markdown",
   "source": [
    "生成的索引是每个Series索引的并集, 先把嵌套字典转换为Series. 如果没有指定列, DataFrame列就是字典的键"
   ],
   "metadata": {
    "collapsed": false
   }
  },
  {
   "cell_type": "code",
   "execution_count": 32,
   "outputs": [
    {
     "data": {
      "text/plain": "   one  two\na  1.0    1\nb  2.0    2\nc  3.0    3\nd  NaN    4",
      "text/html": "<div>\n<style scoped>\n    .dataframe tbody tr th:only-of-type {\n        vertical-align: middle;\n    }\n\n    .dataframe tbody tr th {\n        vertical-align: top;\n    }\n\n    .dataframe thead th {\n        text-align: right;\n    }\n</style>\n<table border=\"1\" class=\"dataframe\">\n  <thead>\n    <tr style=\"text-align: right;\">\n      <th></th>\n      <th>one</th>\n      <th>two</th>\n    </tr>\n  </thead>\n  <tbody>\n    <tr>\n      <th>a</th>\n      <td>1.0</td>\n      <td>1</td>\n    </tr>\n    <tr>\n      <th>b</th>\n      <td>2.0</td>\n      <td>2</td>\n    </tr>\n    <tr>\n      <th>c</th>\n      <td>3.0</td>\n      <td>3</td>\n    </tr>\n    <tr>\n      <th>d</th>\n      <td>NaN</td>\n      <td>4</td>\n    </tr>\n  </tbody>\n</table>\n</div>"
     },
     "execution_count": 32,
     "metadata": {},
     "output_type": "execute_result"
    }
   ],
   "source": [
    "d = {\"one\": pd.Series([1, 2, 3], index=[\"a\", \"b\", \"c\"]), \"two\": pd.Series([1, 2, 3, 4], index=[\"a\", \"b\", \"c\", \"d\"])}\n",
    "df = pd.DataFrame(d)\n",
    "df"
   ],
   "metadata": {
    "collapsed": false,
    "ExecuteTime": {
     "end_time": "2023-08-22T07:09:51.433864300Z",
     "start_time": "2023-08-22T07:09:51.408578900Z"
    }
   }
  },
  {
   "cell_type": "code",
   "execution_count": 33,
   "outputs": [
    {
     "data": {
      "text/plain": "   two three\nd    4   NaN\nb    2   NaN\na    1   NaN",
      "text/html": "<div>\n<style scoped>\n    .dataframe tbody tr th:only-of-type {\n        vertical-align: middle;\n    }\n\n    .dataframe tbody tr th {\n        vertical-align: top;\n    }\n\n    .dataframe thead th {\n        text-align: right;\n    }\n</style>\n<table border=\"1\" class=\"dataframe\">\n  <thead>\n    <tr style=\"text-align: right;\">\n      <th></th>\n      <th>two</th>\n      <th>three</th>\n    </tr>\n  </thead>\n  <tbody>\n    <tr>\n      <th>d</th>\n      <td>4</td>\n      <td>NaN</td>\n    </tr>\n    <tr>\n      <th>b</th>\n      <td>2</td>\n      <td>NaN</td>\n    </tr>\n    <tr>\n      <th>a</th>\n      <td>1</td>\n      <td>NaN</td>\n    </tr>\n  </tbody>\n</table>\n</div>"
     },
     "execution_count": 33,
     "metadata": {},
     "output_type": "execute_result"
    }
   ],
   "source": [
    "# 指定行和列\n",
    "pd.DataFrame(d, index=[\"d\", \"b\", \"a\"], columns=[\"two\", \"three\"])"
   ],
   "metadata": {
    "collapsed": false,
    "ExecuteTime": {
     "end_time": "2023-08-22T07:12:25.151621800Z",
     "start_time": "2023-08-22T07:12:25.125894Z"
    }
   }
  }
 ],
 "metadata": {
  "kernelspec": {
   "display_name": "Python 3",
   "language": "python",
   "name": "python3"
  },
  "language_info": {
   "codemirror_mode": {
    "name": "ipython",
    "version": 2
   },
   "file_extension": ".py",
   "mimetype": "text/x-python",
   "name": "python",
   "nbconvert_exporter": "python",
   "pygments_lexer": "ipython2",
   "version": "2.7.6"
  }
 },
 "nbformat": 4,
 "nbformat_minor": 0
}
