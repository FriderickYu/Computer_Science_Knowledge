{
 "cells": [
  {
   "cell_type": "markdown",
   "source": [
    "Pandas入门文档"
   ],
   "metadata": {
    "collapsed": false
   }
  },
  {
   "cell_type": "markdown",
   "source": [
    "## 生成对象"
   ],
   "metadata": {
    "collapsed": false
   }
  },
  {
   "cell_type": "code",
   "execution_count": 2,
   "outputs": [
    {
     "name": "stdout",
     "output_type": "stream",
     "text": [
      "0    1.0\n",
      "1    3.0\n",
      "2    5.0\n",
      "3    NaN\n",
      "4    6.0\n",
      "5    8.0\n",
      "dtype: float64\n"
     ]
    }
   ],
   "source": [
    "# 用值列表生成Series时, Pandas默认自动生成整数索引\n",
    "import pandas as pd\n",
    "import numpy as np\n",
    "s = pd.Series([1, 3, 5, np.nan, 6, 8])\n",
    "print(s)"
   ],
   "metadata": {
    "collapsed": false,
    "ExecuteTime": {
     "end_time": "2023-08-22T07:40:54.917487300Z",
     "start_time": "2023-08-22T07:40:54.871715400Z"
    }
   }
  },
  {
   "cell_type": "code",
   "execution_count": 6,
   "outputs": [
    {
     "name": "stdout",
     "output_type": "stream",
     "text": [
      "DatetimeIndex(['2013-01-01', '2013-01-02', '2013-01-03', '2013-01-04',\n",
      "               '2013-01-05', '2013-01-06'],\n",
      "              dtype='datetime64[ns]', freq='D')\n"
     ]
    }
   ],
   "source": [
    "# 用含日期时间索引与标签的NumPy数组生成DataFrame\n",
    "dates = pd.date_range(\"20130101\", periods=6)\n",
    "print(dates)"
   ],
   "metadata": {
    "collapsed": false,
    "ExecuteTime": {
     "end_time": "2023-08-22T07:42:06.049868900Z",
     "start_time": "2023-08-22T07:42:06.039379200Z"
    }
   }
  },
  {
   "cell_type": "code",
   "execution_count": 10,
   "outputs": [
    {
     "data": {
      "text/plain": "                   A         B         C         D\n2013-01-01  0.193888  0.768638  0.988500  0.972023\n2013-01-02  0.575941  0.528082  0.169029  0.290966\n2013-01-03  0.750270  0.881129  0.063214  0.344896\n2013-01-04  0.183613  0.226129  0.226496  0.547569\n2013-01-05  0.374761  0.799724  0.746518  0.158145\n2013-01-06  0.557271  0.896360  0.313586  0.529015",
      "text/html": "<div>\n<style scoped>\n    .dataframe tbody tr th:only-of-type {\n        vertical-align: middle;\n    }\n\n    .dataframe tbody tr th {\n        vertical-align: top;\n    }\n\n    .dataframe thead th {\n        text-align: right;\n    }\n</style>\n<table border=\"1\" class=\"dataframe\">\n  <thead>\n    <tr style=\"text-align: right;\">\n      <th></th>\n      <th>A</th>\n      <th>B</th>\n      <th>C</th>\n      <th>D</th>\n    </tr>\n  </thead>\n  <tbody>\n    <tr>\n      <th>2013-01-01</th>\n      <td>0.193888</td>\n      <td>0.768638</td>\n      <td>0.988500</td>\n      <td>0.972023</td>\n    </tr>\n    <tr>\n      <th>2013-01-02</th>\n      <td>0.575941</td>\n      <td>0.528082</td>\n      <td>0.169029</td>\n      <td>0.290966</td>\n    </tr>\n    <tr>\n      <th>2013-01-03</th>\n      <td>0.750270</td>\n      <td>0.881129</td>\n      <td>0.063214</td>\n      <td>0.344896</td>\n    </tr>\n    <tr>\n      <th>2013-01-04</th>\n      <td>0.183613</td>\n      <td>0.226129</td>\n      <td>0.226496</td>\n      <td>0.547569</td>\n    </tr>\n    <tr>\n      <th>2013-01-05</th>\n      <td>0.374761</td>\n      <td>0.799724</td>\n      <td>0.746518</td>\n      <td>0.158145</td>\n    </tr>\n    <tr>\n      <th>2013-01-06</th>\n      <td>0.557271</td>\n      <td>0.896360</td>\n      <td>0.313586</td>\n      <td>0.529015</td>\n    </tr>\n  </tbody>\n</table>\n</div>"
     },
     "execution_count": 10,
     "metadata": {},
     "output_type": "execute_result"
    }
   ],
   "source": [
    "# 生成6行4列的数据, 列索引为ABCD, 行索引为日期\n",
    "df = pd.DataFrame(np.random.rand(6, 4), index=dates, columns=[\"A\", \"B\", \"C\", \"D\"])\n",
    "df"
   ],
   "metadata": {
    "collapsed": false,
    "ExecuteTime": {
     "end_time": "2023-08-22T07:44:23.128982900Z",
     "start_time": "2023-08-22T07:44:23.116791200Z"
    }
   }
  },
  {
   "cell_type": "code",
   "execution_count": 15,
   "outputs": [
    {
     "name": "stdout",
     "output_type": "stream",
     "text": [
      "                   A         B         C         D\n",
      "2013-01-01  0.193888  0.768638  0.988500  0.972023\n",
      "2013-01-02  0.575941  0.528082  0.169029  0.290966\n",
      "                   A        B         C         D\n",
      "2013-01-06  0.557271  0.89636  0.313586  0.529015\n"
     ]
    }
   ],
   "source": [
    "# 查看数据\n",
    "# df.head(n)查看前n行数据, 默认是前五行\n",
    "# df.tail(n)查看后n行数据, 默认是最后五行\n",
    "print(df.head(2))\n",
    "print(df.tail(1))"
   ],
   "metadata": {
    "collapsed": false,
    "ExecuteTime": {
     "end_time": "2023-08-22T07:47:34.749465900Z",
     "start_time": "2023-08-22T07:47:34.735376300Z"
    }
   }
  },
  {
   "cell_type": "code",
   "execution_count": 18,
   "outputs": [
    {
     "data": {
      "text/plain": "   2013-01-01  2013-01-02  2013-01-03  2013-01-04  2013-01-05  2013-01-06\nA    0.193888    0.575941    0.750270    0.183613    0.374761    0.557271\nB    0.768638    0.528082    0.881129    0.226129    0.799724    0.896360\nC    0.988500    0.169029    0.063214    0.226496    0.746518    0.313586\nD    0.972023    0.290966    0.344896    0.547569    0.158145    0.529015",
      "text/html": "<div>\n<style scoped>\n    .dataframe tbody tr th:only-of-type {\n        vertical-align: middle;\n    }\n\n    .dataframe tbody tr th {\n        vertical-align: top;\n    }\n\n    .dataframe thead th {\n        text-align: right;\n    }\n</style>\n<table border=\"1\" class=\"dataframe\">\n  <thead>\n    <tr style=\"text-align: right;\">\n      <th></th>\n      <th>2013-01-01</th>\n      <th>2013-01-02</th>\n      <th>2013-01-03</th>\n      <th>2013-01-04</th>\n      <th>2013-01-05</th>\n      <th>2013-01-06</th>\n    </tr>\n  </thead>\n  <tbody>\n    <tr>\n      <th>A</th>\n      <td>0.193888</td>\n      <td>0.575941</td>\n      <td>0.750270</td>\n      <td>0.183613</td>\n      <td>0.374761</td>\n      <td>0.557271</td>\n    </tr>\n    <tr>\n      <th>B</th>\n      <td>0.768638</td>\n      <td>0.528082</td>\n      <td>0.881129</td>\n      <td>0.226129</td>\n      <td>0.799724</td>\n      <td>0.896360</td>\n    </tr>\n    <tr>\n      <th>C</th>\n      <td>0.988500</td>\n      <td>0.169029</td>\n      <td>0.063214</td>\n      <td>0.226496</td>\n      <td>0.746518</td>\n      <td>0.313586</td>\n    </tr>\n    <tr>\n      <th>D</th>\n      <td>0.972023</td>\n      <td>0.290966</td>\n      <td>0.344896</td>\n      <td>0.547569</td>\n      <td>0.158145</td>\n      <td>0.529015</td>\n    </tr>\n  </tbody>\n</table>\n</div>"
     },
     "execution_count": 18,
     "metadata": {},
     "output_type": "execute_result"
    }
   ],
   "source": [
    "# 矩阵转置\n",
    "df.T"
   ],
   "metadata": {
    "collapsed": false,
    "ExecuteTime": {
     "end_time": "2023-08-22T07:55:21.782264100Z",
     "start_time": "2023-08-22T07:55:21.767426600Z"
    }
   }
  },
  {
   "cell_type": "code",
   "execution_count": 22,
   "outputs": [
    {
     "data": {
      "text/plain": "                   A         B         C         D\n2013-01-06  0.557271  0.896360  0.313586  0.529015\n2013-01-05  0.374761  0.799724  0.746518  0.158145\n2013-01-04  0.183613  0.226129  0.226496  0.547569\n2013-01-03  0.750270  0.881129  0.063214  0.344896\n2013-01-02  0.575941  0.528082  0.169029  0.290966\n2013-01-01  0.193888  0.768638  0.988500  0.972023",
      "text/html": "<div>\n<style scoped>\n    .dataframe tbody tr th:only-of-type {\n        vertical-align: middle;\n    }\n\n    .dataframe tbody tr th {\n        vertical-align: top;\n    }\n\n    .dataframe thead th {\n        text-align: right;\n    }\n</style>\n<table border=\"1\" class=\"dataframe\">\n  <thead>\n    <tr style=\"text-align: right;\">\n      <th></th>\n      <th>A</th>\n      <th>B</th>\n      <th>C</th>\n      <th>D</th>\n    </tr>\n  </thead>\n  <tbody>\n    <tr>\n      <th>2013-01-06</th>\n      <td>0.557271</td>\n      <td>0.896360</td>\n      <td>0.313586</td>\n      <td>0.529015</td>\n    </tr>\n    <tr>\n      <th>2013-01-05</th>\n      <td>0.374761</td>\n      <td>0.799724</td>\n      <td>0.746518</td>\n      <td>0.158145</td>\n    </tr>\n    <tr>\n      <th>2013-01-04</th>\n      <td>0.183613</td>\n      <td>0.226129</td>\n      <td>0.226496</td>\n      <td>0.547569</td>\n    </tr>\n    <tr>\n      <th>2013-01-03</th>\n      <td>0.750270</td>\n      <td>0.881129</td>\n      <td>0.063214</td>\n      <td>0.344896</td>\n    </tr>\n    <tr>\n      <th>2013-01-02</th>\n      <td>0.575941</td>\n      <td>0.528082</td>\n      <td>0.169029</td>\n      <td>0.290966</td>\n    </tr>\n    <tr>\n      <th>2013-01-01</th>\n      <td>0.193888</td>\n      <td>0.768638</td>\n      <td>0.988500</td>\n      <td>0.972023</td>\n    </tr>\n  </tbody>\n</table>\n</div>"
     },
     "execution_count": 22,
     "metadata": {},
     "output_type": "execute_result"
    }
   ],
   "source": [
    "# 按轴排序, axis=0按照行名排序， axis=1按照列名排序\n",
    "df.sort_index(axis=0, ascending=False)"
   ],
   "metadata": {
    "collapsed": false,
    "ExecuteTime": {
     "end_time": "2023-08-22T07:57:20.651484100Z",
     "start_time": "2023-08-22T07:57:20.629957500Z"
    }
   }
  },
  {
   "cell_type": "code",
   "execution_count": 24,
   "outputs": [
    {
     "data": {
      "text/plain": "                   A         B         C         D\n2013-01-06  0.557271  0.896360  0.313586  0.529015\n2013-01-03  0.750270  0.881129  0.063214  0.344896\n2013-01-05  0.374761  0.799724  0.746518  0.158145\n2013-01-01  0.193888  0.768638  0.988500  0.972023\n2013-01-02  0.575941  0.528082  0.169029  0.290966\n2013-01-04  0.183613  0.226129  0.226496  0.547569",
      "text/html": "<div>\n<style scoped>\n    .dataframe tbody tr th:only-of-type {\n        vertical-align: middle;\n    }\n\n    .dataframe tbody tr th {\n        vertical-align: top;\n    }\n\n    .dataframe thead th {\n        text-align: right;\n    }\n</style>\n<table border=\"1\" class=\"dataframe\">\n  <thead>\n    <tr style=\"text-align: right;\">\n      <th></th>\n      <th>A</th>\n      <th>B</th>\n      <th>C</th>\n      <th>D</th>\n    </tr>\n  </thead>\n  <tbody>\n    <tr>\n      <th>2013-01-06</th>\n      <td>0.557271</td>\n      <td>0.896360</td>\n      <td>0.313586</td>\n      <td>0.529015</td>\n    </tr>\n    <tr>\n      <th>2013-01-03</th>\n      <td>0.750270</td>\n      <td>0.881129</td>\n      <td>0.063214</td>\n      <td>0.344896</td>\n    </tr>\n    <tr>\n      <th>2013-01-05</th>\n      <td>0.374761</td>\n      <td>0.799724</td>\n      <td>0.746518</td>\n      <td>0.158145</td>\n    </tr>\n    <tr>\n      <th>2013-01-01</th>\n      <td>0.193888</td>\n      <td>0.768638</td>\n      <td>0.988500</td>\n      <td>0.972023</td>\n    </tr>\n    <tr>\n      <th>2013-01-02</th>\n      <td>0.575941</td>\n      <td>0.528082</td>\n      <td>0.169029</td>\n      <td>0.290966</td>\n    </tr>\n    <tr>\n      <th>2013-01-04</th>\n      <td>0.183613</td>\n      <td>0.226129</td>\n      <td>0.226496</td>\n      <td>0.547569</td>\n    </tr>\n  </tbody>\n</table>\n</div>"
     },
     "execution_count": 24,
     "metadata": {},
     "output_type": "execute_result"
    }
   ],
   "source": [
    "# 按值排序\n",
    "df.sort_values(by=\"B\", ascending=False)"
   ],
   "metadata": {
    "collapsed": false,
    "ExecuteTime": {
     "end_time": "2023-08-22T08:41:04.272634800Z",
     "start_time": "2023-08-22T08:41:04.254361700Z"
    }
   }
  },
  {
   "cell_type": "markdown",
   "source": [
    "## 按标签选择"
   ],
   "metadata": {
    "collapsed": false
   }
  },
  {
   "cell_type": "markdown",
   "source": [
    "`loc[]`是根据DataFrame的行标和列表进行数据的少选, 其接受的两个参数: 行标和列标， 当标被忽略时, 默认获取整行/列数据"
   ],
   "metadata": {
    "collapsed": false
   }
  },
  {
   "cell_type": "code",
   "execution_count": 35,
   "outputs": [
    {
     "data": {
      "text/plain": "A    0.193888\nB    0.768638\nC    0.988500\nD    0.972023\nName: 2013-01-01 00:00:00, dtype: float64"
     },
     "execution_count": 35,
     "metadata": {},
     "output_type": "execute_result"
    }
   ],
   "source": [
    "df.loc[dates[0]]"
   ],
   "metadata": {
    "collapsed": false,
    "ExecuteTime": {
     "end_time": "2023-08-22T08:50:25.828938700Z",
     "start_time": "2023-08-22T08:50:25.810647600Z"
    }
   }
  },
  {
   "cell_type": "code",
   "execution_count": 36,
   "outputs": [
    {
     "data": {
      "text/plain": "                   A         B\n2013-01-01  0.193888  0.768638\n2013-01-02  0.575941  0.528082\n2013-01-03  0.750270  0.881129\n2013-01-04  0.183613  0.226129\n2013-01-05  0.374761  0.799724\n2013-01-06  0.557271  0.896360",
      "text/html": "<div>\n<style scoped>\n    .dataframe tbody tr th:only-of-type {\n        vertical-align: middle;\n    }\n\n    .dataframe tbody tr th {\n        vertical-align: top;\n    }\n\n    .dataframe thead th {\n        text-align: right;\n    }\n</style>\n<table border=\"1\" class=\"dataframe\">\n  <thead>\n    <tr style=\"text-align: right;\">\n      <th></th>\n      <th>A</th>\n      <th>B</th>\n    </tr>\n  </thead>\n  <tbody>\n    <tr>\n      <th>2013-01-01</th>\n      <td>0.193888</td>\n      <td>0.768638</td>\n    </tr>\n    <tr>\n      <th>2013-01-02</th>\n      <td>0.575941</td>\n      <td>0.528082</td>\n    </tr>\n    <tr>\n      <th>2013-01-03</th>\n      <td>0.750270</td>\n      <td>0.881129</td>\n    </tr>\n    <tr>\n      <th>2013-01-04</th>\n      <td>0.183613</td>\n      <td>0.226129</td>\n    </tr>\n    <tr>\n      <th>2013-01-05</th>\n      <td>0.374761</td>\n      <td>0.799724</td>\n    </tr>\n    <tr>\n      <th>2013-01-06</th>\n      <td>0.557271</td>\n      <td>0.896360</td>\n    </tr>\n  </tbody>\n</table>\n</div>"
     },
     "execution_count": 36,
     "metadata": {},
     "output_type": "execute_result"
    }
   ],
   "source": [
    "# 用标签选择多列数据\n",
    "df.loc[:, [\"A\", \"B\"]]"
   ],
   "metadata": {
    "collapsed": false,
    "ExecuteTime": {
     "end_time": "2023-08-22T08:50:26.032112800Z",
     "start_time": "2023-08-22T08:50:26.017529Z"
    }
   }
  },
  {
   "cell_type": "markdown",
   "source": [
    "## 按位置选择"
   ],
   "metadata": {
    "collapsed": false
   }
  },
  {
   "cell_type": "code",
   "execution_count": 34,
   "outputs": [
    {
     "data": {
      "text/plain": "Empty DataFrame\nColumns: [A, B, C, D]\nIndex: []",
      "text/html": "<div>\n<style scoped>\n    .dataframe tbody tr th:only-of-type {\n        vertical-align: middle;\n    }\n\n    .dataframe tbody tr th {\n        vertical-align: top;\n    }\n\n    .dataframe thead th {\n        text-align: right;\n    }\n</style>\n<table border=\"1\" class=\"dataframe\">\n  <thead>\n    <tr style=\"text-align: right;\">\n      <th></th>\n      <th>A</th>\n      <th>B</th>\n      <th>C</th>\n      <th>D</th>\n    </tr>\n  </thead>\n  <tbody>\n  </tbody>\n</table>\n</div>"
     },
     "execution_count": 34,
     "metadata": {},
     "output_type": "execute_result"
    }
   ],
   "source": [
    "df.iloc[3]"
   ],
   "metadata": {
    "collapsed": false,
    "ExecuteTime": {
     "end_time": "2023-08-22T08:50:17.417620900Z",
     "start_time": "2023-08-22T08:50:17.404269700Z"
    }
   }
  },
  {
   "cell_type": "code",
   "execution_count": null,
   "outputs": [],
   "source": [],
   "metadata": {
    "collapsed": false
   }
  }
 ],
 "metadata": {
  "kernelspec": {
   "display_name": "Python 3",
   "language": "python",
   "name": "python3"
  },
  "language_info": {
   "codemirror_mode": {
    "name": "ipython",
    "version": 2
   },
   "file_extension": ".py",
   "mimetype": "text/x-python",
   "name": "python",
   "nbconvert_exporter": "python",
   "pygments_lexer": "ipython2",
   "version": "2.7.6"
  }
 },
 "nbformat": 4,
 "nbformat_minor": 0
}
